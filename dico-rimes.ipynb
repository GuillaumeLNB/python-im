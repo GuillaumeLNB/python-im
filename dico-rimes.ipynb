{
 "cells": [
  {
   "cell_type": "markdown",
   "metadata": {},
   "source": [
    "# Dictionnaire de rimes"
   ]
  },
  {
   "cell_type": "markdown",
   "metadata": {},
   "source": [
    "Nous allons essayer de construire un dictionnaire de rimes à partir de la ressource [lexique 3.80](http://www.lexique.org/).\n",
    "À l'aide de la fonction 'recherche par propriété' nous avons pu extraire les mots portant la catégorie 'NOM' du lexique et récupérer pour chacun d'entre les informations suivantes : ortho, phon, lemme, cgram, genre, nombre\n",
    "\n",
    "Dans le fichier `noms-lexique.org.txt` nous avons (5 premières lignes) :"
   ]
  },
  {
   "cell_type": "code",
   "execution_count": 9,
   "metadata": {
    "collapsed": false
   },
   "outputs": [
    {
     "name": "stdout",
     "output_type": "stream",
     "text": [
      "ortho\tphon\tlemme\tcgram\tgenre\tnombre\t\n",
      "\n",
      "a\ta\ta\tNOM\tm\t\t\n",
      "\n",
      "a priori\tapRijoRi\ta priori\tNOM\tm\t\t\n",
      "\n",
      "à-côté\takote\tà-côté\tNOM\tm\ts\t\n",
      "\n",
      "à-côtés\takote\tà-côté\tNOM\tm\tp\t\n",
      "\n"
     ]
    }
   ],
   "source": [
    "with open('noms-lexique.org.txt', 'r') as f:\n",
    "    for i in range(0, 5):\n",
    "        line = f.readline()\n",
    "        print(line)"
   ]
  },
  {
   "cell_type": "markdown",
   "metadata": {},
   "source": [
    "Notre dictionnaire de rimes devra *in fine* permettre de trouver les rimes possibles d'un mot c-a-d les noms qui ont la même terminaison phonétique.\n",
    "Pour cela nous devrons conserver deux informations du fichier : ortho et phon  \n",
    "Commençons pour ça."
   ]
  },
  {
   "cell_type": "markdown",
   "metadata": {},
   "source": [
    " ## Extraction des données"
   ]
  },
  {
   "cell_type": "markdown",
   "metadata": {},
   "source": [
    "Nous allons parcourir l'intégralité du fichier et ne récupérer que les informations ortho et phon  \n",
    "C'est un fichier au format `tsv`, les champs sont séparés par une tabulation."
   ]
  },
  {
   "cell_type": "code",
   "execution_count": 11,
   "metadata": {
    "collapsed": false
   },
   "outputs": [
    {
     "data": {
      "text/plain": [
       "[('à-côtés', 'akote'), ('à-coup', 'aku'), ('à-coups', 'aku')]"
      ]
     },
     "execution_count": 11,
     "metadata": {},
     "output_type": "execute_result"
    }
   ],
   "source": [
    "words = []\n",
    "with open('noms-lexique.org.txt', 'r') as f:\n",
    "    f.readline() # première ligne\n",
    "    for line in f:\n",
    "        fields = line.split('\\t')\n",
    "        ortho = fields[0]\n",
    "        phon = fields[1]\n",
    "        words.append((ortho, phon))\n",
    "words[3:6]"
   ]
  },
  {
   "cell_type": "markdown",
   "metadata": {},
   "source": [
    "On peut synthétiser un peu le code à l'aide des tranches"
   ]
  },
  {
   "cell_type": "code",
   "execution_count": 13,
   "metadata": {
    "collapsed": false
   },
   "outputs": [
    {
     "data": {
      "text/plain": [
       "[('à-côtés', 'akote'), ('à-coup', 'aku'), ('à-coups', 'aku')]"
      ]
     },
     "execution_count": 13,
     "metadata": {},
     "output_type": "execute_result"
    }
   ],
   "source": [
    "words = []\n",
    "with open('noms-lexique.org.txt', 'r') as f:\n",
    "    f.readline() # première ligne\n",
    "    for line in f:\n",
    "        (ortho, phon) = line.split('\\t')[0:2]\n",
    "        words.append((ortho, phon))\n",
    "words[3:6]"
   ]
  },
  {
   "cell_type": "markdown",
   "metadata": {},
   "source": [
    "Hop, on emballe dans une fonction :"
   ]
  },
  {
   "cell_type": "code",
   "execution_count": null,
   "metadata": {
    "collapsed": true
   },
   "outputs": [],
   "source": [
    "def extract(file):\n",
    "    \"\"\"Extrait du fichier arguement les deux premiers champs\n",
    "    arg : fichier au format tsv\n",
    "    return : list de tuples (ortho, phon)\n",
    "    \"\"\"\n",
    "    \n",
    "    return words"
   ]
  },
  {
   "cell_type": "markdown",
   "metadata": {},
   "source": [
    "## Constitution de la structure de données"
   ]
  },
  {
   "cell_type": "markdown",
   "metadata": {},
   "source": [
    "Nous voulons classer les noms de notre liste en fonction des phonèmes de terminaison.  \n",
    "Et cela selon trois classement différents : par suite de 3 phonèmes, 2 phonèmes et enfin un phonème.  "
   ]
  },
  {
   "cell_type": "markdown",
   "metadata": {},
   "source": [
    "## Parcours et recherche dans la structure de données"
   ]
  },
  {
   "cell_type": "markdown",
   "metadata": {},
   "source": [
    "## Exemple"
   ]
  },
  {
   "cell_type": "markdown",
   "metadata": {},
   "source": [
    "Nous allons utiliser notre dictionnaire de rimes pour modifier la première strophe de Brise Marine de Mallarmé :  \n",
    "\n",
    "La chair est triste, hélas ! et j'ai lu tous les livres.  \n",
    "Fuir ! là-bas fuir! Je sens que des oiseaux sont ivres  \n",
    "D'être parmi l'écume inconnue et les cieux !  \n",
    "Rien, ni les vieux jardins reflétés par les yeux  \n",
    "Ne retiendra ce coeur qui dans la mer se trempe  \n",
    "Ô nuits ! ni la clarté déserte de ma lampe  \n",
    "Sur le vide papier que la blancheur défend  \n",
    "Et ni la jeune femme allaitant son enfant.  \n",
    "Je partirai ! Steamer balançant ta mâture,  \n",
    "Lève l'ancre pour une exotique nature !  \n",
    "\n"
   ]
  },
  {
   "cell_type": "markdown",
   "metadata": {},
   "source": [
    "L'idée est remplacer le dernier mot de chaque vers par un mot pioché au hasard dans notre dictionnaire de rimes.\n",
    "On prendra d'abord un mot dans la liste des rimes à 3 phonèmes puis une deuxième version à 2 phonèmes."
   ]
  },
  {
   "cell_type": "code",
   "execution_count": null,
   "metadata": {
    "collapsed": true
   },
   "outputs": [],
   "source": []
  }
 ],
 "metadata": {
  "kernelspec": {
   "display_name": "Python 3",
   "language": "python",
   "name": "python3"
  },
  "language_info": {
   "codemirror_mode": {
    "name": "ipython",
    "version": 3
   },
   "file_extension": ".py",
   "mimetype": "text/x-python",
   "name": "python",
   "nbconvert_exporter": "python",
   "pygments_lexer": "ipython3",
   "version": "3.5.2+"
  }
 },
 "nbformat": 4,
 "nbformat_minor": 0
}
