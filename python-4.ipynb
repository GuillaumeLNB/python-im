{
 "cells": [
  {
   "cell_type": "markdown",
   "metadata": {
    "slideshow": {
     "slide_type": "slide"
    }
   },
   "source": [
    "# Langages de script - Python\n",
    "\n",
    "## Cours 4 - Fonctions et module re\n",
    "\n",
    "### M2 Ingénierie Multilingue - INaLCO\n",
    "\n",
    "Clément Plancq - clement.plancq@ens.fr"
   ]
  },
  {
   "cell_type": "markdown",
   "metadata": {
    "slideshow": {
     "slide_type": "slide"
    }
   },
   "source": [
    "# Fonctions\n",
    "\n",
    "- elles ont un nom, prennent des arguments, font un traitement et renvoient une valeur\n",
    "\n",
    "- elles doivent être documentées. En Python on utilise les docstrings"
   ]
  },
  {
   "cell_type": "code",
   "execution_count": null,
   "metadata": {
    "slideshow": {
     "slide_type": "fragment"
    }
   },
   "outputs": [],
   "source": [
    "def ma_fonction(arg1, arg2):\n",
    "    \"\"\"\n",
    "    La documentation de ma fonction\n",
    "    Sur plusieurs lignes si je veux\n",
    "    \"\"\"\n",
    "    return"
   ]
  },
  {
   "cell_type": "markdown",
   "metadata": {
    "slideshow": {
     "slide_type": "fragment"
    }
   },
   "source": [
    "- Les docstrings sont accessibles dans la console avec help(ma_fonction) ou dans le script via l'attribut `__doc__`: `ma_fonction.__doc__`\n",
    "\n",
    "- Les générateurs de documentation comme [sphinx](http://www.sphinx-doc.org) utilisent les docstrings"
   ]
  },
  {
   "cell_type": "markdown",
   "metadata": {
    "slideshow": {
     "slide_type": "subslide"
    }
   },
   "source": [
    "# Fonctions : arguments\n",
    "\n",
    "## Arguments positionnels"
   ]
  },
  {
   "cell_type": "code",
   "execution_count": null,
   "metadata": {
    "slideshow": {
     "slide_type": "-"
    }
   },
   "outputs": [],
   "source": [
    "def retranche(arg1, arg2):\n",
    "    \"\"\"Une soustraction quoi\"\"\"\n",
    "    return arg1 - arg2"
   ]
  },
  {
   "cell_type": "code",
   "execution_count": null,
   "metadata": {
    "slideshow": {
     "slide_type": "fragment"
    }
   },
   "outputs": [],
   "source": [
    "retranche(4, 2)"
   ]
  },
  {
   "cell_type": "code",
   "execution_count": null,
   "metadata": {
    "slideshow": {
     "slide_type": "-"
    }
   },
   "outputs": [],
   "source": [
    "retranche(2, 4)"
   ]
  },
  {
   "cell_type": "markdown",
   "metadata": {
    "slideshow": {
     "slide_type": "subslide"
    }
   },
   "source": [
    "# Fonctions : arguments\n",
    "\n",
    "## Arguments avec valeurs par défaut\n",
    "\n",
    "Ici arg1 est obligatoire, arg2 est facultatif"
   ]
  },
  {
   "cell_type": "code",
   "execution_count": null,
   "metadata": {
    "slideshow": {
     "slide_type": "-"
    }
   },
   "outputs": [],
   "source": [
    "def retranche(arg1, arg2=1):\n",
    "    \"\"\"Une soustraction quoi\"\"\"\n",
    "    return arg1 - arg2"
   ]
  },
  {
   "cell_type": "code",
   "execution_count": null,
   "metadata": {
    "slideshow": {
     "slide_type": "fragment"
    }
   },
   "outputs": [],
   "source": [
    "retranche(4, 1)"
   ]
  },
  {
   "cell_type": "code",
   "execution_count": null,
   "metadata": {
    "slideshow": {
     "slide_type": "-"
    }
   },
   "outputs": [],
   "source": [
    "retranche(4)"
   ]
  },
  {
   "cell_type": "markdown",
   "metadata": {
    "slideshow": {
     "slide_type": "slide"
    }
   },
   "source": [
    "# Fonctions : arguments\n",
    "\n",
    "## Arguments nommés (keywords arguments aka kwargs)\n",
    "\n",
    "- Les fonctions peuvent aussi être appelées avec des arguments nommés\n",
    "- Dans ce cas l'ordre n'a pas d'importance\n",
    "- On peut mélanger les deux, mais alors les keywords doivent être en dernier"
   ]
  },
  {
   "cell_type": "code",
   "execution_count": null,
   "metadata": {
    "slideshow": {
     "slide_type": "fragment"
    }
   },
   "outputs": [],
   "source": [
    "def retranche(arg1, arg2=1):\n",
    "    \"\"\"Une soustraction quoi\"\"\"\n",
    "    return arg1 - arg2"
   ]
  },
  {
   "cell_type": "code",
   "execution_count": null,
   "metadata": {
    "slideshow": {
     "slide_type": "fragment"
    }
   },
   "outputs": [],
   "source": [
    "retranche(arg1=4, arg2=2)"
   ]
  },
  {
   "cell_type": "code",
   "execution_count": null,
   "metadata": {
    "slideshow": {
     "slide_type": "-"
    }
   },
   "outputs": [],
   "source": [
    "retranche(arg2=2, arg1=4)"
   ]
  },
  {
   "cell_type": "code",
   "execution_count": null,
   "metadata": {
    "slideshow": {
     "slide_type": "-"
    }
   },
   "outputs": [],
   "source": [
    "retranche(4, arg2=3)"
   ]
  },
  {
   "cell_type": "markdown",
   "metadata": {
    "slideshow": {
     "slide_type": "slide"
    }
   },
   "source": [
    "# Fonctions : arguments\n",
    "\n",
    "## Nombre d'arguments arbitraire"
   ]
  },
  {
   "cell_type": "code",
   "execution_count": null,
   "metadata": {
    "slideshow": {
     "slide_type": "-"
    }
   },
   "outputs": [],
   "source": [
    "def print_artist(name, *records):\n",
    "    print(name)\n",
    "    for item in records:\n",
    "        print(item)\n",
    "print_artist(\"Neil Young\", \"Ragged Glory\", \"Harvest Moon\")"
   ]
  },
  {
   "cell_type": "markdown",
   "metadata": {
    "slideshow": {
     "slide_type": "subslide"
    }
   },
   "source": [
    "# Fonctions : arguments\n",
    "\n",
    "## Nombre d'arguments arbitraire\n",
    "\n",
    "On peut aussi utiliser des kwargs (keyword arguments)"
   ]
  },
  {
   "cell_type": "code",
   "execution_count": null,
   "metadata": {
    "slideshow": {
     "slide_type": "-"
    }
   },
   "outputs": [],
   "source": [
    "def print_artist(name, *records, **concerts):\n",
    "    print(name)\n",
    "    for item in records:\n",
    "        print(item)\n",
    "    for place, date in concerts.items():\n",
    "        print(place, date)\n",
    "print_artist(\"Neil Young\", \"Ragged Glory\", \"Harvest Moon\", Paris='12/10/2016', Albuquerque=\"14/11/2016\")"
   ]
  },
  {
   "cell_type": "markdown",
   "metadata": {
    "slideshow": {
     "slide_type": "slide"
    }
   },
   "source": [
    "# Fonctions : portée des variables\n",
    "\n",
    "- Les variables déclarées dans le corps d'une fonction ont une portée locale à la fonction\n",
    "\n",
    "- Les variables globales (c-à-d dans le main) sont accessibles en lecture dans une fonction\n",
    "\n",
    "- Pour modifier une variable globale dans une fonction il faut la faire précéder du mot-clé `global`\n",
    "    - Souvent source de bug, à éviter\n",
    "\n",
    "- Les variables passées en arguments ne sont pas modifiées par la fonction"
   ]
  },
  {
   "cell_type": "markdown",
   "metadata": {
    "slideshow": {
     "slide_type": "slide"
    }
   },
   "source": [
    "# ATTENTION !\n",
    "\n",
    "## Argument mutable\n",
    "\n",
    "Les arguments de type `mutable` (`list`, `dictionnaire`) peuvent être modifiés par la fonction"
   ]
  },
  {
   "cell_type": "code",
   "execution_count": null,
   "metadata": {
    "slideshow": {
     "slide_type": "-"
    }
   },
   "outputs": [],
   "source": [
    "def ma_fonction(val, list):\n",
    "    list.append(val)\n",
    "    return list\n",
    "list = [1, 2, 3]"
   ]
  },
  {
   "cell_type": "code",
   "execution_count": null,
   "metadata": {
    "slideshow": {
     "slide_type": "fragment"
    }
   },
   "outputs": [],
   "source": [
    "ma_fonction(4, list)"
   ]
  },
  {
   "cell_type": "code",
   "execution_count": null,
   "metadata": {
    "slideshow": {
     "slide_type": "-"
    }
   },
   "outputs": [],
   "source": [
    "ma_fonction(4, list)"
   ]
  },
  {
   "cell_type": "markdown",
   "metadata": {
    "slideshow": {
     "slide_type": "subslide"
    }
   },
   "source": [
    "# ATTENTION !\n",
    "\n",
    "## Argument mutable\n",
    "\n",
    "Si ce n'est pas le comportement voulu il faut penser à faire une copie de la liste"
   ]
  },
  {
   "cell_type": "code",
   "execution_count": null,
   "metadata": {
    "slideshow": {
     "slide_type": "-"
    }
   },
   "outputs": [],
   "source": [
    "list = [1, 2, 3]\n",
    "ma_fonction(4, list[:])"
   ]
  },
  {
   "cell_type": "markdown",
   "metadata": {
    "slideshow": {
     "slide_type": "slide"
    }
   },
   "source": [
    "# Module `re`\n",
    "\n",
    "- `re` est un module particulièrement important, vous devez lire la [doc](https://docs.python.org/3/library/re.html), absolument\n",
    "\n",
    "- La doc officielle est parfois aride, ce [howto](https://docs.python.org/3.6/howto/regex.html) rédigé par A.M. Kuchling est plus digeste"
   ]
  },
  {
   "cell_type": "markdown",
   "metadata": {
    "slideshow": {
     "slide_type": "subslide"
    }
   },
   "source": [
    "# Module `re`\n",
    "\n",
    "a minima vous devez connaître les fonctions :\n",
    "\n",
    "- `compile` : compilation d'un motif (pattern), retourne un objet `Pattern`\n",
    "- `findall` : trouve toutes les occurences du motif, retourne une liste de chaînes trouvées\n",
    "- `search` : trouve le motif, retourne un objet `Match`, `None` sinon\n",
    "- `match` : détermine si le motif est présent au début de la chaîne, retourne un objet `Match`, `None` sinon\n",
    "- `split` : découpe une chaîne selon un motif, retourne une liste de chaînes\n",
    "- `sub` : remplace les occurences d'un motif par une chaîne de remplacement"
   ]
  },
  {
   "cell_type": "markdown",
   "metadata": {
    "slideshow": {
     "slide_type": "slide"
    }
   },
   "source": [
    "# Module `re`\n",
    "\n",
    "## Avec compilation du motif"
   ]
  },
  {
   "cell_type": "code",
   "execution_count": null,
   "metadata": {
    "slideshow": {
     "slide_type": "-"
    }
   },
   "outputs": [],
   "source": [
    "pat = re.compile(\"(\\w|\\s)+\")\n",
    "if pat.search(\"Un léopard me pourchasse\"):\n",
    "    print(\"Cours !\")"
   ]
  },
  {
   "cell_type": "markdown",
   "metadata": {
    "slideshow": {
     "slide_type": "fragment"
    }
   },
   "source": [
    "## Sans compilation"
   ]
  },
  {
   "cell_type": "code",
   "execution_count": null,
   "metadata": {
    "slideshow": {
     "slide_type": "-"
    }
   },
   "outputs": [],
   "source": [
    "if re.search(\"(\\w|\\s)+\", \"Un léopard me pourchasse\"):\n",
    "    print(\"Cours !\")"
   ]
  },
  {
   "cell_type": "code",
   "execution_count": null,
   "metadata": {
    "slideshow": {
     "slide_type": "-"
    }
   },
   "outputs": [],
   "source": [
    "pat = re.compile('e|é')\n",
    "pat.sub('i', 'éléphanteau')"
   ]
  },
  {
   "cell_type": "markdown",
   "metadata": {
    "slideshow": {
     "slide_type": "slide"
    }
   },
   "source": [
    "# Module `re`\n",
    "\n",
    "## `\\w` et Python3\n",
    "\n",
    "`\\w` est la classe prédéfinie des caractères alaphanumériques :\n",
    "\n",
    "- En Python2 `\\w` correspond à `[A-Za-z0-9_]`, avec les locales il est possible d'y ajouter d'autres caractères\n",
    "\n",
    "- En Python3 `\\w` correspond à tous les caractères qui ont la propriété Unicode Letter d'après le module `unicodedata` (sauf si le motif est compilé en binaire ou si l'option `re.ASCII` est activée)"
   ]
  },
  {
   "cell_type": "code",
   "execution_count": null,
   "metadata": {},
   "outputs": [],
   "source": [
    "if re.search(\"(\\w|\\s)+\", \"馬青區團長成中央代表\"):\n",
    "    print(\"Yeah !\")"
   ]
  },
  {
   "cell_type": "code",
   "execution_count": null,
   "metadata": {},
   "outputs": [],
   "source": [
    "if re.search(\"(\\w|\\s)+\", \"هيلاري كلينتون\"):\n",
    "    print(\"Yeah !\")"
   ]
  },
  {
   "cell_type": "markdown",
   "metadata": {
    "slideshow": {
     "slide_type": "slide"
    }
   },
   "source": [
    "# Module `re`\n",
    "\n",
    "## Les fonctions match et search renvoient un objet Match\n",
    "\n",
    "L'objet est évalué comme True s'il est testé mais il peut livrer plus d'informations :\n",
    "\n",
    "- `m.group()` la chaîne trouvée (matchée)\n",
    "- `m.start()` l'indice de la position initiale de la chaîne\n",
    "- `m.end()` l'indice de la position finale de la chaîne\n",
    "- `m.span()` le tuple indice début, fin de la chaîne"
   ]
  },
  {
   "cell_type": "code",
   "execution_count": null,
   "metadata": {
    "slideshow": {
     "slide_type": "fragment"
    }
   },
   "outputs": [],
   "source": [
    "m = re.search(\"l[ae]s?\", \"Après la pluie, le beau temps\")\n",
    "m.group()"
   ]
  },
  {
   "cell_type": "markdown",
   "metadata": {
    "slideshow": {
     "slide_type": "subslide"
    }
   },
   "source": [
    "# Module `re`\n",
    "\n",
    "## Les fonctions match et search renvoient un objet Match\n",
    "\n",
    "Si le motif comporte des groupes de capture :\n",
    "- `m.group(1)` renvoie la chaîne correspond au 1er groupe, etc.\n",
    "- `m.groups()` renvoie un tuple comportant autant d'éléments qu'il y a de groupes"
   ]
  },
  {
   "cell_type": "code",
   "execution_count": null,
   "metadata": {
    "slideshow": {
     "slide_type": "fragment"
    }
   },
   "outputs": [],
   "source": [
    "m = re.search(\"(l[ae]s?)\\s(\\w+)\", \"Après la pluie, le beau temps\")\n",
    "m.groups()"
   ]
  },
  {
   "cell_type": "markdown",
   "metadata": {
    "slideshow": {
     "slide_type": "slide"
    }
   },
   "source": [
    "# Module `re`\n",
    "\n",
    "- Remplacer les articles 'le' ou 'Le' par 'un' dans la phrase : « Le soir est le moment de la journée où le jour touche à sa fin »\n",
    "\n",
    "- Trouver dans le [fichier d'export csv de lexique.org](noms-lexique.org.txt) les noms dont le lemme se termine par '-ure'. Affichez la liste des formes : ortho / phon / lemme\n",
    "\n",
    "- À l'aide du module `requests` trouver les liens hypertextes présents dans la page `https://www.reddit.com/r/Python/`. Affichez la liste suivante : ancre: lien"
   ]
  },
  {
   "cell_type": "markdown",
   "metadata": {
    "slideshow": {
     "slide_type": "slide"
    }
   },
   "source": [
    "# Exos\n",
    "\n",
    "1. Le suffixe `-able` (ou `-ible` ou `-uble`) est utilisé pour former des adjectifs à partir des verbes. Vous travaillerez avec les données de [lexique3.81](http://lexique.org/telLexique.php)\n",
    "    1. Pour chaque verbe du premier groupe (utilisez le lemme) vous vérifierez s'il existe un adjectif en -able. Vous donnerez les décomptes en résultat (combien de verbes avec adjectif -able, combien sans)\n",
    "    2. Pour chaque adjectif en -able vous vérifierez s'il existe un dérivé négatif (in-X-able, touchable/intouchable par ex.). En plus de l'affichage des comptes vous donnerez le pourcentage d'adjectifs en -able pour lesquels le dérivé négatif est plus fréquent (utilisez la colonne '7_freqlemfilms2).\n",
    "\n",
    "2. Codin Game : [Racing duals](https://www.codingame.com/ide/puzzle/horse-racing-duals)"
   ]
  }
 ],
 "metadata": {
  "celltoolbar": "Slideshow",
  "kernelspec": {
   "display_name": "Python 3",
   "language": "python",
   "name": "python3"
  },
  "language_info": {
   "codemirror_mode": {
    "name": "ipython",
    "version": 3
   },
   "file_extension": ".py",
   "mimetype": "text/x-python",
   "name": "python",
   "nbconvert_exporter": "python",
   "pygments_lexer": "ipython3",
   "version": "3.6.5"
  }
 },
 "nbformat": 4,
 "nbformat_minor": 2
}
