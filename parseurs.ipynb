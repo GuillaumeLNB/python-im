{
 "cells": [
  {
   "cell_type": "markdown",
   "metadata": {},
   "source": [
    "# Parseurs\n",
    "\n",
    "Dans ce notebook nous utiliserons le parseur [lxml](http://lxml.de/) qui est un binding de libxml2 et [Beautiful Soup](https://www.crummy.com/software/BeautifulSoup/) "
   ]
  },
  {
   "cell_type": "markdown",
   "metadata": {},
   "source": [
    "## Parser de l'html\n",
    "\n",
    "Beautiful Soup nous permet de parser simplement du contenu html. Même si le contenu est mal formé, le module bs reconstitue un arbre et offre des fonctions faciles à utiliser pour parcourir l'arbre ou y rechercher des éléments.  \n",
    "Beautiful Soup n'est pas un parseur, il utilise les parseurs et offre une API simplifiée à ses utilisateurs."
   ]
  },
  {
   "cell_type": "markdown",
   "metadata": {},
   "source": [
    "Nous travaillerons directement avec du contenu en ligne. Fini les exercices bidons, cette fois nous allons nous confronter à une question essentielle : combien d'accordages *open tuning* Neil Young utilise et comment sont-ils répartis dans son oeuvre ?  \n",
    "On trouve les infos sur les chansons de Neil Young et les accordages sur le fabuleux site [songx.se](http://songx.se/index.php)"
   ]
  },
  {
   "cell_type": "markdown",
   "metadata": {},
   "source": [
    "Avec le module `urllib` nous allons pouvoir instancier un objet Beautiful Soup sans trop d'efforts"
   ]
  },
  {
   "cell_type": "code",
   "execution_count": 1,
   "metadata": {
    "collapsed": false
   },
   "outputs": [],
   "source": [
    "from urllib.request import urlopen\n",
    "from bs4 import BeautifulSoup\n",
    "\n",
    "url = \"http://songx.se/index.php\"\n",
    "html = urlopen(url)\n",
    "soup = BeautifulSoup(html.read(), 'lxml')"
   ]
  },
  {
   "cell_type": "markdown",
   "metadata": {},
   "source": [
    "Voilà nous avons maintenant un objet `soup` de classe Beautiful Soup.  \n",
    "La [doc](https://www.crummy.com/software/BeautifulSoup/bs4/doc/) est très claire."
   ]
  },
  {
   "cell_type": "code",
   "execution_count": 3,
   "metadata": {
    "collapsed": false
   },
   "outputs": [
    {
     "name": "stdout",
     "output_type": "stream",
     "text": [
      "<title>SongX.se - The Neil Young Songbook</title>\n",
      "title\n",
      "SongX.se - The Neil Young Songbook\n"
     ]
    }
   ],
   "source": [
    "# je cherche l'élement avec le tag 'title'\n",
    "print(soup.title)\n",
    "# le tag de l'élément\n",
    "print(soup.title.name)\n",
    "# le contenu textuel de l'élément\n",
    "print(soup.title.string)"
   ]
  },
  {
   "cell_type": "markdown",
   "metadata": {},
   "source": [
    "Les informations qui nous intéressent sont contenues dans des éléments comme celui-ci :  \n",
    "    `<div class=\"songrow\"><a href=\"?song=505\">Clementine</a> <small>(cover)</small><div style=\"float:right;\">EADGBE</div></div>`  \n",
    "Où on trouve 1. le nom de la chanson ('Clementine') et l'accord utilisé ('EADGBE')  \n",
    "Pour trouver ces éléments dans l'arbre nous allons utiliser la méthode `find_all`. La méthode renvoie un iterable."
   ]
  },
  {
   "cell_type": "code",
   "execution_count": 4,
   "metadata": {
    "collapsed": false
   },
   "outputs": [
    {
     "name": "stdout",
     "output_type": "stream",
     "text": [
      "1956 Bubblegum Disaster EADGBE\n",
      "A Dream That Can Last EADGBE\n",
      "A Man Needs A Maid EADGBE\n",
      "A Man Needs A Maid/Heart Of Gold (Suite) EADGBE\n",
      "A New Day For Love EADGBE\n",
      "A Rock Star Bucks A Coffee Shop EADGBE\n",
      "Act Of Love EADGBE\n",
      "After Berlin DADGBD\n",
      "After The Garden EADGBE\n",
      "After The Gold Rush EADGBE\n"
     ]
    }
   ],
   "source": [
    "for item in soup.find_all('div', attrs={'class':'songrow'})[:10]:\n",
    "    print(item.a.string, item.div.string)\n",
    "# on peut aussi utiliser la notation suivante\n",
    "#for item in soup.find_all('div', class_=\"songrow\"):"
   ]
  },
  {
   "cell_type": "code",
   "execution_count": 5,
   "metadata": {
    "collapsed": false
   },
   "outputs": [],
   "source": [
    "# notre structure de données résultat\n",
    "# un dictionnaire avec en clé l'accordage et en valeur la liste des chansons qui utilisent cet accordage\n",
    "tunings = dict()\n",
    "for item in soup.find_all('div', attrs={'class':'songrow'}):\n",
    "    song_title = item.a.string\n",
    "    tuning = item.div.string\n",
    "    if tuning in tunings:\n",
    "        tunings[tuning].append(song_title)\n",
    "    else:\n",
    "        tunings[tuning] = [song_title]"
   ]
  },
  {
   "cell_type": "markdown",
   "metadata": {},
   "source": [
    "'Harvest Moon' utilise l'accordage DADGBE, y en a-t'il d'autres ?"
   ]
  },
  {
   "cell_type": "code",
   "execution_count": 6,
   "metadata": {
    "collapsed": false
   },
   "outputs": [
    {
     "data": {
      "text/plain": [
       "['Albuquerque',\n",
       " 'Angry World',\n",
       " 'Captain Kennedy',\n",
       " \"Daddy Went Walkin'\",\n",
       " 'Dirty Old Man',\n",
       " 'Give Me Strength',\n",
       " 'Harvest Moon',\n",
       " 'He Was The King',\n",
       " 'Homegrown',\n",
       " 'Like An Inca',\n",
       " 'Live To Ride',\n",
       " 'New Mama',\n",
       " 'Night Song',\n",
       " 'Ohio',\n",
       " 'Prime Of Life',\n",
       " 'Silver & Gold',\n",
       " 'Sleeps With Angels',\n",
       " 'Star Of Betlehem',\n",
       " 'The Ways Of Love',\n",
       " \"Tonight's The Night\",\n",
       " 'World On A String',\n",
       " 'You And Me']"
      ]
     },
     "execution_count": 6,
     "metadata": {},
     "output_type": "execute_result"
    }
   ],
   "source": [
    "tunings['DADGBE']"
   ]
  },
  {
   "cell_type": "markdown",
   "metadata": {},
   "source": [
    "Combien de chansons pour chaque accordage ?"
   ]
  },
  {
   "cell_type": "code",
   "execution_count": 7,
   "metadata": {
    "collapsed": false
   },
   "outputs": [
    {
     "name": "stdout",
     "output_type": "stream",
     "text": [
      "EADGBE: 464\n",
      "DADGBD: 30\n",
      "DGCFAD: 23\n",
      "DADGBE: 22\n",
      "CGCFAC: 2\n",
      "CGCFAD: 2\n",
      "EbAbDbGbBb: 1\n",
      "DGCFAA: 1\n",
      "BbFBbEbGBb: 1\n"
     ]
    }
   ],
   "source": [
    "for tuning in sorted(tunings.keys(), key=lambda x: len(tunings[x]), reverse=True):\n",
    "    print(\"{}: {}\".format(tuning, len(tunings[tuning])))"
   ]
  },
  {
   "cell_type": "markdown",
   "metadata": {},
   "source": [
    "Allez hop un histogramme"
   ]
  },
  {
   "cell_type": "code",
   "execution_count": 8,
   "metadata": {
    "collapsed": false
   },
   "outputs": [
    {
     "data": {
      "application/javascript": [
       "/* Put everything inside the global mpl namespace */\n",
       "window.mpl = {};\n",
       "\n",
       "mpl.get_websocket_type = function() {\n",
       "    if (typeof(WebSocket) !== 'undefined') {\n",
       "        return WebSocket;\n",
       "    } else if (typeof(MozWebSocket) !== 'undefined') {\n",
       "        return MozWebSocket;\n",
       "    } else {\n",
       "        alert('Your browser does not have WebSocket support.' +\n",
       "              'Please try Chrome, Safari or Firefox ≥ 6. ' +\n",
       "              'Firefox 4 and 5 are also supported but you ' +\n",
       "              'have to enable WebSockets in about:config.');\n",
       "    };\n",
       "}\n",
       "\n",
       "mpl.figure = function(figure_id, websocket, ondownload, parent_element) {\n",
       "    this.id = figure_id;\n",
       "\n",
       "    this.ws = websocket;\n",
       "\n",
       "    this.supports_binary = (this.ws.binaryType != undefined);\n",
       "\n",
       "    if (!this.supports_binary) {\n",
       "        var warnings = document.getElementById(\"mpl-warnings\");\n",
       "        if (warnings) {\n",
       "            warnings.style.display = 'block';\n",
       "            warnings.textContent = (\n",
       "                \"This browser does not support binary websocket messages. \" +\n",
       "                    \"Performance may be slow.\");\n",
       "        }\n",
       "    }\n",
       "\n",
       "    this.imageObj = new Image();\n",
       "\n",
       "    this.context = undefined;\n",
       "    this.message = undefined;\n",
       "    this.canvas = undefined;\n",
       "    this.rubberband_canvas = undefined;\n",
       "    this.rubberband_context = undefined;\n",
       "    this.format_dropdown = undefined;\n",
       "\n",
       "    this.image_mode = 'full';\n",
       "\n",
       "    this.root = $('<div/>');\n",
       "    this._root_extra_style(this.root)\n",
       "    this.root.attr('style', 'display: inline-block');\n",
       "\n",
       "    $(parent_element).append(this.root);\n",
       "\n",
       "    this._init_header(this);\n",
       "    this._init_canvas(this);\n",
       "    this._init_toolbar(this);\n",
       "\n",
       "    var fig = this;\n",
       "\n",
       "    this.waiting = false;\n",
       "\n",
       "    this.ws.onopen =  function () {\n",
       "            fig.send_message(\"supports_binary\", {value: fig.supports_binary});\n",
       "            fig.send_message(\"send_image_mode\", {});\n",
       "            fig.send_message(\"refresh\", {});\n",
       "        }\n",
       "\n",
       "    this.imageObj.onload = function() {\n",
       "            if (fig.image_mode == 'full') {\n",
       "                // Full images could contain transparency (where diff images\n",
       "                // almost always do), so we need to clear the canvas so that\n",
       "                // there is no ghosting.\n",
       "                fig.context.clearRect(0, 0, fig.canvas.width, fig.canvas.height);\n",
       "            }\n",
       "            fig.context.drawImage(fig.imageObj, 0, 0);\n",
       "        };\n",
       "\n",
       "    this.imageObj.onunload = function() {\n",
       "        this.ws.close();\n",
       "    }\n",
       "\n",
       "    this.ws.onmessage = this._make_on_message_function(this);\n",
       "\n",
       "    this.ondownload = ondownload;\n",
       "}\n",
       "\n",
       "mpl.figure.prototype._init_header = function() {\n",
       "    var titlebar = $(\n",
       "        '<div class=\"ui-dialog-titlebar ui-widget-header ui-corner-all ' +\n",
       "        'ui-helper-clearfix\"/>');\n",
       "    var titletext = $(\n",
       "        '<div class=\"ui-dialog-title\" style=\"width: 100%; ' +\n",
       "        'text-align: center; padding: 3px;\"/>');\n",
       "    titlebar.append(titletext)\n",
       "    this.root.append(titlebar);\n",
       "    this.header = titletext[0];\n",
       "}\n",
       "\n",
       "\n",
       "\n",
       "mpl.figure.prototype._canvas_extra_style = function(canvas_div) {\n",
       "\n",
       "}\n",
       "\n",
       "\n",
       "mpl.figure.prototype._root_extra_style = function(canvas_div) {\n",
       "\n",
       "}\n",
       "\n",
       "mpl.figure.prototype._init_canvas = function() {\n",
       "    var fig = this;\n",
       "\n",
       "    var canvas_div = $('<div/>');\n",
       "\n",
       "    canvas_div.attr('style', 'position: relative; clear: both; outline: 0');\n",
       "\n",
       "    function canvas_keyboard_event(event) {\n",
       "        return fig.key_event(event, event['data']);\n",
       "    }\n",
       "\n",
       "    canvas_div.keydown('key_press', canvas_keyboard_event);\n",
       "    canvas_div.keyup('key_release', canvas_keyboard_event);\n",
       "    this.canvas_div = canvas_div\n",
       "    this._canvas_extra_style(canvas_div)\n",
       "    this.root.append(canvas_div);\n",
       "\n",
       "    var canvas = $('<canvas/>');\n",
       "    canvas.addClass('mpl-canvas');\n",
       "    canvas.attr('style', \"left: 0; top: 0; z-index: 0; outline: 0\")\n",
       "\n",
       "    this.canvas = canvas[0];\n",
       "    this.context = canvas[0].getContext(\"2d\");\n",
       "\n",
       "    var rubberband = $('<canvas/>');\n",
       "    rubberband.attr('style', \"position: absolute; left: 0; top: 0; z-index: 1;\")\n",
       "\n",
       "    var pass_mouse_events = true;\n",
       "\n",
       "    canvas_div.resizable({\n",
       "        start: function(event, ui) {\n",
       "            pass_mouse_events = false;\n",
       "        },\n",
       "        resize: function(event, ui) {\n",
       "            fig.request_resize(ui.size.width, ui.size.height);\n",
       "        },\n",
       "        stop: function(event, ui) {\n",
       "            pass_mouse_events = true;\n",
       "            fig.request_resize(ui.size.width, ui.size.height);\n",
       "        },\n",
       "    });\n",
       "\n",
       "    function mouse_event_fn(event) {\n",
       "        if (pass_mouse_events)\n",
       "            return fig.mouse_event(event, event['data']);\n",
       "    }\n",
       "\n",
       "    rubberband.mousedown('button_press', mouse_event_fn);\n",
       "    rubberband.mouseup('button_release', mouse_event_fn);\n",
       "    // Throttle sequential mouse events to 1 every 20ms.\n",
       "    rubberband.mousemove('motion_notify', mouse_event_fn);\n",
       "\n",
       "    rubberband.mouseenter('figure_enter', mouse_event_fn);\n",
       "    rubberband.mouseleave('figure_leave', mouse_event_fn);\n",
       "\n",
       "    canvas_div.on(\"wheel\", function (event) {\n",
       "        event = event.originalEvent;\n",
       "        event['data'] = 'scroll'\n",
       "        if (event.deltaY < 0) {\n",
       "            event.step = 1;\n",
       "        } else {\n",
       "            event.step = -1;\n",
       "        }\n",
       "        mouse_event_fn(event);\n",
       "    });\n",
       "\n",
       "    canvas_div.append(canvas);\n",
       "    canvas_div.append(rubberband);\n",
       "\n",
       "    this.rubberband = rubberband;\n",
       "    this.rubberband_canvas = rubberband[0];\n",
       "    this.rubberband_context = rubberband[0].getContext(\"2d\");\n",
       "    this.rubberband_context.strokeStyle = \"#000000\";\n",
       "\n",
       "    this._resize_canvas = function(width, height) {\n",
       "        // Keep the size of the canvas, canvas container, and rubber band\n",
       "        // canvas in synch.\n",
       "        canvas_div.css('width', width)\n",
       "        canvas_div.css('height', height)\n",
       "\n",
       "        canvas.attr('width', width);\n",
       "        canvas.attr('height', height);\n",
       "\n",
       "        rubberband.attr('width', width);\n",
       "        rubberband.attr('height', height);\n",
       "    }\n",
       "\n",
       "    // Set the figure to an initial 600x600px, this will subsequently be updated\n",
       "    // upon first draw.\n",
       "    this._resize_canvas(600, 600);\n",
       "\n",
       "    // Disable right mouse context menu.\n",
       "    $(this.rubberband_canvas).bind(\"contextmenu\",function(e){\n",
       "        return false;\n",
       "    });\n",
       "\n",
       "    function set_focus () {\n",
       "        canvas.focus();\n",
       "        canvas_div.focus();\n",
       "    }\n",
       "\n",
       "    window.setTimeout(set_focus, 100);\n",
       "}\n",
       "\n",
       "mpl.figure.prototype._init_toolbar = function() {\n",
       "    var fig = this;\n",
       "\n",
       "    var nav_element = $('<div/>')\n",
       "    nav_element.attr('style', 'width: 100%');\n",
       "    this.root.append(nav_element);\n",
       "\n",
       "    // Define a callback function for later on.\n",
       "    function toolbar_event(event) {\n",
       "        return fig.toolbar_button_onclick(event['data']);\n",
       "    }\n",
       "    function toolbar_mouse_event(event) {\n",
       "        return fig.toolbar_button_onmouseover(event['data']);\n",
       "    }\n",
       "\n",
       "    for(var toolbar_ind in mpl.toolbar_items) {\n",
       "        var name = mpl.toolbar_items[toolbar_ind][0];\n",
       "        var tooltip = mpl.toolbar_items[toolbar_ind][1];\n",
       "        var image = mpl.toolbar_items[toolbar_ind][2];\n",
       "        var method_name = mpl.toolbar_items[toolbar_ind][3];\n",
       "\n",
       "        if (!name) {\n",
       "            // put a spacer in here.\n",
       "            continue;\n",
       "        }\n",
       "        var button = $('<button/>');\n",
       "        button.addClass('ui-button ui-widget ui-state-default ui-corner-all ' +\n",
       "                        'ui-button-icon-only');\n",
       "        button.attr('role', 'button');\n",
       "        button.attr('aria-disabled', 'false');\n",
       "        button.click(method_name, toolbar_event);\n",
       "        button.mouseover(tooltip, toolbar_mouse_event);\n",
       "\n",
       "        var icon_img = $('<span/>');\n",
       "        icon_img.addClass('ui-button-icon-primary ui-icon');\n",
       "        icon_img.addClass(image);\n",
       "        icon_img.addClass('ui-corner-all');\n",
       "\n",
       "        var tooltip_span = $('<span/>');\n",
       "        tooltip_span.addClass('ui-button-text');\n",
       "        tooltip_span.html(tooltip);\n",
       "\n",
       "        button.append(icon_img);\n",
       "        button.append(tooltip_span);\n",
       "\n",
       "        nav_element.append(button);\n",
       "    }\n",
       "\n",
       "    var fmt_picker_span = $('<span/>');\n",
       "\n",
       "    var fmt_picker = $('<select/>');\n",
       "    fmt_picker.addClass('mpl-toolbar-option ui-widget ui-widget-content');\n",
       "    fmt_picker_span.append(fmt_picker);\n",
       "    nav_element.append(fmt_picker_span);\n",
       "    this.format_dropdown = fmt_picker[0];\n",
       "\n",
       "    for (var ind in mpl.extensions) {\n",
       "        var fmt = mpl.extensions[ind];\n",
       "        var option = $(\n",
       "            '<option/>', {selected: fmt === mpl.default_extension}).html(fmt);\n",
       "        fmt_picker.append(option)\n",
       "    }\n",
       "\n",
       "    // Add hover states to the ui-buttons\n",
       "    $( \".ui-button\" ).hover(\n",
       "        function() { $(this).addClass(\"ui-state-hover\");},\n",
       "        function() { $(this).removeClass(\"ui-state-hover\");}\n",
       "    );\n",
       "\n",
       "    var status_bar = $('<span class=\"mpl-message\"/>');\n",
       "    nav_element.append(status_bar);\n",
       "    this.message = status_bar[0];\n",
       "}\n",
       "\n",
       "mpl.figure.prototype.request_resize = function(x_pixels, y_pixels) {\n",
       "    // Request matplotlib to resize the figure. Matplotlib will then trigger a resize in the client,\n",
       "    // which will in turn request a refresh of the image.\n",
       "    this.send_message('resize', {'width': x_pixels, 'height': y_pixels});\n",
       "}\n",
       "\n",
       "mpl.figure.prototype.send_message = function(type, properties) {\n",
       "    properties['type'] = type;\n",
       "    properties['figure_id'] = this.id;\n",
       "    this.ws.send(JSON.stringify(properties));\n",
       "}\n",
       "\n",
       "mpl.figure.prototype.send_draw_message = function() {\n",
       "    if (!this.waiting) {\n",
       "        this.waiting = true;\n",
       "        this.ws.send(JSON.stringify({type: \"draw\", figure_id: this.id}));\n",
       "    }\n",
       "}\n",
       "\n",
       "\n",
       "mpl.figure.prototype.handle_save = function(fig, msg) {\n",
       "    var format_dropdown = fig.format_dropdown;\n",
       "    var format = format_dropdown.options[format_dropdown.selectedIndex].value;\n",
       "    fig.ondownload(fig, format);\n",
       "}\n",
       "\n",
       "\n",
       "mpl.figure.prototype.handle_resize = function(fig, msg) {\n",
       "    var size = msg['size'];\n",
       "    if (size[0] != fig.canvas.width || size[1] != fig.canvas.height) {\n",
       "        fig._resize_canvas(size[0], size[1]);\n",
       "        fig.send_message(\"refresh\", {});\n",
       "    };\n",
       "}\n",
       "\n",
       "mpl.figure.prototype.handle_rubberband = function(fig, msg) {\n",
       "    var x0 = msg['x0'];\n",
       "    var y0 = fig.canvas.height - msg['y0'];\n",
       "    var x1 = msg['x1'];\n",
       "    var y1 = fig.canvas.height - msg['y1'];\n",
       "    x0 = Math.floor(x0) + 0.5;\n",
       "    y0 = Math.floor(y0) + 0.5;\n",
       "    x1 = Math.floor(x1) + 0.5;\n",
       "    y1 = Math.floor(y1) + 0.5;\n",
       "    var min_x = Math.min(x0, x1);\n",
       "    var min_y = Math.min(y0, y1);\n",
       "    var width = Math.abs(x1 - x0);\n",
       "    var height = Math.abs(y1 - y0);\n",
       "\n",
       "    fig.rubberband_context.clearRect(\n",
       "        0, 0, fig.canvas.width, fig.canvas.height);\n",
       "\n",
       "    fig.rubberband_context.strokeRect(min_x, min_y, width, height);\n",
       "}\n",
       "\n",
       "mpl.figure.prototype.handle_figure_label = function(fig, msg) {\n",
       "    // Updates the figure title.\n",
       "    fig.header.textContent = msg['label'];\n",
       "}\n",
       "\n",
       "mpl.figure.prototype.handle_cursor = function(fig, msg) {\n",
       "    var cursor = msg['cursor'];\n",
       "    switch(cursor)\n",
       "    {\n",
       "    case 0:\n",
       "        cursor = 'pointer';\n",
       "        break;\n",
       "    case 1:\n",
       "        cursor = 'default';\n",
       "        break;\n",
       "    case 2:\n",
       "        cursor = 'crosshair';\n",
       "        break;\n",
       "    case 3:\n",
       "        cursor = 'move';\n",
       "        break;\n",
       "    }\n",
       "    fig.rubberband_canvas.style.cursor = cursor;\n",
       "}\n",
       "\n",
       "mpl.figure.prototype.handle_message = function(fig, msg) {\n",
       "    fig.message.textContent = msg['message'];\n",
       "}\n",
       "\n",
       "mpl.figure.prototype.handle_draw = function(fig, msg) {\n",
       "    // Request the server to send over a new figure.\n",
       "    fig.send_draw_message();\n",
       "}\n",
       "\n",
       "mpl.figure.prototype.handle_image_mode = function(fig, msg) {\n",
       "    fig.image_mode = msg['mode'];\n",
       "}\n",
       "\n",
       "mpl.figure.prototype.updated_canvas_event = function() {\n",
       "    // Called whenever the canvas gets updated.\n",
       "    this.send_message(\"ack\", {});\n",
       "}\n",
       "\n",
       "// A function to construct a web socket function for onmessage handling.\n",
       "// Called in the figure constructor.\n",
       "mpl.figure.prototype._make_on_message_function = function(fig) {\n",
       "    return function socket_on_message(evt) {\n",
       "        if (evt.data instanceof Blob) {\n",
       "            /* FIXME: We get \"Resource interpreted as Image but\n",
       "             * transferred with MIME type text/plain:\" errors on\n",
       "             * Chrome.  But how to set the MIME type?  It doesn't seem\n",
       "             * to be part of the websocket stream */\n",
       "            evt.data.type = \"image/png\";\n",
       "\n",
       "            /* Free the memory for the previous frames */\n",
       "            if (fig.imageObj.src) {\n",
       "                (window.URL || window.webkitURL).revokeObjectURL(\n",
       "                    fig.imageObj.src);\n",
       "            }\n",
       "\n",
       "            fig.imageObj.src = (window.URL || window.webkitURL).createObjectURL(\n",
       "                evt.data);\n",
       "            fig.updated_canvas_event();\n",
       "            fig.waiting = false;\n",
       "            return;\n",
       "        }\n",
       "        else if (typeof evt.data === 'string' && evt.data.slice(0, 21) == \"data:image/png;base64\") {\n",
       "            fig.imageObj.src = evt.data;\n",
       "            fig.updated_canvas_event();\n",
       "            fig.waiting = false;\n",
       "            return;\n",
       "        }\n",
       "\n",
       "        var msg = JSON.parse(evt.data);\n",
       "        var msg_type = msg['type'];\n",
       "\n",
       "        // Call the  \"handle_{type}\" callback, which takes\n",
       "        // the figure and JSON message as its only arguments.\n",
       "        try {\n",
       "            var callback = fig[\"handle_\" + msg_type];\n",
       "        } catch (e) {\n",
       "            console.log(\"No handler for the '\" + msg_type + \"' message type: \", msg);\n",
       "            return;\n",
       "        }\n",
       "\n",
       "        if (callback) {\n",
       "            try {\n",
       "                // console.log(\"Handling '\" + msg_type + \"' message: \", msg);\n",
       "                callback(fig, msg);\n",
       "            } catch (e) {\n",
       "                console.log(\"Exception inside the 'handler_\" + msg_type + \"' callback:\", e, e.stack, msg);\n",
       "            }\n",
       "        }\n",
       "    };\n",
       "}\n",
       "\n",
       "// from http://stackoverflow.com/questions/1114465/getting-mouse-location-in-canvas\n",
       "mpl.findpos = function(e) {\n",
       "    //this section is from http://www.quirksmode.org/js/events_properties.html\n",
       "    var targ;\n",
       "    if (!e)\n",
       "        e = window.event;\n",
       "    if (e.target)\n",
       "        targ = e.target;\n",
       "    else if (e.srcElement)\n",
       "        targ = e.srcElement;\n",
       "    if (targ.nodeType == 3) // defeat Safari bug\n",
       "        targ = targ.parentNode;\n",
       "\n",
       "    // jQuery normalizes the pageX and pageY\n",
       "    // pageX,Y are the mouse positions relative to the document\n",
       "    // offset() returns the position of the element relative to the document\n",
       "    var x = e.pageX - $(targ).offset().left;\n",
       "    var y = e.pageY - $(targ).offset().top;\n",
       "\n",
       "    return {\"x\": x, \"y\": y};\n",
       "};\n",
       "\n",
       "/*\n",
       " * return a copy of an object with only non-object keys\n",
       " * we need this to avoid circular references\n",
       " * http://stackoverflow.com/a/24161582/3208463\n",
       " */\n",
       "function simpleKeys (original) {\n",
       "  return Object.keys(original).reduce(function (obj, key) {\n",
       "    if (typeof original[key] !== 'object')\n",
       "        obj[key] = original[key]\n",
       "    return obj;\n",
       "  }, {});\n",
       "}\n",
       "\n",
       "mpl.figure.prototype.mouse_event = function(event, name) {\n",
       "    var canvas_pos = mpl.findpos(event)\n",
       "\n",
       "    if (name === 'button_press')\n",
       "    {\n",
       "        this.canvas.focus();\n",
       "        this.canvas_div.focus();\n",
       "    }\n",
       "\n",
       "    var x = canvas_pos.x;\n",
       "    var y = canvas_pos.y;\n",
       "\n",
       "    this.send_message(name, {x: x, y: y, button: event.button,\n",
       "                             step: event.step,\n",
       "                             guiEvent: simpleKeys(event)});\n",
       "\n",
       "    /* This prevents the web browser from automatically changing to\n",
       "     * the text insertion cursor when the button is pressed.  We want\n",
       "     * to control all of the cursor setting manually through the\n",
       "     * 'cursor' event from matplotlib */\n",
       "    event.preventDefault();\n",
       "    return false;\n",
       "}\n",
       "\n",
       "mpl.figure.prototype._key_event_extra = function(event, name) {\n",
       "    // Handle any extra behaviour associated with a key event\n",
       "}\n",
       "\n",
       "mpl.figure.prototype.key_event = function(event, name) {\n",
       "\n",
       "    // Prevent repeat events\n",
       "    if (name == 'key_press')\n",
       "    {\n",
       "        if (event.which === this._key)\n",
       "            return;\n",
       "        else\n",
       "            this._key = event.which;\n",
       "    }\n",
       "    if (name == 'key_release')\n",
       "        this._key = null;\n",
       "\n",
       "    var value = '';\n",
       "    if (event.ctrlKey && event.which != 17)\n",
       "        value += \"ctrl+\";\n",
       "    if (event.altKey && event.which != 18)\n",
       "        value += \"alt+\";\n",
       "    if (event.shiftKey && event.which != 16)\n",
       "        value += \"shift+\";\n",
       "\n",
       "    value += 'k';\n",
       "    value += event.which.toString();\n",
       "\n",
       "    this._key_event_extra(event, name);\n",
       "\n",
       "    this.send_message(name, {key: value,\n",
       "                             guiEvent: simpleKeys(event)});\n",
       "    return false;\n",
       "}\n",
       "\n",
       "mpl.figure.prototype.toolbar_button_onclick = function(name) {\n",
       "    if (name == 'download') {\n",
       "        this.handle_save(this, null);\n",
       "    } else {\n",
       "        this.send_message(\"toolbar_button\", {name: name});\n",
       "    }\n",
       "};\n",
       "\n",
       "mpl.figure.prototype.toolbar_button_onmouseover = function(tooltip) {\n",
       "    this.message.textContent = tooltip;\n",
       "};\n",
       "mpl.toolbar_items = [[\"Home\", \"Reset original view\", \"fa fa-home icon-home\", \"home\"], [\"Back\", \"Back to  previous view\", \"fa fa-arrow-left icon-arrow-left\", \"back\"], [\"Forward\", \"Forward to next view\", \"fa fa-arrow-right icon-arrow-right\", \"forward\"], [\"\", \"\", \"\", \"\"], [\"Pan\", \"Pan axes with left mouse, zoom with right\", \"fa fa-arrows icon-move\", \"pan\"], [\"Zoom\", \"Zoom to rectangle\", \"fa fa-square-o icon-check-empty\", \"zoom\"], [\"\", \"\", \"\", \"\"], [\"Download\", \"Download plot\", \"fa fa-floppy-o icon-save\", \"download\"]];\n",
       "\n",
       "mpl.extensions = [\"eps\", \"jpeg\", \"pdf\", \"png\", \"ps\", \"raw\", \"svg\", \"tif\"];\n",
       "\n",
       "mpl.default_extension = \"png\";var comm_websocket_adapter = function(comm) {\n",
       "    // Create a \"websocket\"-like object which calls the given IPython comm\n",
       "    // object with the appropriate methods. Currently this is a non binary\n",
       "    // socket, so there is still some room for performance tuning.\n",
       "    var ws = {};\n",
       "\n",
       "    ws.close = function() {\n",
       "        comm.close()\n",
       "    };\n",
       "    ws.send = function(m) {\n",
       "        //console.log('sending', m);\n",
       "        comm.send(m);\n",
       "    };\n",
       "    // Register the callback with on_msg.\n",
       "    comm.on_msg(function(msg) {\n",
       "        //console.log('receiving', msg['content']['data'], msg);\n",
       "        // Pass the mpl event to the overriden (by mpl) onmessage function.\n",
       "        ws.onmessage(msg['content']['data'])\n",
       "    });\n",
       "    return ws;\n",
       "}\n",
       "\n",
       "mpl.mpl_figure_comm = function(comm, msg) {\n",
       "    // This is the function which gets called when the mpl process\n",
       "    // starts-up an IPython Comm through the \"matplotlib\" channel.\n",
       "\n",
       "    var id = msg.content.data.id;\n",
       "    // Get hold of the div created by the display call when the Comm\n",
       "    // socket was opened in Python.\n",
       "    var element = $(\"#\" + id);\n",
       "    var ws_proxy = comm_websocket_adapter(comm)\n",
       "\n",
       "    function ondownload(figure, format) {\n",
       "        window.open(figure.imageObj.src);\n",
       "    }\n",
       "\n",
       "    var fig = new mpl.figure(id, ws_proxy,\n",
       "                           ondownload,\n",
       "                           element.get(0));\n",
       "\n",
       "    // Call onopen now - mpl needs it, as it is assuming we've passed it a real\n",
       "    // web socket which is closed, not our websocket->open comm proxy.\n",
       "    ws_proxy.onopen();\n",
       "\n",
       "    fig.parent_element = element.get(0);\n",
       "    fig.cell_info = mpl.find_output_cell(\"<div id='\" + id + \"'></div>\");\n",
       "    if (!fig.cell_info) {\n",
       "        console.error(\"Failed to find cell for figure\", id, fig);\n",
       "        return;\n",
       "    }\n",
       "\n",
       "    var output_index = fig.cell_info[2]\n",
       "    var cell = fig.cell_info[0];\n",
       "\n",
       "};\n",
       "\n",
       "mpl.figure.prototype.handle_close = function(fig, msg) {\n",
       "    fig.root.unbind('remove')\n",
       "\n",
       "    // Update the output cell to use the data from the current canvas.\n",
       "    fig.push_to_output();\n",
       "    var dataURL = fig.canvas.toDataURL();\n",
       "    // Re-enable the keyboard manager in IPython - without this line, in FF,\n",
       "    // the notebook keyboard shortcuts fail.\n",
       "    IPython.keyboard_manager.enable()\n",
       "    $(fig.parent_element).html('<img src=\"' + dataURL + '\">');\n",
       "    fig.close_ws(fig, msg);\n",
       "}\n",
       "\n",
       "mpl.figure.prototype.close_ws = function(fig, msg){\n",
       "    fig.send_message('closing', msg);\n",
       "    // fig.ws.close()\n",
       "}\n",
       "\n",
       "mpl.figure.prototype.push_to_output = function(remove_interactive) {\n",
       "    // Turn the data on the canvas into data in the output cell.\n",
       "    var dataURL = this.canvas.toDataURL();\n",
       "    this.cell_info[1]['text/html'] = '<img src=\"' + dataURL + '\">';\n",
       "}\n",
       "\n",
       "mpl.figure.prototype.updated_canvas_event = function() {\n",
       "    // Tell IPython that the notebook contents must change.\n",
       "    IPython.notebook.set_dirty(true);\n",
       "    this.send_message(\"ack\", {});\n",
       "    var fig = this;\n",
       "    // Wait a second, then push the new image to the DOM so\n",
       "    // that it is saved nicely (might be nice to debounce this).\n",
       "    setTimeout(function () { fig.push_to_output() }, 1000);\n",
       "}\n",
       "\n",
       "mpl.figure.prototype._init_toolbar = function() {\n",
       "    var fig = this;\n",
       "\n",
       "    var nav_element = $('<div/>')\n",
       "    nav_element.attr('style', 'width: 100%');\n",
       "    this.root.append(nav_element);\n",
       "\n",
       "    // Define a callback function for later on.\n",
       "    function toolbar_event(event) {\n",
       "        return fig.toolbar_button_onclick(event['data']);\n",
       "    }\n",
       "    function toolbar_mouse_event(event) {\n",
       "        return fig.toolbar_button_onmouseover(event['data']);\n",
       "    }\n",
       "\n",
       "    for(var toolbar_ind in mpl.toolbar_items){\n",
       "        var name = mpl.toolbar_items[toolbar_ind][0];\n",
       "        var tooltip = mpl.toolbar_items[toolbar_ind][1];\n",
       "        var image = mpl.toolbar_items[toolbar_ind][2];\n",
       "        var method_name = mpl.toolbar_items[toolbar_ind][3];\n",
       "\n",
       "        if (!name) { continue; };\n",
       "\n",
       "        var button = $('<button class=\"btn btn-default\" href=\"#\" title=\"' + name + '\"><i class=\"fa ' + image + ' fa-lg\"></i></button>');\n",
       "        button.click(method_name, toolbar_event);\n",
       "        button.mouseover(tooltip, toolbar_mouse_event);\n",
       "        nav_element.append(button);\n",
       "    }\n",
       "\n",
       "    // Add the status bar.\n",
       "    var status_bar = $('<span class=\"mpl-message\" style=\"text-align:right; float: right;\"/>');\n",
       "    nav_element.append(status_bar);\n",
       "    this.message = status_bar[0];\n",
       "\n",
       "    // Add the close button to the window.\n",
       "    var buttongrp = $('<div class=\"btn-group inline pull-right\"></div>');\n",
       "    var button = $('<button class=\"btn btn-mini btn-primary\" href=\"#\" title=\"Stop Interaction\"><i class=\"fa fa-power-off icon-remove icon-large\"></i></button>');\n",
       "    button.click(function (evt) { fig.handle_close(fig, {}); } );\n",
       "    button.mouseover('Stop Interaction', toolbar_mouse_event);\n",
       "    buttongrp.append(button);\n",
       "    var titlebar = this.root.find($('.ui-dialog-titlebar'));\n",
       "    titlebar.prepend(buttongrp);\n",
       "}\n",
       "\n",
       "mpl.figure.prototype._root_extra_style = function(el){\n",
       "    var fig = this\n",
       "    el.on(\"remove\", function(){\n",
       "\tfig.close_ws(fig, {});\n",
       "    });\n",
       "}\n",
       "\n",
       "mpl.figure.prototype._canvas_extra_style = function(el){\n",
       "    // this is important to make the div 'focusable\n",
       "    el.attr('tabindex', 0)\n",
       "    // reach out to IPython and tell the keyboard manager to turn it's self\n",
       "    // off when our div gets focus\n",
       "\n",
       "    // location in version 3\n",
       "    if (IPython.notebook.keyboard_manager) {\n",
       "        IPython.notebook.keyboard_manager.register_events(el);\n",
       "    }\n",
       "    else {\n",
       "        // location in version 2\n",
       "        IPython.keyboard_manager.register_events(el);\n",
       "    }\n",
       "\n",
       "}\n",
       "\n",
       "mpl.figure.prototype._key_event_extra = function(event, name) {\n",
       "    var manager = IPython.notebook.keyboard_manager;\n",
       "    if (!manager)\n",
       "        manager = IPython.keyboard_manager;\n",
       "\n",
       "    // Check for shift+enter\n",
       "    if (event.shiftKey && event.which == 13) {\n",
       "        this.canvas_div.blur();\n",
       "        // select the cell after this one\n",
       "        var index = IPython.notebook.find_cell_index(this.cell_info[0]);\n",
       "        IPython.notebook.select(index + 1);\n",
       "    }\n",
       "}\n",
       "\n",
       "mpl.figure.prototype.handle_save = function(fig, msg) {\n",
       "    fig.ondownload(fig, null);\n",
       "}\n",
       "\n",
       "\n",
       "mpl.find_output_cell = function(html_output) {\n",
       "    // Return the cell and output element which can be found *uniquely* in the notebook.\n",
       "    // Note - this is a bit hacky, but it is done because the \"notebook_saving.Notebook\"\n",
       "    // IPython event is triggered only after the cells have been serialised, which for\n",
       "    // our purposes (turning an active figure into a static one), is too late.\n",
       "    var cells = IPython.notebook.get_cells();\n",
       "    var ncells = cells.length;\n",
       "    for (var i=0; i<ncells; i++) {\n",
       "        var cell = cells[i];\n",
       "        if (cell.cell_type === 'code'){\n",
       "            for (var j=0; j<cell.output_area.outputs.length; j++) {\n",
       "                var data = cell.output_area.outputs[j];\n",
       "                if (data.data) {\n",
       "                    // IPython >= 3 moved mimebundle to data attribute of output\n",
       "                    data = data.data;\n",
       "                }\n",
       "                if (data['text/html'] == html_output) {\n",
       "                    return [cell, data, j];\n",
       "                }\n",
       "            }\n",
       "        }\n",
       "    }\n",
       "}\n",
       "\n",
       "// Register the function which deals with the matplotlib target/channel.\n",
       "// The kernel may be null if the page has been refreshed.\n",
       "if (IPython.notebook.kernel != null) {\n",
       "    IPython.notebook.kernel.comm_manager.register_target('matplotlib', mpl.mpl_figure_comm);\n",
       "}\n"
      ],
      "text/plain": [
       "<IPython.core.display.Javascript object>"
      ]
     },
     "metadata": {},
     "output_type": "display_data"
    },
    {
     "data": {
      "text/html": [
       "<img src=\"data:image/png;base64,iVBORw0KGgoAAAANSUhEUgAAAoAAAAHgCAYAAAA10dzkAAAgAElEQVR4nO3deZgdVZ3/8XcSSEIICAEBSUAWEYSAAyMgbjiigKOIo+AyKKjg2iy2CoqKoAgyKvhTccNl3HUWRUSlARfAfV8Hh0EQbBaDC7aAcU3//vhWWdU3t5uTnO70uZX363m+T1L3VnffurV96tSpKpAkSZIkSZIkSZIkSZIkSZIkSZIkSZIkSZIkSZIkSZIkSZIkSZIkSZIkSZIkSZIkSZIkSZIkSZIkSZIkSZIkSZIkSZIkSZIkSZIkSZIkSZIkSZIkSZIkSZIkSZIkSZIkSZIkSZIkSZIkSZIkSZIkSZIkSZIkSZIkSZIkSZIkSZIkSZIkSZIkSZIkSZIkSZIkSZIkSZIkSZIkSZIkSZIkSZI0AE4H/gr8Hrij+vcjrff3Aq4E7gRuqsbv9Wrg5urnrwD2mLmPK0mSpFynA1dN8t5i4BbgtcB8YDkwCpzUGudk4EZgd2ABcDYRFBfN0OeVJElSpqkC4DHAL4G5rddOBK5tDV8PHN8angfcBhw1jZ9RkiRJ0+h04tTtCuDnxOnfHar3zgMu6Rn/AOBvROvgpsAqYP+ecS4F3jgzH1eSJEm5dge2q/5/L+DDRAvfIuA9wMd6xt+NCIDbAsuIALhrzzgfBy6Y5O/NAZYS4dGyLMuyrMGppcR+XB00H1gJPJKZaQFcCoxblmVZljWQtRR10nzgD8CjgKNZuz6AK5i8D+CmwPjo6Oj42NhY52poaGjWP4PT5rStL9PW9elz2gazujpto6OjdQDcdHrihmbbkcAW1f+3Bj5IhLqNiVa+m4EzgYXEVcA3MvEq4JcANxC3ftkIOIu4Uniyq4A3BcbHxsbGu2h4eHi2P8KMcdoGU5enbXy829PntA2mrk7b2NiYAbBjLiJa7O4kgttHgJ1a7y8nrhK+i7glzGl9fscZwK3V77iCqe8DaAAcUE7bYOrytI2Pd3v6nLbB1NVpMwAqV6cD4MjIyGx/hBnjtA2mLk/b+Hi3p89pG0xdnTYDoHJ1OgBKktRFBkDlMgBKkjRgDIDKZQCUJGnAGACVywAoSdKAMQAqlwFQkqQBYwBULgOgJEkDxgCoXAZASZIGjAFQuQyAkiQNGAOgchkAJUkaMAZA5TIASpI0YAyAymUAlCRpwBgAlcsAKEnSgDEAKpcBUJKkAWMAVC4DoCRJA8YAqFwGQEmSBowBULkMgJIkDRgDoHIZACVJGjAGQOUyAEqSNGAMgMplAJQkacAYAJXLAChJ0oAxACqXAVCSpAFjAFQuA6AkSQPGAKhcnQ6AK1euHB8bGxuYWrly5Wx/ZZKkAWAAVK7OBsCVK1eOL1myTb2CDEQtWbKNIVCSdLcMgMrV2QDYrByj4zA2ADU63tV5IUmaXgZA5VoPAuDYOIwPQI0ZACVJSQyAymUALKYMgJKkNAZA5TIAFlMGQElSGgOgchkAiykDoCQpjQFQuQyAxZQBUJKUxgCoXAbAYsoAKElKYwBULgNgMWUAlCSlMQAqlwGwmDIASpLSGACVywBYTBkAJUlpDIDKZQAspgyAkqQ0BkDlMgAWUwZASVIaA6ByGQCLKQOgJCmNAVC5DIDFlAFQkpTGAKhcBsBiygAoSUpjAFQuA2AxZQCUJKUxACqXAbCYMgBKktIYAJXLAFhMGQAlSWkMgMplACymDICSpDQGQOUyABZTBkBJUhoDoHIZAIspA6AkKY0BULkMgMWUAVCSlMYAqFwGwGLKAChJSmMAVC4DYDFlAJQkpTEAKpcBsJgyAEqS0hgAlcsAWEwZACVJaQyAymUALKYMgJKkNAZA5TIAFlMGQElSGgOgchkAiykDoCQpjQFQuQyAxZQBUJKUxgCoXAbAYsoAKElKYwBULgNgMWUAlCSlMQAqlwGwmDIASpLSGACVywBYTBkAJUlpDIDKZQAspgyAkqQ0BkDlMgAWUwZASVIaA6ByGQCLKQOgJCmNAVC5DIDFlAFQkpTGAKhcBsBiygAoSUpjAFQuA2AxZQCUJKUxACqXAbCYMgBKktIYAJXLAFhMGQAlSWkMgN13IbAKeETrtYcD3wXuAq4DntfzM/OBtwG/AsaATwPLJvn9BsBiygAoSUpjAOy2o4FLgb/RBMB7A3cSoW8D4GHA74DDWz/3NuAHROhbDHwA+N4kf8MAWEwZACVJaQyA3bUMuKH6t90C+Cqi9a/tPODy6v8LiJbBx7be3wL4M/DgPn/HAFhMGQAlSWkMgN11KXBs9f92APwk8I6ecZ8K/Lr6//2JFsOte8a5Bji+z98xABZTBkBJUhoDYDe9gAiAtVXAP1X//zzwup7xDyVa+AAeQgTABT3jfAN4eZ+/ZQAspgyAkqQ0BsDu2Qm4Bdiu9dqatADuhS2A4+PjBkBJUncZALvnGOCPwG3EVby/IgLg7cA7gdNY8z6AWwJ/Yoo+gENDQ+PDw8Pjw8PD4yMjI7O9XE8LA6AkqUtGRkb+vq8eGhoyAHbMQmDbnloFHAlsBmxPXAX8XGBD4KFEOGxfBXw+cdXvdsAmxFXAvaGxZgtgMWUAlCSlsQVw/dC+DQzErV++R7T0XU+Ewbb5wFuJ08K/By4Glk7yuw2AxZQBUJKUxgCoXAbAYsoAKElKYwBULgNgMWUAlCSlMQAqlwGwmDIASpLSGACVywBYTBkAJUlpDIDKZQAspgyAkqQ0BkDlMgAWUwZASVIaA6ByGQCLKQOgJCmNAVC5DIDFlAFQkpTGAKhcBsBiygAoSUpjAFQuA2AxZQCUJKUxACqXAbCYMgBKktIYAJXLAFhMGQAlSWkMgMplACymDICSpDQGQOUyABZTBkBJUhoDoHIZAIspA6AkKY0BULkMgMWUAVCSlMYAqFwGwGLKAChJSmMAVC4DYDFlAJQkpTEAKpcBsJgyAEqS0hgAlcsAWEwZACVJaQyAymUALKYMgJKkNAZA5TIAFlMGQElSGgOgchkAiykDoCQpjQFQuQyAxZQBUJKUxgCoXAbAYsoAKElKYwBULgNgMWUAlCSlMQAqlwGwmDIASpLSGACVywBYTBkAJUlpDIDKZQAspgyAkqQ0BkDlMgAWUwZASVIaA6ByGQCLKQOgJCmNAVC5DIDFlAFQkpTGAKhcBsBiygAoSUpjAFQuA2AxZQCUJKUxACqXAbCYMgBKktIYAJXLAFhMGQAlSWkMgMplACymDICSpDQGQOUyABZTBkBJUhoDoHIZAIspA6AkKY0BULkMgMWUAVCSlMYAqFwGwGLKAChJSmMAVC4DYDFlAJQkpTEAKpcBsJgyAEqS0hgAlcsAWEwZACVJaQyAymUALKYMgJKkNAZA5TIAFlMGQElSGgOgchkAiykDoCQpjQFQuQyAxZQBUJKUxgCoXAbAYsoAKElKYwBULgNgMWUAlCSlMQAqlwGwmDIASpLSGACVywBYTBkAJUlpDIDKZQAspgyAkqQ0BkDlMgAWUwZASVIaA6ByGQCLKQOgJCmNAVC5DIDFlAFQkpTGAKhcBsBiygAoSUpjAFQuA2AxZQCUJKUxACqXAbCYMgBKktIYAJXLAFhMGQAlSWkMgMplACymDICSpDQGQOUyABZTBkBJUhoDoHIZAIspA6AkKY0BULkMgMWUAVCSlMYAqFwGwGLKAChJSmMAVC4DYDFlAJQkpTEAKpcBsJgyAEqS0hgAlcsAWEwZACVJaQyA3fMq4GfA74DbgEuA+/eMsxdwJXAncBNwep/f82rgZuAO4Apgj0n+ngGwmDIASpLSGAC7ZxfgHtX/NwBeBPwSmFO9thi4BXgtMB9YDowCJ7V+x8nAjcDuwALgbCIoLurz9wyAxZQBUJKUxgDYbQuAFwJ/A7aoXjuGCIRzW+OdCFzbGr4eOL41PI9oTTyqz98wABZTBkBJUhoDYDf9M3A7sAr4K/CG1nvnEaeF2w4gQuJiYkFYBezfM86lwBv7/C0DYDFlAJQkpTEAdttmxKndJ7Zeew/wsZ7xdiMC4LbAMiIA7tozzseBC/r8DQNgMWUAlCSlMQB23xzigpA9q2FbABMZACVJXWUA7L4NgLuAJ1TDR7N2fQBXMEUfwKGhofHh4eHx4eHh8ZGRkdlerqeFAVCS1CUjIyN/31cPDQ0ZADvmRGCr6v/3JE7b/hbYunptMXF7lzOBhcRVwDcy8SrglwA3ELd+2Qg4i7hS2KuAiy4DoCQpjS2A3XMxcCtx/76bgU8B+/SMsxy4imgZvAU4rc/vOaP6PXfifQALCHcGQEnS9DEAKpcBsJgyAEqS0hgAlcsAWEwZACVJaQyAymUALKYMgJKkNAZA5TIAFlMGQElSGgOgchkAiykDoCQpjQFQuQyAxZQBUJKUxgCoXAbAYsoAKElKYwBULgNgMWUAlCSlMQAqlwGwmDIASpLSGACVywBYTBkAJUlpDIDKZQAspgyAkqQ0BkDlMgAWUwZASVIaA6ByGQCLKQOgJCmNAVC5DIDFlAFQkpTGAKhcBsBiygAoSUpjAFQuA2AxZQCUJKUxACqXAbCYMgBKktIYAJXLAFhMGQAlSWkMgMplACymDICSpDQGQOUyABZTBkBJUhoDoHIZAIspA6AkKY0BULkMgMWUAVCSlMYAqFwGwGLKAChJSmMAVC4DYDFlAJQkpTEAKpcBsJgyAEqS0hgAlcsAWEwZACVJaQyAymUALKYMgJKkNAZA5TIAFlMGQElSGgOgchkAiykDoCQpjQFQuQyAxZQBUJKUxgCoXAbAYsoAKElKYwBULgNgMWUAlCSlMQAqlwGwmDIASpLSGACVywBYTBkAJUlpDIDKZQAspgyAkqQ0BkDlMgAWUwZASVIaA6ByGQCLKQOgJCmNAVC5DIDFlAFQkpTGAKhcBsBiygAoSUpjAFQuA2AxZQCUJKUxACqXAbCYMgBKktIYAJXLAFhMGQAlSWkMgMplACymDICSpDQGQOUyABZTBkBJUhoDoHIZAIspA6AkKY0BULkMgMWUAVCSlMYAqFwGwGLKAChJSmMAVC4DYDFlAJQkpTEAKpcBsJgyAEqS0hgAlcsAWEwZACVJaQyAymUALKYMgJKkNAZA5TIAFlMGQElSGgOgchkAiykDoCQpjQFQuQyAxZQBUJKUxgCoXAbAYsoAKElKYwBULgNgMWUAlCSlMQAqlwGwmDIASpLSGACVywBYTBkAJUlpDIDKZQAspgyAkqQ0BkDlMgAWUwZASVIaA6ByGQCLKQOgJCmNAVC5DIDFlAFQkpTGAKhcBsBiygAoSUpjAFQuA2AxZQCUJKUxACqXAbCYMgBKktIYAJXLAFhMGQAlSWkMgMplACymDICSpDQGQOUyABZTBkBJUhoDYPe8DvgRMAbcDHwUWNYzznbAxcDvgduAtwIb9IwzBPwcuBP4DvDQSf6eAbCYMgBKktIYALvnLGBvItBtCnwE+H7r/TlEQPx3YGMiDP4QeFNrnCOB24GHVL/nBcAdwNI+f88AWEwZACVJaQyA3Xd/4G/AParhA4E/AZu3xnkcEfA2rIa/CJzb83u+B7yiz+83ABZTBkBJUhoDYPedAlzfGj4R+GnPOPcCVgHLq+HfAk/uGeddwH/3+f0GwGLKAChJSmMA7LZHEi17j2q99krg6z3jLSQC4IOq4b8Ch/SMcw5wWZ+/YQAspgyAkqQ0BsDueizRj+9xPa9P1QK4RzW8xi2AQ0ND48PDw+PDw8PjIyMjs71cTwsDoCSpS0ZGRv6+rx4aGjIAdtBRRPh7ZJ/3Hgb8kf59AOdXw18E3tjzc9/FPoCFlwFQkpTGFsDuOZ4Ifw+e5P05wA+A9wGLge2Jq4TbVwEfQbQCPoS4MOT5xC1jvAq46DIASpLSGAC7ZxVxle/vq7qj+rcdCLcDPlO99yvgzTRXANdeANwA3EXcB/Ahk/w9A2AxZQCUJKUxACqXAbCYMgBKktIYAJXLAFhMGQAlSWkMgMplACymDICSpDQGQOUyABZTBkBJUhoDoHIZAIspA6AkKY0BULkMgMWUAVCSlMYAqFwGwGLKAChJSmMAVC4DYDFlAJQkpTEAKpcBsJgyAEqS0hgAlcsAWEwZACVJaQyAymUALKYMgJKkNAZA5TIAFlMGQElSGgOgchkAiykDoCQpjQFQuQyAxZQBUJKUxgCoXAbAYsoAKElKYwBULgNgMWUAlCSlMQAqlwGwmDIASpLSGACVywBYTBkAJUlpDIDKZQAspgyAkqQ0BkDlMgAWUwZASVIaA6ByGQCLKQOgJCmNAVC5DIDFlAFQkpTGAKhcBsBiygAoSUpjAFQuA2AxZQCUJKUxACqXAbCYMgBKktIYAJXLAFhMGQAlSWkMgMplACymDICSpDQGQOUyABZTBkBJUhoDoHIZAIspA6AkKY0BULkMgMWUAVCSlMYAqFwGwGLKAChJSmMAVC4DYDFlAJQkpTEAKpcBsJgyAEqS0hgAlcsAWEwZACVJaQyAymUALKYMgJKkNAZA5TIAFlMGQElSGgOgchkAiykDoCQpjQFQuQyAxZQBUJKUxgCoXAbAYsoAKElKYwBULgNgMWUAlCSlMQAqlwGwmDIASpLSGACVywBYTBkAJUlpDIDKZQAspgyAkqQ0BkDlMgAWUwZASVIaA6ByGQCLKQOgJCmNAVC5DIDFlAFQkpTGAKhcBsBiygAoSUpjAFQuA2AxZQCUJKUxACqXAbCYMgBKktIYAJXLAFhMGQAlSWkMgMplACymDICSpDQGQOUyABZTBkBJUhoDoHIZAIspA6AkKY0BULkMgMWUAVCSlMYAqFwGwGLKAChJSmMAVC4DYDFlAJQkpTEAKpcBsJgyAEqS0hgAlcsAWEwZACVJaQyAymUALKYMgJKkNAZA5TIAFlMGQElSGgOgchkAiykDoCQpjQFQuQyAxZQBUJKUxgCoXAbAYsoAKElKYwBULgNgMWUAlCSlMQAqlwGwmDIASpLSGACVywBYTBkAJUlpDIDKZQAspgyAkqQ0BkDlMgAWUwZASVIaA2D3PBm4ChgD/gbM7Xl/L+BK4E7gJuD0Pr/j1cDNwB3AFcAeU/w9A2AxZQCUJKUxAHbPo4gQ+ExWD4CLgVuA1wLzgeXAKHBSa5yTgRuB3YEFwNlEUFw0yd8zABZTBkBJUhoDYHcdyOoB8Bjglz2vnQhc2xq+Hji+NTwPuA04apK/YwAspgyAkqQ0BsDu6hcAzwMu6RnvgGq8xcRCsArYv2ecS4E3TvJ3DIDFlAFQkpTGANhd/QLge4CP9Yy3WzXetsAyIgDu2jPOx4ELJvk7BsBiygAoSUpjAOyuddoCODQ0ND48PDw+PDw8PjIyMtvL9bQwAEqSumRkZOTv++qhoSEDYEf1C4BHs3Z9AFdgH8ABKAOgJCmNLYDdM5e4evdgIgAuqobnEK18NwNnAguJq4BvZOJVwC8BbiBu/bIRcBZxpbBXARdfBkBJUhoDYPccQ5zG/VtV9f8fVr2/nLhP4F3ELWFO6/M7zgBuJe4VeAXeB7CAcGcAlCRNHwOgchkAiykDoCQpjQFQuQyAxZQBUJKUxgCoXAbAYsoAKElKYwBULgNgMWUAlCSlMQAqlwGwmDIASpLSGACVywBYTBkAJUlpDIDKZQAspgyAkqQ0BkDlMgAWUwZASVIaA6ByGQCLKQOgJCmNAVC5DIDFlAFQkpTGAKhcBsBiygAoSUpjAFQuA2AxZQCUJKUxACqXAbCYMgBKktIYAJXLAFhMGQAlSWkMgMplACymDICSpDQGQOUyABZTBkBJUhoDoHIZAIspA6AkKY0BULkMgMWUAVCSlMYAqFwGwGLKAChJSmMAVC4DYDFlAJQkpTEAKpcBsJgyAEqS0hgAlcsAWEwZACVJaQyAymUALKYMgJKkNAZA5TIAFlMGQElSGgOgchkAiykDoCQpjQFQuQyAxZQBUJKUxgCoXAbAYsoAKElKYwBULgNgMWUAlCSlMQAqlwGwmDIASpLSGACVywBYTBkAJUlpDIDKZQAspgyAkqQ0BkDlMgAWUwZASVIaA6ByGQCLKQOgJCmNAVC5DIDFlAFQkpTGAKhcBsBiygAoSUpjAFQuA2AxZQCUJKUxACqXAbCYMgBKktIYAJXLAFhMGQAlSWkMgMplACymDICSpDQGQOUyABZTBkBJUhoDoHIZAIspA6AkKY0BULkMgMWUAVCSlMYAqFwGwGLKAChJSmMAVC4DYDFlAJQkpTEAKpcBsJgyAEqS0hgAlcsAWEwZACVJaQyAymUALKYMgJKkNAZA5TIAFlMGQElSGgOgchkAiykDoCQpjQFQuQyAxZQBUCrZypUrx8fGxgamVq5cOdtfmWaQAVC5DIDFlAFQKtXKlSvHlyzZpt7hDkQtWbKNIbDDDIDKZQAspgyAUqma7clota6WXqNuTzrOAKhcBsBiygAolcrtiUpjAFQuA2Ax5QZbKpXbE5XGAKhcBsBias022HZIl9adrm9PNHgMgMplACym0jfYdkiX1q0ub0+6rqsHywZA5TIAFlPpG2w7pEvrVpe3J13W5YNlA6ByGQCLqbUJgN2bNqlErnODqcsHywZA5TIAFlMGQKlUrnODqcvzzQCoXAbAYsoAKJXKdW4wdXm+GQCVywBYTBkApVK5zg2mLs83A6ByGQCLKQOgVCrXucHU5flmAFQuA2AxZQCUSuU6N5i6PN8MgMplACymDIBSqVznBlOX55sBULkMgMWUAVAqlevcYOryfDMAKpcBsJgyAEqlcp0bTF2ebwZA5TIAFlMGQKlUrnODqcvzzQCoXAbAYsoAKJXKdW4wdXm+GQA1lVcDNwN3AFcAe/QZxwBYTBkApVK5zg2mLs83A6AmczJwI7A7sAA4G7gJWNQzngGwmDIA1kZGRnJnf7G6PG3j492dPte5wdTl+WYA1GSuB45vDc8DbgOO6hlvU2B8dHR0fGxsbCBq5cqVrvgdnrbx8fHx4eHhpPEGUZenbXy8u9PX9XXuhBNOmPVtu/uBtd0PGADV2BRYBezf8/qlwBv7jDs+SLVkyTZJK//6seJ3b9rGx7u7MxrEaev69BkkxsdXrlw5vmDBovHZ3ra7H1jb/YABUI1lRADctef1jwMX9LxWBcAvjsPVA1DfGoe0FsvR0dFq5bh6HEYHoK522sbGxlesWDG+YMFG1fQNRm2++VbjK1as6OS0dX36Uqety+tcM23fGp/9bbz7gTWfNgOgGmvSAriUAjbClmVZlmWtVS1FaunXB3AFq/cBnEMsPJtalmVZljVQtZTYj0t/9xLgBuLWLxsBZwGjrH4VsCRJkjrkDOBW4E4mvw+gJEmSJEmSJGkq9r+QJEnrtc2B5wEfBV7P6lciD7olwAuALwJnzvJn0cx7ALBl9f95wNxZ/CyTWUw87UeDa1dgk9n+ENNoc+CpwHOA+9HtvuePAv5xtj+ENJsWAucSVxpfATwfOIEIS5vO3seaFpsDpwD/A4zRTN/Gs/iZptvmwJHEVeLLgA1m9+Osc3NYPdwdCPwUOHHdf5xkLyFu+fRy4mKv9d22wBuAw6rhhTTztaSW+s2IbcgVwC+AS6r/n8fgBsHtgVcCPwFuBz5P3Hf2d8Angd1m76NNq82I/dpVRP/6HwAPndVPJM2yU4AvAXu3Xitpg5vjGcSK/qpZ/hzTbUdimuoN9mVEy+0dwNto7i3VlfnYay5Tt+htC3wAeH81vAXwNODxd/Nz60L99z9MBMAfAy+avY+zzvXOu/r/uwFfAN7eM35JBzSnAn8BvgY8i1jPdiTC0y3E8rZFNe4grXtXEGHvqa3XNgAOBX5EBMJBb6luz7vjiDNCUufNAf65qnmt1wB2IFrHXlkNb9Aapz1eyTYEngJ8CrgceCbREgZxGvCzRGtLr0HeoF0L/AZ4XOu1RcDRwI3AR2bjQ82CbYl5+zmiBWbP1nunEkf6zydaA78G/BD4EM2TdmZi+Z5T1eOAB04xzgeBEaLbxRjw6Bn8TCXaCti9Nbwh8Fpinm1JzNfvEQc2BwLz1/HnexDwROI0fe1FxMHyffqM/wziLMozquHS5mO//UD9nZ5MhMCtel6HWC7/QpwuHRT95t2LiXl331n5RNI6Vh9ZP4JoabiVCAjQHFU/gP6PnhsE9yaCzl+AbwAvBZ5LHLG+rxpnc+B84MJqeG/idPf1wDBltS60TRYiNqz+fT2xMau1N9jPA/4A7DKTH3CW/QvR+vk7IkQdR8zjHwP3r8Z5AvAt4JvAPtVrDyeeqvPhani6WwPr33cEsV79iGbH2T6w2rj6XOdUw5cRy+R20/x5Zku9/Pbag1j/riVazL4BvIam1ezpxHL9HuC9xPL/DmJeP7caZ6ZacOcSp58vJg6ufgZ8lTi4eEQ1zoOI1rCTq+F5NNO5MfCd6vPOditz21T7gXp7sgsxP/6l52fraVtBNBKUFmprazLvTmj93LJquH3gKA2kPYE3A6dXw3W42Z9Y8d8P/JYITrV9iQC1bzVc0oar132IMLR5NbwbsQPpfUTei4HvEn2IIALRKDHtPyd2Lo+c6Q+bYaoQUW+w7w/8lYmn7WvbAL8nTnkOqiVMbKHt3fGcRYSCdt+kvYCvEMEeYGfilOJ3q+ENqt9zNPH9TIc9iRD3gtbfgAguq4BPAP/HxI709bT8imZntIho+fps9bmh7HWxn7s7Lf9SYpn9NE2/q2OIMxB1uNsHuJLoW7d99domwGnEzfGnW/sA8MnAn4mDyjqQ7kLMk/o57BtX73+AidNah/sRIoRsNgOfNdXa7AcAvk+sV+3+qPU0fo1osYZyQuBk864+tTvZvPsM8CbgGiLYfp5uHyyrw+5PtHbdWtVHgAf3jPN0IgDtCHybaG2oT73sSuygzmuN3z4NvD1x5DRb9ic2tjcRp+/eB7yu9f7bgf+mCXsQ38E5NBuvhxBB8eyZ/rBraW1CBMCvmXg0W2+Y7wn8L9FKCGUHiX4XcCwE/kT0sarHqdXL5cHEhvtZrfeWEzuxurVvA2KH9gMm7iwOANCKwx8AABa4SURBVK6rxl/TzwqwH/DvxPr2S+KU8gN6xn0V0cK3N3HQ8UEmPvPzPtXnOoZovT22+kx/Bv5jDT9XaRYTFyS9ntgxb1u9fhQRyB/WGncrYj7WfXQ3Jtbpn1XD9bKxH9G/dTp21HsSy8WniJBUh9GdiAOIY3vGvwT4N5qDr1cQXU3qVqP28vsRooW59/WZ1m8/8JCecZ5ObEd3otkPtA+g3kDcIWGHarg+q7A1cbD1mhn43Guqd97Vy1LqvDsFuI04COnaXS60HlhI7DzmEDvDTxJN9/v1GbfeAJ1N9KWZR+w4vw9c1BrnNOAuop9N22IimDyV2TnqO5hoDXg7zWm9HYgdfD1tzyN2IE8j+udcTbQyvBt4UjXOvYij3o/2+Rt70Wwc1oXpDBEfIjbidfitp2NnIvA/e5o/+3Tqt3Nsv3Yh8PHW8O5MPBDZmlj230J8l+8kLoa5hmhNumc13lOIU6uHtH72JcQBQepD2BfQtEZtSByIXE3/20fU0/B+YmcKEfJ+Wn3G2p5EyL2dWH8vA4aI1slVrN4SMwgeSISfO4j19pVECKxPN+5MnJI7o/UzRxEHKzu0Xns2ETja/QMPJFrCe7dRa+IA4MtEq8/7ie3DsUT3gXq+fYK4iApivp9EhKbH0qxfjyb6y9WtlvVByYFEuDgl4zOmmmw/sG+fcSfbD3yPWM/qlvYHE9uNg3t+/kXE9ud+0/fx11jOvDuMZt4dSqyXR1TDJR8caz1Xh4W6Q/R3iL4z/0nT8nE8sVGdqg/D2cTGs3YgsZOpW8TmAP9FdEQ/H3gh0Ux+I9EPZxkzq999pnYhWkTu7n59/0iEpD8RAe+JRD+q1xDTWLfyvIjYgGxHXAl6MTG9XyeOHmfaTISIQ4grnNudmucQ4eEa0gPObNqfOMh4J7FRr2879DSiL88+RBj4JXEq97+Be1TjnE30AbyJaME+gNhR30BzuqruJnAd0QLyQqLl7YWTfJ56nduK2JF/m/jeP0Zzwc25RAvLVOvF+4jWrtoxxPJYr7e7EF0vjmX1WxKdTLQGD9L917YjWmVeS9NFA1aftrcT69xniXm6gujz9zXiO4JYJq4mumrUIfhUotVtbb+TrauffzVTX0wyTATSa4kW9m8Rffq+RbQaQSwbnyBazGqHEP1Kz2H6rav9AMR241nEfHsiMU+vIPrOzpaZmHfntn7uYcT6+m6abYtUhKXEin4Z0RK3MbGjq5v3H0q0gNVH2UcSO796YzqPOIX65WqcTxLB7v+IflD1Zf/ziWD0GmJleTmr9xGZTvsS/VSuIlp6zmTiqeuTiI1R7wp5JPF9fK0aXkhM7wd6xtuSaAk8qho+nNjhrCKOfE9lYqvDdFpXIQKi5fYgIlQeQRzRX0b/voGlmEO0nvwMuJk46HgO0VpUtzJsRUzb5TQtuf9AtObVR/mHEctBu3UPYhm+tfr/JsT3eB1xyugi4F+Z+uKf3Yid6WXEKcx7EMGyboF8PNHBvD51eCRxoFT3K51LLNcfplnnfkEE1ZuJlrKnVp9x79bPlNQaUS/DGxDT/uRqeD4TL2apxz2PCOr9DjruSezEIQLvz4n1te5ntyExT6+phpcQrdt/IJaN/yW2WU+4m8+8HXHgcET1u9tnLV5NXCC0Q5+fewBxZSzEmYbeAy2IiyNW0Uzf66vPdRXR6ncN8DKaG49P9xmTmd4P1NvJDxHTOUZsJ08mzqDMtNmad78mtg3vwAtBNMuWEx34awuJFfKrTN6peBNiw/BLomPvd4lTh1u2xrmcWAEur97bndiQv4PYePVe+TVT5hNHsH8gdv7vJZrkjyVaaUZp+nC8nFg5odkxPpcIU+8mpmeP6vVTiaDUbgl7HhEO6h3slsSOd121qsxkiBiluSjkSuK7+A1xav8lTFyGSnQw0V/nyLsZ7yJiuW4fiBxD7LR2IHYan2Nin9BFRKvFW2iCyoOYeDqx7b5MvB/YZkTr1EVM3tqwhFheb6BZ506vfrbecX2HmC+fr97bhQhBFxMtkOdXn7GUFof6VGJvcNmCODvwhdV+YqIbaW61NIfYdg0R82oVTfeLfYnTxCf0/PxLidPh7X52/0GE+6n6IO8OvJXYif+aaN35bPX/19G0Rn6Cpm/ePKJF/hRivbmLOH1au5Ro3Wufgj+GiYH98OrzvZTpP5Ccjf3Ab4mWsJ2IA651sZ3s4ryT7la9kd2IaM25gtiZjBCnUOrTgrsSAe3Qnp+r/18Pv5LYqfTr/7GQWCk+2Oe9jZnZlqJ5Pf8uIFpj/m+S8S8kWgfmEv2AfsfEFbTdavMNmoscDiZOlV5Q1a1EwHx61qdPt65DxIXEcnEfog/j0ZTxZJNFRLCpg/lkj1/7IfCu1jht96e5CvZFROBtb8w3JS6UqPuEvoX4rl9IrD+/rYZ3nOIzHkucdryO6OpwGs3tVx5ItH7UgbF3naun5wLiVGa/flHbEfP2DX3eW0L//rol2ZVoRa23J0PEgdcyIiDU4bW+PdGmxKnFt7Z+xxbE93wYEfZWVK/PJ/q+vrsaXkjct/O7RH+u+vtOCSD3JVodr2fixQxbV3/718T2FCJAfY2JHkbMq/qUc30G4myiq8GOxDp2DtFi9OKEz7QmStoP7NPn9Zk06PNOyrKYWBmvIk53bkEs/AfRhInlRACoV5DenWkdiA4jjtD/tRpe0Br33kSL2/F9PsNMXdixE3Frh4/1ee8wor/eQppWh9rBxGc9mNjo3crEDuPtm1hfSLR4QXx3n6v+5htpwsFMme0QsTmT32B4Xeh35W5tFVNvbA8gdnJ114M5RCvF5cRG/080nejvA/yNiVeN7kO0FNU7rBcQLaNfJ/oATdX6eU+iJfUqIpTck1hWD6O5Yexjqs9Qn5rvnXd1C9VxxPyvL0qYT/Od1OvtY/p8hlJuodHrQUSfu5uIVqRLaO4NehDRkn0+sXN9LxHgf0aEQ4iW6rp/We+ysRfxfdTz7GXEqfBfEAd5XycC0GQ3Zl9ALC/1Ml/Pg3tUn+ni1t9tb0/qq4kXEa09P6PpE9z+jLtUn/0t1fDB1ef6I7EN+jDNveSmW5f3A/Vn6Oq8k5I8hOiYfzpNi9sFRAvP9pP9ENFScBPNRnayq1XrKyL/3yTv/ysz26S/L02rDcROfhXNzrz9ubcjmu7r039zaTZAOxMtAW+qhs8k+qecRNN/Yztig/BpJq7Y6+qKyfU1RPTro9YerqfpA0RLw+bEExEuI/p61qfxlhPh+Ck9v+v5xA7vo8SOod75fZs45f14IkhcRizn9d/euM/ngvju262v84hTSZfR9D3r5whiZ1P3O5ysr+AORKvESX3eW0BM+6A8aebfaO4P1+/gaSnRX/W3NN/LPGLaf03M+yOr3/HoPj+/H9Ex//DW8FnERQYpN2J/Js0j87bsee9pxCnArVqv1cvDE4hT048iwuw19H9Czt7EAWTdX25D4uzBHn3GzdH1/UA/XZl30ho7njileQOxUp5CtOjsTBz91h1v6x3VvYhWjI8SgWIRsXB/q/U720dJh9HsSN9F9Kvq7bA7E2FhHrHBv4jYKfyCifecejFx2vL9RPP8c1rvLSA2UvVVWfN63vsJzY2dNyRORV1PtLJdR7T+fJx1c1WaIWJ12xCnWy8h+tq9homd8w8lAt4LiWX3ZOJo/o/EgQHE6cBzaa74be/QXk4cBNSndM4idiCnEvP/fPpfnFQvkxcSYWOEWGZOJloblhE3Xq4vGKm/16XVZ72AOOW2PdHX6pM9v7v2NJrA/iWiL1H7qtfSLCL65j28Gl5AMz31cnkEsYOe6h57pxJXnLe7OuxItBbW8//jxPbu3USLz5OIbdn3iYO2u7vdUu/6BrH9Ooe40n8Fcfq4HRj2ITr+1xc/tLsdPJDY9ta3azmCCBzfI7ZJZxHh6xqiz2H7XqLTqav7gbauzjtprRxO9Olo7xzrDW59I9qjW+/tRizMVxIrRd0KVj++57VM7Mj+eGKDW+/Q9mZiX4qZchJxKuFqYqPe7mtVr7z/RvM8zzcTO4lDWuM8k9iZQHwn9c89lDjld1DP39ySCBYzfdrTEDG5RxJH5CuI07XPovmu/kDz1AGI+8D9mom31/kE8X3MIzbe1xE7rl7PI1oQ6xbl3YllbqoNfL1M/g+xc92daAF4e/V5zyFaBa5j4vNM/4FoYf4ysYzWFyYcS6xzxzGxZeaJREf7Osg+nHWzzqXoPS1f7/CXEYGgX3eM2iJiZ3tU67VHEwdpdX/FxxJ9N59YDc8lQsYVNI9F24Lou/sBIqz8gLiCc7LbLE21vm3aGu9SYnv4JOJgsN3CtRXRMlQ/6rF9E/s9iJb49q2WHkD0Lf0P4uKWpzKz9wHt6n5gfZh30lrZiGjZ+VA1vAHNY6ggOsDeyOR9pU4jWtfqlo5nEzu3LxIb898TRz9Hs+5vFvsYYuM0WSd7iI649S0d5hAr+bU0pwDuS7QItTse35dYsc9m9QsD1oX1NUTUy+QmNLfq6Pcc12cQ09PPuUQwrkPtZ4ij/s1pQsmRRCDYk3gyxIeJg4A3EeH+dcTp3m8SYWNN1Mtkv5bB46rP9gpiPj2xzzgQoeUCmpbdM4gd1iU069w3iZaWklpl+53+3rb1//rK+/+thh9H7DzfRZzurYP1Z4lt1peI8P4D4uCt7lO5E7Ezr/tsQYSN61n9BuYLuPtTjVOtb7cQV6bWO/fP0jwd5dnEWYCXVcMbEv1Ab2TifFlMHHRcTnOl9bq+zU5X9wPrw7yT1toeRCtIv/5btauIjWndVL8hzUJ+PNHC1g4amxBh4UgmnoZZ1zYjju7bV9huQmyE6n56n6bplLuYOG1X9zGqN2ZfJU4hnkic9r2FCBLr4p5T/azPIWI7Yof/8mq43+minYllum6dbfdXvF/18++rho8lrlpsHyTsCKykCcMbEK197yJ2kv9J/xbBFJsR3+tx1XDvAcRNxBWStxE7p/pWGu172p1DnKpsXxW/BdHC8lSmPuW/rtStfL3zZyOiD9RlxMUVVxE72TrcHUwcuJxB7FhfQYSSn9KcYnsWsVN/HbE+99qAaH36MzHP3kl8r29i9T6uKaZa355FtP4cSsyjbzPxhvDnE8tS3e3kgUSXi7q16PlEWP0vZvc2H13dD6wP805aa1sTd/k/tM979Q7nScSRz/lMXNAfSASJMym3efszxBWDryJW8F8RfYjqG2leSbSGfZ8IdhcRTf9XV/+fSxz1/oG4qvBfmP2rI9eXEDGZTxHTVduDOP1Xh4iNiX6d9Q2329/PJkTw/VFreBWxDNf9gp5LHDjUj2ir5/d0BeHPEDcjbp8qrk+1fYnol3YG0efqdCbOiwOIVuqXMvvLYT/9WsTrC46eRKxHPyYCw9ZEa+2vaG4YvhtxEPIbmr6VGxP9N2+uhrcjvpt+YaX++88k+mC9mDhwy+mScXfr2yhxm6f5xLp3OtFaNEJsW+rHzdX39vwKzf0wr6x+b/0dzdY87ep+YH2Yd9JaW0S0ar2FZgGeR7NDmk9cOXsIsbJ8k9hAjxGnal7JxM6ypXkK0Zr1ReJ0Xbvz7zZE0/13iZ1JezoOIVoddqLM55x2OUTU9iCOvuvgVe9cXkZ0ND+O2AjfTmyYP00zncNEsOjnY8R3VLdKfIHYqJ9LtHK0r/yuTef3dDQx//rdeuejxKmoucSO6DdEv6zPEevc/xDzbTZb1lPsS2xTVhCnZ+cQT0H4JhNbiTYmWpXeUw0vJvrl1jdWr5fpnYl5dJ9q+CtEnz2I7+IkYjv2MSLUb8709lWdan27nDhYXE7cN/SuavwXEV1J7kcsb6PEtuRQot9iSetel/cDXZ93UpZTiJ1ov6O/E4gdDsRG4BDilOpU/epKspS4R13vxRoQO9nbmfi4sn59ykrU9RCxL3EK73aaMFYHwP2J0H4lzdXLy4lTu+8idlzLiYt09qrer08DLyFCcfuJHKcTFw0cQvPoqpm0lOb0Okx8Cshvmfjs33sQVxUey2CscycQfWavJw5C2uvdDsTp87e3XtuXaIlu33D6cOJ7qC/ImEecjv8FzQUKryGWj18Qy8gIcUAwU7cOubv17SIipN5O8yi6tqVEH9ySdXU/sD7MO2mtbUhc9ThG3NbkcOIo/HtEaFg++Y8Wbw7RqnNq67XlxGneYaLZf6rHN5VqkENE3aLaL2jXrz2IOCV1MXEq5j49411KnOJu98N8JhH296+Gf0hcxVtbQAS/T1Q/V/dfmuqh7TOhXiZf2nrtAOKmxefSBN0SO5NvT9PS06+PX/vZxr3mEq3S3ye2Lz8k+mD9hNhB1495vC/R1+otNK2/Tyfmbb0c7Ex8V/0O7GbCVOvb7UQLZH1P0brv6CAcSLZ1dT+wPsw7KcsC4sqnNxMb2o/Q/0hwEJ1CbAAuIgLfLUQ/sn6PIRoUgxAiem/3sQlxG4j3VsMLe8ZtO4jogL2MCAqX0Dy9BOIK7CuZuFPar3qtDhJnEfc0exxx0cFtxHwv4fFm7WVylOhb9Tqaq2JnewfU7wkqDyVaXl+4+uh/tycR3HsDe91P6kjiNi5foXm29Fzioqtrib5oi4C3AX8lTt1dQhwEDK/xVEyfqda3+vYnexGhqV8wHhRd3A+sL/NOylZaJ97psCuxw3k9M/s84XWt1BDRL3TuTYSDM2guwKj1hgWIafsx0afvIKJF6N9p7tv1aCKMHNv6mf2Jiwzq+/I9shr+JtGnZ6pHr61rpS6T/eZd3ZfunsQVj29rvXcQcUud9s+NEvPvCcR901bRPNZrD6K175XVcN0a8xQi8NXdEp5LLM+PJi4Uma0r7tsmW9+WTvVDA6pr+4H1ad5JWg+UGiJg9SewjBJH3Y8hruZ8OHGaqb4q9A1MvGnsa4grsWsHEn2+Xl8Nb0Lcz/Am4tYh+xH38HoXzWnD9pMklK6ed58mgvdFNPc7PJNoRT2BOHX7MyKIv5fmytD6cW1fIe7r174Fx0bEfP9c67X9iFP6ZzHx+aulzbuS1zdNzXknSevAVE9guS9xRfZXidbAhcA/EWHuC9U4GxKneH9AdL5+M3Hhyq1EsHhcNd7biDD5AaKf0nuY+jmlunvtG+e+lJhf7yROw+9HtKp+g4mncA8mrpSsT+0/gujb19ZuIXwGcUDwVaI7xk3EAUBJLbSSJGkNTfUElk2IPop/YeLTVf6BCHf1M14/Vw1fTdy375+JFr0PEbd3eQTRovgEmjvwK1+/ebecCGtHE6eDv0IERGiC3XFEa+Bm1Wu/o7kB+5yefx9AhPUzKOfxdJIkKdNkT2B5OtHn5knE6dz6nn1ziftyjdLckueLxI23e92LaHEq8d6MXdBv3j2MuCdm/fi9NxO3FdqyNc5B1c/VN2/+L+JWRJIkaT3S7wksPyEu0NiTeP7yc1vj70i0Kj2DCIY30PT3K/F2KF1Wz7vTif59q4hbt7yDuDff4cQp9ye0fuY5xA2Bl1XDTyeu6i3pMYKSJGmGTfUEls2JJzaM0tyy5eVEq9JiIvANU8aVn+uj3nk3l7hNxleIC0C2IYLhtcQNgY8kThuf3vodhnZJktZDUz2BBaLFaBXwVqLl6PvELT/A+3DNtnrePbLn9dcT9+ODeKLH1cQFIl8GTiZO80uSpPXYZE9gOY84LfwY4nYh92PiDaE1+/rNu32IoHdiNXw4cVVw1+4XJ0mSMvV7AsuFxNW7KlvvvLsVOIfmwh1JkqS+vPnq4HLeSZIkSZIkSZIkSZIkSZIkSZIkSZIkSZIkSZIkSZIkSVrn/j+Krlyh9iypyQAAAABJRU5ErkJggg==\">"
      ],
      "text/plain": [
       "<IPython.core.display.HTML object>"
      ]
     },
     "metadata": {},
     "output_type": "display_data"
    }
   ],
   "source": [
    "%matplotlib notebook\n",
    "import matplotlib.pyplot as plt\n",
    "values = [len(tunings[x]) for x in tunings]\n",
    "values\n",
    "plt.bar(range(0, len(values)), values)\n",
    "plt.xticks(range(0, len(values)), tunings.keys(), rotation=17)\n",
    "\n",
    "plt.show()"
   ]
  },
  {
   "cell_type": "markdown",
   "metadata": {
    "collapsed": false
   },
   "source": [
    "## Parser de l'xml"
   ]
  },
  {
   "cell_type": "markdown",
   "metadata": {
    "collapsed": true
   },
   "source": [
    "Nous allons travailler sur un fichier au format TEI extrait du corpus *Corpus 14*  \n",
    "PRAXILING - UMR 5267 (PRAXILING) (2014). Corpus 14 [Corpus]. ORTOLANG (Open Resources and TOols for LANGuage) - www.ortolang.fr, https://hdl.handle.net/11403/corpus14/v1.  "
   ]
  },
  {
   "cell_type": "markdown",
   "metadata": {},
   "source": [
    "Le fichier se nomme ``josephine-1-150119.xml``. Il s'agit d'une lettre d'une femme de soldat à son époux.  \n",
    "Nous allons extraire du fichier TEI les informations suivantes :  \n",
    "- titre (``/TEI/teiHeader/fileDesc/titleStmt/title``)\n",
    "- source (``/TEI/teiHeader/fileDesc/sourceDesc/p``)\n",
    "- contenu de la lettre (``/TEI/text/body``)"
   ]
  },
  {
   "cell_type": "markdown",
   "metadata": {},
   "source": [
    "### Avec lxml"
   ]
  },
  {
   "cell_type": "markdown",
   "metadata": {},
   "source": [
    "Pourquoi `lxml` et pas `xml.etree.ElementTree` ? Parce que : [1](http://lxml.de/intro.html) et surtout [2](http://lxml.de/performance.html)  \n",
    "La bonne nouvelle c'est que votre code sera aussi compatible avec `xml.etree.ElementTree` ou `xml.etree.cElementTree` parce que xml utilise l'API ElementTree. Sauf pour la méthode `xpath` qui est propre à `libxml`."
   ]
  },
  {
   "cell_type": "code",
   "execution_count": 9,
   "metadata": {
    "collapsed": false
   },
   "outputs": [
    {
     "name": "stdout",
     "output_type": "stream",
     "text": [
      "<cyfunction Comment at 0x7fba18065830>\n",
      "{http://www.tei-c.org/ns/1.0}teiHeader\n",
      "<cyfunction Comment at 0x7fba18065830>\n",
      "{http://www.tei-c.org/ns/1.0}facsimile\n",
      "{http://www.tei-c.org/ns/1.0}text\n"
     ]
    }
   ],
   "source": [
    "from lxml import etree\n",
    "tree = etree.parse('josephine-1-150119.xml')\n",
    "root = tree.getroot()\n",
    "\n",
    "# Parcours des enfants de la racine (commentaires et éléments)\n",
    "for child in root:\n",
    "    print(child.tag)"
   ]
  },
  {
   "cell_type": "markdown",
   "metadata": {},
   "source": [
    "Le fichier utilise l'espace de nom TEI : ``<TEI xmlns=\"http://www.tei-c.org/ns/1.0\">``, nous devrons l'indiquer dans nos instructions de recherche.  \n",
    "Voyons ça pour le titre (``/TEI/teiHeader/fileDesc/titleStmt/title``)"
   ]
  },
  {
   "cell_type": "code",
   "execution_count": 10,
   "metadata": {
    "collapsed": false
   },
   "outputs": [
    {
     "name": "stdout",
     "output_type": "stream",
     "text": [
      "Tag : {http://www.tei-c.org/ns/1.0}title\n",
      "Texte : Joséphine Pouchet à son époux le 19-01-1915 depuis Baillargues\n"
     ]
    }
   ],
   "source": [
    "# la méthode find renvoie le premier élément qui correspond au chemin argument (ElementPath et non Xpath)\n",
    "title = root.find(\"./tei:teiHeader/tei:fileDesc/tei:titleStmt/tei:title\", namespaces={'tei':\"http://www.tei-c.org/ns/1.0\"})\n",
    "print(\"Tag : {}\".format(title.tag))\n",
    "print(\"Texte : {}\".format(title.text))"
   ]
  },
  {
   "cell_type": "markdown",
   "metadata": {},
   "source": [
    "Même traitement pour la source :"
   ]
  },
  {
   "cell_type": "code",
   "execution_count": 80,
   "metadata": {
    "collapsed": false
   },
   "outputs": [
    {
     "name": "stdout",
     "output_type": "stream",
     "text": [
      "Tag : {http://www.tei-c.org/ns/1.0}p\n",
      "Texte : Correspondance de Joséphine Pouchet, numérisée par les Archives Départementales de l'Hérault.\n"
     ]
    }
   ],
   "source": [
    "source = root.find(\"./tei:teiHeader/tei:fileDesc/tei:sourceDesc/tei:p\", namespaces={'tei':\"http://www.tei-c.org/ns/1.0\"})\n",
    "print(\"Tag : {}\".format(source.tag))\n",
    "print(\"Texte : {}\".format(source.text))"
   ]
  },
  {
   "cell_type": "markdown",
   "metadata": {},
   "source": [
    "lxml a aussi une méthode ``xpath`` qui permet d'utiliser directement des expressions xpath (sans oublier les espace de noms pour notre fichier) :"
   ]
  },
  {
   "cell_type": "code",
   "execution_count": 11,
   "metadata": {
    "collapsed": false
   },
   "outputs": [
    {
     "name": "stdout",
     "output_type": "stream",
     "text": [
      "<class 'list'>\n",
      "Correspondance de Joséphine Pouchet, numérisée par les Archives Départementales de l'Hérault.\n",
      "Correspondance de Joséphine Pouchet, numérisée par les Archives Départementales de l'Hérault.\n"
     ]
    }
   ],
   "source": [
    "source = root.xpath(\"/tei:TEI/tei:teiHeader/tei:fileDesc/tei:sourceDesc/tei:p\", namespaces={'tei':'http://www.tei-c.org/ns/1.0'})\n",
    "print(type(source)) #xpath retourne une liste\n",
    "print(source[0].text)\n",
    "#ou bien\n",
    "source = root.xpath(\"/tei:TEI/tei:teiHeader/tei:fileDesc/tei:sourceDesc/tei:p/text()\", namespaces={'tei':'http://www.tei-c.org/ns/1.0'})\n",
    "print(source[0])"
   ]
  },
  {
   "cell_type": "markdown",
   "metadata": {},
   "source": [
    "Pour le contenu il faut ruser. La difficulté ici tient à l'utilisation d'élements `<lb/>` de type 'milestones' pour noter les retours à la ligne :  \n",
    "```xml\n",
    "<p>\n",
    "je reponse a ton aimableux lettres<lb/>\n",
    "que nous a fait plaisir en naprenas<lb/>\n",
    "que tu et enbonne santes car il<lb/>\n",
    "anais de maime pour nous<lb/>\n",
    "</p>\n",
    "```"
   ]
  },
  {
   "cell_type": "code",
   "execution_count": 116,
   "metadata": {
    "collapsed": false
   },
   "outputs": [
    {
     "name": "stdout",
     "output_type": "stream",
     "text": [
      "\n",
      "cher Laurent\n",
      "\n",
      "je reponse a ton aimableux lettres\n",
      "\n",
      "cher Laurent je repons a la cartes\n"
     ]
    }
   ],
   "source": [
    "# la méthode findall renvoie une liste avec tous les éléments correspondant au chemin argument\n",
    "body = root.findall(\"./tei:text/tei:body/tei:p\", namespaces={'tei':\"http://www.tei-c.org/ns/1.0\"})\n",
    "for elem in body:\n",
    "    print(elem.text)"
   ]
  },
  {
   "cell_type": "markdown",
   "metadata": {},
   "source": [
    "Ici on ne récupère que les noeuds text précédant les éléments `<lb/>`  \n",
    "Une requête `xpath` va nous permettre de récupérer tous les noeuds text"
   ]
  },
  {
   "cell_type": "code",
   "execution_count": 12,
   "metadata": {
    "collapsed": false
   },
   "outputs": [
    {
     "name": "stdout",
     "output_type": "stream",
     "text": [
      "\n",
      "\n",
      "Baillargues Le 19 janvier 1915\n",
      "\n",
      "\n",
      "cher Laurent\n",
      "\n",
      "\n",
      "je reponse a ton aimableux lettres\n",
      "que nous a fait plaisir en naprenas\n",
      "que tu et enbonne santes car il\n",
      "anais de maime pour nous\n",
      "\n",
      "\n",
      "cher Laurent je repons a la cartes\n",
      "de ma mère quelles et venue au\n",
      "jourdhui pour de faire partire\n",
      "partir un paquet quil aillae\n",
      "les chosette sausice chocolas une\n",
      "paire de chosette pour Louis\n",
      "je pense que vous magerè ensenbleus\n",
      "tu feras repons a la maison te\n",
      "suite que tu rese vras le paquet\n",
      "je te dirais que ten le midi il\n",
      "fait frois il fait du vent glasais\n",
      "et toi au pas de calais tu nous\n",
      "dit quil pleus mai tu nous parles\n",
      "pas si tu a ases pour te garendir\n",
      "du froit cil te maque quelles chose\n",
      "\n",
      "tu nas que ledire quon de len verras\n",
      "verras tu nous dit que charles ta\n",
      "Ecrie et ta soeux et ta dit que\n",
      "je lui et envoiez la photot\n",
      "plurien a te dire pour le moment\n",
      "que de ten voiez une grose\n",
      "carriese de tous et boutounase\n",
      "de ton petit enge \n",
      "adorè Albert encorre une foi\n",
      "te plui Milles baisées te tous\n",
      "ta fenme pour la vie\n",
      "Josephine Pouchet\n",
      "bien le bonjour de la familles\n",
      "et casimir et de tous le voisin\n",
      "et amie et de marie la perdigailles\n",
      "\n"
     ]
    }
   ],
   "source": [
    "body = root.xpath(\"//tei:text/tei:body//text()\", namespaces={'tei':\"http://www.tei-c.org/ns/1.0\"})\n",
    "for text in body:\n",
    "    print(text, end=\"\")"
   ]
  },
  {
   "cell_type": "markdown",
   "metadata": {},
   "source": [
    "## avec DOM"
   ]
  },
  {
   "cell_type": "markdown",
   "metadata": {},
   "source": [
    "L'API `ElementTree` est propre à Python, `DOM` est une API indépendante d'un langage de programmation. Il existe des implémentations `DOM` dans la plupart des langages de programmation modernes.  "
   ]
  },
  {
   "cell_type": "code",
   "execution_count": 14,
   "metadata": {
    "collapsed": false
   },
   "outputs": [
    {
     "data": {
      "text/plain": [
       "<xml.dom.minidom.Document at 0x7fb9f80ecd08>"
      ]
     },
     "execution_count": 14,
     "metadata": {},
     "output_type": "execute_result"
    }
   ],
   "source": [
    "from xml.dom import minidom\n",
    "dom = minidom.parse(\"josephine-1-150119.xml\")\n",
    "# l'objet Document\n",
    "dom"
   ]
  },
  {
   "cell_type": "code",
   "execution_count": 15,
   "metadata": {
    "collapsed": false
   },
   "outputs": [
    {
     "name": "stdout",
     "output_type": "stream",
     "text": [
      "<DOM Element: title at 0x7fb9f8162c28>\n",
      "#text\n",
      "Joséphine Pouchet à son époux le 19-01-1915 depuis Baillargues\n"
     ]
    }
   ],
   "source": [
    "title = dom.getElementsByTagNameNS(\"http://www.tei-c.org/ns/1.0\", 'title')[0] # un seul élément 'title' dans le document\n",
    "print(title) # title est un objet Element, pour accèder au contenu textuel il faut récupérer le noeud texte\n",
    "print(title.lastChild.nodeName)\n",
    "print(title.lastChild.nodeValue)"
   ]
  },
  {
   "cell_type": "markdown",
   "metadata": {},
   "source": [
    "idem pour la source, sauf qu'on ne peut pas se permettre de rechercher tous les éléments `p`.  \n",
    "Il faut trouver l'élément `p` fils de `sourceDesc`"
   ]
  },
  {
   "cell_type": "code",
   "execution_count": 17,
   "metadata": {
    "collapsed": false
   },
   "outputs": [
    {
     "name": "stdout",
     "output_type": "stream",
     "text": [
      "Correspondance de Joséphine Pouchet, numérisée par les Archives Départementales de l'Hérault.\n"
     ]
    }
   ],
   "source": [
    "sourceDesc = dom.getElementsByTagNameNS(\"http://www.tei-c.org/ns/1.0\", 'sourceDesc')[0]\n",
    "for node in sourceDesc.childNodes:\n",
    "    if node.localName == \"p\":\n",
    "        print(node.lastChild.nodeValue)"
   ]
  },
  {
   "cell_type": "markdown",
   "metadata": {
    "collapsed": true
   },
   "source": [
    "Et maintenant le contenu et ses éléments milestones.  \n",
    "Pour garder la forme vous réécrirez les boucles `for` suivies de `if` en listes en intension."
   ]
  },
  {
   "cell_type": "code",
   "execution_count": 34,
   "metadata": {
    "collapsed": false
   },
   "outputs": [
    {
     "name": "stdout",
     "output_type": "stream",
     "text": [
      "\n",
      "Baillargues Le 19 janvier 1915\n",
      "\n",
      "cher Laurent\n",
      "\n",
      "je reponse a ton aimableux lettres\n",
      "que nous a fait plaisir en naprenas\n",
      "que tu et enbonne santes car il\n",
      "anais de maime pour nous\n",
      "\n",
      "cher Laurent je repons a la cartes\n",
      "de ma mère quelles et venue au\n",
      "jourdhui pour de faire \n",
      "partir un paquet quil \n",
      "les chosette sausice chocolas une\n",
      "paire de chosette pour Louis\n",
      "je pense que vous magerè ensenbleus\n",
      "tu feras repons a la maison te\n",
      "suite que tu rese vras le paquet\n",
      "je te dirais que ten le midi il\n",
      "fait frois il fait du vent glasais\n",
      "et toi au pas de calais tu nous\n",
      "dit quil pleus mai tu nous parles\n",
      "pas si tu a ases pour te garendir\n",
      "du froit cil te maque quelles chose\n",
      "\n",
      "tu nas que ledire quon de len \n",
      "verras tu nous dit que charles ta\n",
      "Ecrie et ta soeux et ta dit que\n",
      "je lui et envoiez la photot\n",
      "plurien a te dire pour le moment\n",
      "que de ten voiez une grose\n",
      "carriese de tous et boutounase\n",
      "de ton petit enge \n",
      "adorè Albert encorre une foi\n",
      "te plui Milles baisées te tous\n",
      "ta fenme pour la vie\n",
      "Josephine Pouchet\n",
      "bien le bonjour de la familles\n",
      "et casimir et de tous le voisin\n",
      "et amie et de marie la perdigailles\n"
     ]
    }
   ],
   "source": [
    "body = dom.getElementsByTagNameNS(\"http://www.tei-c.org/ns/1.0\", 'body')[0]\n",
    "for node in body.childNodes:\n",
    "    if node.localName == \"p\" or \"opener\":\n",
    "        for in_node in node.childNodes:\n",
    "            if in_node.nodeName == \"#text\":\n",
    "                print(in_node.nodeValue, end=\"\")"
   ]
  },
  {
   "cell_type": "code",
   "execution_count": null,
   "metadata": {
    "collapsed": true
   },
   "outputs": [],
   "source": []
  }
 ],
 "metadata": {
  "kernelspec": {
   "display_name": "Python 3",
   "language": "python",
   "name": "python3"
  },
  "language_info": {
   "codemirror_mode": {
    "name": "ipython",
    "version": 3
   },
   "file_extension": ".py",
   "mimetype": "text/x-python",
   "name": "python",
   "nbconvert_exporter": "python",
   "pygments_lexer": "ipython3",
   "version": "3.5.2+"
  }
 },
 "nbformat": 4,
 "nbformat_minor": 0
}
