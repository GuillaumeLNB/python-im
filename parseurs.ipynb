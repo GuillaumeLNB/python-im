{
 "cells": [
  {
   "cell_type": "markdown",
   "metadata": {},
   "source": [
    "# Parseurs\n",
    "\n",
    "Dans ce notebook nous utiliserons le parseur [lxml](http://lxml.de/) qui est un binding de libxml2 et [Beautiful Soup](https://www.crummy.com/software/BeautifulSoup/) "
   ]
  },
  {
   "cell_type": "markdown",
   "metadata": {},
   "source": [
    "## Parser de l'html\n",
    "\n",
    "Beautiful Soup nous permet de parser simplement du contenu html. Même si le contenu est mal formé, le module bs reconstitue un arbre et offre des fonctions faciles à utiliser pour parcourir l'arbre ou y rechercher des éléments.  \n",
    "Beautiful Soup n'est pas un parseur, il utilise les parseurs et offre une API simplifiée à ses utilisateurs."
   ]
  },
  {
   "cell_type": "markdown",
   "metadata": {},
   "source": [
    "Nous travaillerons directement avec du contenu en ligne. Fini les exercices bidons, cette fois nous allons nous confronter à une question essentielle : combien d'accordages *open tuning* Neil Young utilise et comment sont-ils répartis dans son oeuvre ?  \n",
    "On trouve les infos sur les chansons de Neil Young et les accordages sur le fabuleux site [songx.se](http://songx.se/index.php)"
   ]
  },
  {
   "cell_type": "markdown",
   "metadata": {},
   "source": [
    "Avec le module `urllib` nous allons pouvoir instancier un objet Beautiful Soup sans trop d'efforts"
   ]
  },
  {
   "cell_type": "code",
   "execution_count": 1,
   "metadata": {
    "collapsed": false
   },
   "outputs": [],
   "source": [
    "from urllib.request import urlopen\n",
    "from bs4 import BeautifulSoup\n",
    "\n",
    "url = \"http://songx.se/index.php\"\n",
    "html = urlopen(url)\n",
    "soup = BeautifulSoup(html.read(), 'lxml')"
   ]
  },
  {
   "cell_type": "markdown",
   "metadata": {},
   "source": [
    "Voilà nous avons maintenant un objet `soup` de classe Beautiful Soup.  \n",
    "La [doc](https://www.crummy.com/software/BeautifulSoup/bs4/doc/) est très claire."
   ]
  },
  {
   "cell_type": "code",
   "execution_count": 2,
   "metadata": {
    "collapsed": false
   },
   "outputs": [
    {
     "name": "stdout",
     "output_type": "stream",
     "text": [
      "<title>SongX.se - The Neil Young Songbook</title>\n",
      "title\n",
      "SongX.se - The Neil Young Songbook\n"
     ]
    }
   ],
   "source": [
    "# je cherche l'élement avec le tag 'title'\n",
    "print(soup.title)\n",
    "# le tag de l'élément\n",
    "print(soup.title.name)\n",
    "# le contenu textuel de l'élément\n",
    "print(soup.title.string)"
   ]
  },
  {
   "cell_type": "markdown",
   "metadata": {},
   "source": [
    "Les informations qui nous intéressent sont contenues dans des éléments comme celui-ci :  \n",
    "    `<div class=\"songrow\"><a href=\"?song=505\">Clementine</a> <small>(cover)</small><div style=\"float:right;\">EADGBE</div></div>`  \n",
    "Où on trouve 1. le nom de la chanson ('Clementine') et l'accord utilisé ('EADGBE')  \n",
    "Pour trouver ces éléments dans l'arbre nous allons utiliser la méthode `find_all`. La méthode renvoie un iterable."
   ]
  },
  {
   "cell_type": "code",
   "execution_count": null,
   "metadata": {
    "collapsed": false
   },
   "outputs": [],
   "source": [
    "for item in soup.find_all('div', attrs={'class':'songrow'})[:10]:\n",
    "    print(item.a.string, item.div.string)\n",
    "# on peut aussi utiliser la notation suivante\n",
    "#for item in soup.find_all('div', class_=\"songrow\"):"
   ]
  },
  {
   "cell_type": "code",
   "execution_count": 3,
   "metadata": {
    "collapsed": false
   },
   "outputs": [],
   "source": [
    "# notre structure de données résultat\n",
    "# un dictionnaire avec en clé l'accordage et en valeur la liste des chansons qui utilisent cet accordage\n",
    "tunings = dict()\n",
    "for item in soup.find_all('div', attrs={'class':'songrow'}):\n",
    "    song_title = item.a.string\n",
    "    tuning = item.div.string\n",
    "    if tuning in tunings:\n",
    "        tunings[tuning].append(song_title)\n",
    "    else:\n",
    "        tunings[tuning] = [song_title]"
   ]
  },
  {
   "cell_type": "markdown",
   "metadata": {},
   "source": [
    "'Harvest Moon' utilise l'accordage DADGBE, y en a-t'il d'autres ?"
   ]
  },
  {
   "cell_type": "code",
   "execution_count": 23,
   "metadata": {
    "collapsed": false
   },
   "outputs": [
    {
     "data": {
      "text/plain": [
       "['Albuquerque',\n",
       " 'Angry World',\n",
       " 'Captain Kennedy',\n",
       " \"Daddy Went Walkin'\",\n",
       " 'Dirty Old Man',\n",
       " 'Give Me Strength',\n",
       " 'Harvest Moon',\n",
       " 'He Was The King',\n",
       " 'Homegrown',\n",
       " 'Like An Inca',\n",
       " 'Live To Ride',\n",
       " 'New Mama',\n",
       " 'Night Song',\n",
       " 'Ohio',\n",
       " 'Prime Of Life',\n",
       " 'Silver & Gold',\n",
       " 'Sleeps With Angels',\n",
       " 'Star Of Betlehem',\n",
       " 'The Ways Of Love',\n",
       " \"Tonight's The Night\",\n",
       " 'World On A String',\n",
       " 'You And Me']"
      ]
     },
     "execution_count": 23,
     "metadata": {},
     "output_type": "execute_result"
    }
   ],
   "source": [
    "tunings['DADGBE']"
   ]
  },
  {
   "cell_type": "markdown",
   "metadata": {},
   "source": [
    "Combien de chansons pour chaque accordage ?"
   ]
  },
  {
   "cell_type": "code",
   "execution_count": 6,
   "metadata": {
    "collapsed": false
   },
   "outputs": [
    {
     "name": "stdout",
     "output_type": "stream",
     "text": [
      "EADGBE: 464\n",
      "DADGBD: 30\n",
      "DGCFAD: 23\n",
      "DADGBE: 22\n",
      "CGCFAD: 2\n",
      "CGCFAC: 2\n",
      "EbAbDbGbBb: 1\n",
      "BbFBbEbGBb: 1\n",
      "DGCFAA: 1\n"
     ]
    }
   ],
   "source": [
    "for tuning in sorted(tunings.keys(), key=lambda x: len(tunings[x]), reverse=True):\n",
    "    print(\"{}: {}\".format(tuning, len(tunings[tuning])))"
   ]
  },
  {
   "cell_type": "markdown",
   "metadata": {},
   "source": [
    "Allez hop un histogramme"
   ]
  },
  {
   "cell_type": "code",
   "execution_count": 22,
   "metadata": {
    "collapsed": false
   },
   "outputs": [
    {
     "data": {
      "application/javascript": [
       "/* Put everything inside the global mpl namespace */\n",
       "window.mpl = {};\n",
       "\n",
       "mpl.get_websocket_type = function() {\n",
       "    if (typeof(WebSocket) !== 'undefined') {\n",
       "        return WebSocket;\n",
       "    } else if (typeof(MozWebSocket) !== 'undefined') {\n",
       "        return MozWebSocket;\n",
       "    } else {\n",
       "        alert('Your browser does not have WebSocket support.' +\n",
       "              'Please try Chrome, Safari or Firefox ≥ 6. ' +\n",
       "              'Firefox 4 and 5 are also supported but you ' +\n",
       "              'have to enable WebSockets in about:config.');\n",
       "    };\n",
       "}\n",
       "\n",
       "mpl.figure = function(figure_id, websocket, ondownload, parent_element) {\n",
       "    this.id = figure_id;\n",
       "\n",
       "    this.ws = websocket;\n",
       "\n",
       "    this.supports_binary = (this.ws.binaryType != undefined);\n",
       "\n",
       "    if (!this.supports_binary) {\n",
       "        var warnings = document.getElementById(\"mpl-warnings\");\n",
       "        if (warnings) {\n",
       "            warnings.style.display = 'block';\n",
       "            warnings.textContent = (\n",
       "                \"This browser does not support binary websocket messages. \" +\n",
       "                    \"Performance may be slow.\");\n",
       "        }\n",
       "    }\n",
       "\n",
       "    this.imageObj = new Image();\n",
       "\n",
       "    this.context = undefined;\n",
       "    this.message = undefined;\n",
       "    this.canvas = undefined;\n",
       "    this.rubberband_canvas = undefined;\n",
       "    this.rubberband_context = undefined;\n",
       "    this.format_dropdown = undefined;\n",
       "\n",
       "    this.image_mode = 'full';\n",
       "\n",
       "    this.root = $('<div/>');\n",
       "    this._root_extra_style(this.root)\n",
       "    this.root.attr('style', 'display: inline-block');\n",
       "\n",
       "    $(parent_element).append(this.root);\n",
       "\n",
       "    this._init_header(this);\n",
       "    this._init_canvas(this);\n",
       "    this._init_toolbar(this);\n",
       "\n",
       "    var fig = this;\n",
       "\n",
       "    this.waiting = false;\n",
       "\n",
       "    this.ws.onopen =  function () {\n",
       "            fig.send_message(\"supports_binary\", {value: fig.supports_binary});\n",
       "            fig.send_message(\"send_image_mode\", {});\n",
       "            fig.send_message(\"refresh\", {});\n",
       "        }\n",
       "\n",
       "    this.imageObj.onload = function() {\n",
       "            if (fig.image_mode == 'full') {\n",
       "                // Full images could contain transparency (where diff images\n",
       "                // almost always do), so we need to clear the canvas so that\n",
       "                // there is no ghosting.\n",
       "                fig.context.clearRect(0, 0, fig.canvas.width, fig.canvas.height);\n",
       "            }\n",
       "            fig.context.drawImage(fig.imageObj, 0, 0);\n",
       "        };\n",
       "\n",
       "    this.imageObj.onunload = function() {\n",
       "        this.ws.close();\n",
       "    }\n",
       "\n",
       "    this.ws.onmessage = this._make_on_message_function(this);\n",
       "\n",
       "    this.ondownload = ondownload;\n",
       "}\n",
       "\n",
       "mpl.figure.prototype._init_header = function() {\n",
       "    var titlebar = $(\n",
       "        '<div class=\"ui-dialog-titlebar ui-widget-header ui-corner-all ' +\n",
       "        'ui-helper-clearfix\"/>');\n",
       "    var titletext = $(\n",
       "        '<div class=\"ui-dialog-title\" style=\"width: 100%; ' +\n",
       "        'text-align: center; padding: 3px;\"/>');\n",
       "    titlebar.append(titletext)\n",
       "    this.root.append(titlebar);\n",
       "    this.header = titletext[0];\n",
       "}\n",
       "\n",
       "\n",
       "\n",
       "mpl.figure.prototype._canvas_extra_style = function(canvas_div) {\n",
       "\n",
       "}\n",
       "\n",
       "\n",
       "mpl.figure.prototype._root_extra_style = function(canvas_div) {\n",
       "\n",
       "}\n",
       "\n",
       "mpl.figure.prototype._init_canvas = function() {\n",
       "    var fig = this;\n",
       "\n",
       "    var canvas_div = $('<div/>');\n",
       "\n",
       "    canvas_div.attr('style', 'position: relative; clear: both; outline: 0');\n",
       "\n",
       "    function canvas_keyboard_event(event) {\n",
       "        return fig.key_event(event, event['data']);\n",
       "    }\n",
       "\n",
       "    canvas_div.keydown('key_press', canvas_keyboard_event);\n",
       "    canvas_div.keyup('key_release', canvas_keyboard_event);\n",
       "    this.canvas_div = canvas_div\n",
       "    this._canvas_extra_style(canvas_div)\n",
       "    this.root.append(canvas_div);\n",
       "\n",
       "    var canvas = $('<canvas/>');\n",
       "    canvas.addClass('mpl-canvas');\n",
       "    canvas.attr('style', \"left: 0; top: 0; z-index: 0; outline: 0\")\n",
       "\n",
       "    this.canvas = canvas[0];\n",
       "    this.context = canvas[0].getContext(\"2d\");\n",
       "\n",
       "    var rubberband = $('<canvas/>');\n",
       "    rubberband.attr('style', \"position: absolute; left: 0; top: 0; z-index: 1;\")\n",
       "\n",
       "    var pass_mouse_events = true;\n",
       "\n",
       "    canvas_div.resizable({\n",
       "        start: function(event, ui) {\n",
       "            pass_mouse_events = false;\n",
       "        },\n",
       "        resize: function(event, ui) {\n",
       "            fig.request_resize(ui.size.width, ui.size.height);\n",
       "        },\n",
       "        stop: function(event, ui) {\n",
       "            pass_mouse_events = true;\n",
       "            fig.request_resize(ui.size.width, ui.size.height);\n",
       "        },\n",
       "    });\n",
       "\n",
       "    function mouse_event_fn(event) {\n",
       "        if (pass_mouse_events)\n",
       "            return fig.mouse_event(event, event['data']);\n",
       "    }\n",
       "\n",
       "    rubberband.mousedown('button_press', mouse_event_fn);\n",
       "    rubberband.mouseup('button_release', mouse_event_fn);\n",
       "    // Throttle sequential mouse events to 1 every 20ms.\n",
       "    rubberband.mousemove('motion_notify', mouse_event_fn);\n",
       "\n",
       "    rubberband.mouseenter('figure_enter', mouse_event_fn);\n",
       "    rubberband.mouseleave('figure_leave', mouse_event_fn);\n",
       "\n",
       "    canvas_div.on(\"wheel\", function (event) {\n",
       "        event = event.originalEvent;\n",
       "        event['data'] = 'scroll'\n",
       "        if (event.deltaY < 0) {\n",
       "            event.step = 1;\n",
       "        } else {\n",
       "            event.step = -1;\n",
       "        }\n",
       "        mouse_event_fn(event);\n",
       "    });\n",
       "\n",
       "    canvas_div.append(canvas);\n",
       "    canvas_div.append(rubberband);\n",
       "\n",
       "    this.rubberband = rubberband;\n",
       "    this.rubberband_canvas = rubberband[0];\n",
       "    this.rubberband_context = rubberband[0].getContext(\"2d\");\n",
       "    this.rubberband_context.strokeStyle = \"#000000\";\n",
       "\n",
       "    this._resize_canvas = function(width, height) {\n",
       "        // Keep the size of the canvas, canvas container, and rubber band\n",
       "        // canvas in synch.\n",
       "        canvas_div.css('width', width)\n",
       "        canvas_div.css('height', height)\n",
       "\n",
       "        canvas.attr('width', width);\n",
       "        canvas.attr('height', height);\n",
       "\n",
       "        rubberband.attr('width', width);\n",
       "        rubberband.attr('height', height);\n",
       "    }\n",
       "\n",
       "    // Set the figure to an initial 600x600px, this will subsequently be updated\n",
       "    // upon first draw.\n",
       "    this._resize_canvas(600, 600);\n",
       "\n",
       "    // Disable right mouse context menu.\n",
       "    $(this.rubberband_canvas).bind(\"contextmenu\",function(e){\n",
       "        return false;\n",
       "    });\n",
       "\n",
       "    function set_focus () {\n",
       "        canvas.focus();\n",
       "        canvas_div.focus();\n",
       "    }\n",
       "\n",
       "    window.setTimeout(set_focus, 100);\n",
       "}\n",
       "\n",
       "mpl.figure.prototype._init_toolbar = function() {\n",
       "    var fig = this;\n",
       "\n",
       "    var nav_element = $('<div/>')\n",
       "    nav_element.attr('style', 'width: 100%');\n",
       "    this.root.append(nav_element);\n",
       "\n",
       "    // Define a callback function for later on.\n",
       "    function toolbar_event(event) {\n",
       "        return fig.toolbar_button_onclick(event['data']);\n",
       "    }\n",
       "    function toolbar_mouse_event(event) {\n",
       "        return fig.toolbar_button_onmouseover(event['data']);\n",
       "    }\n",
       "\n",
       "    for(var toolbar_ind in mpl.toolbar_items) {\n",
       "        var name = mpl.toolbar_items[toolbar_ind][0];\n",
       "        var tooltip = mpl.toolbar_items[toolbar_ind][1];\n",
       "        var image = mpl.toolbar_items[toolbar_ind][2];\n",
       "        var method_name = mpl.toolbar_items[toolbar_ind][3];\n",
       "\n",
       "        if (!name) {\n",
       "            // put a spacer in here.\n",
       "            continue;\n",
       "        }\n",
       "        var button = $('<button/>');\n",
       "        button.addClass('ui-button ui-widget ui-state-default ui-corner-all ' +\n",
       "                        'ui-button-icon-only');\n",
       "        button.attr('role', 'button');\n",
       "        button.attr('aria-disabled', 'false');\n",
       "        button.click(method_name, toolbar_event);\n",
       "        button.mouseover(tooltip, toolbar_mouse_event);\n",
       "\n",
       "        var icon_img = $('<span/>');\n",
       "        icon_img.addClass('ui-button-icon-primary ui-icon');\n",
       "        icon_img.addClass(image);\n",
       "        icon_img.addClass('ui-corner-all');\n",
       "\n",
       "        var tooltip_span = $('<span/>');\n",
       "        tooltip_span.addClass('ui-button-text');\n",
       "        tooltip_span.html(tooltip);\n",
       "\n",
       "        button.append(icon_img);\n",
       "        button.append(tooltip_span);\n",
       "\n",
       "        nav_element.append(button);\n",
       "    }\n",
       "\n",
       "    var fmt_picker_span = $('<span/>');\n",
       "\n",
       "    var fmt_picker = $('<select/>');\n",
       "    fmt_picker.addClass('mpl-toolbar-option ui-widget ui-widget-content');\n",
       "    fmt_picker_span.append(fmt_picker);\n",
       "    nav_element.append(fmt_picker_span);\n",
       "    this.format_dropdown = fmt_picker[0];\n",
       "\n",
       "    for (var ind in mpl.extensions) {\n",
       "        var fmt = mpl.extensions[ind];\n",
       "        var option = $(\n",
       "            '<option/>', {selected: fmt === mpl.default_extension}).html(fmt);\n",
       "        fmt_picker.append(option)\n",
       "    }\n",
       "\n",
       "    // Add hover states to the ui-buttons\n",
       "    $( \".ui-button\" ).hover(\n",
       "        function() { $(this).addClass(\"ui-state-hover\");},\n",
       "        function() { $(this).removeClass(\"ui-state-hover\");}\n",
       "    );\n",
       "\n",
       "    var status_bar = $('<span class=\"mpl-message\"/>');\n",
       "    nav_element.append(status_bar);\n",
       "    this.message = status_bar[0];\n",
       "}\n",
       "\n",
       "mpl.figure.prototype.request_resize = function(x_pixels, y_pixels) {\n",
       "    // Request matplotlib to resize the figure. Matplotlib will then trigger a resize in the client,\n",
       "    // which will in turn request a refresh of the image.\n",
       "    this.send_message('resize', {'width': x_pixels, 'height': y_pixels});\n",
       "}\n",
       "\n",
       "mpl.figure.prototype.send_message = function(type, properties) {\n",
       "    properties['type'] = type;\n",
       "    properties['figure_id'] = this.id;\n",
       "    this.ws.send(JSON.stringify(properties));\n",
       "}\n",
       "\n",
       "mpl.figure.prototype.send_draw_message = function() {\n",
       "    if (!this.waiting) {\n",
       "        this.waiting = true;\n",
       "        this.ws.send(JSON.stringify({type: \"draw\", figure_id: this.id}));\n",
       "    }\n",
       "}\n",
       "\n",
       "\n",
       "mpl.figure.prototype.handle_save = function(fig, msg) {\n",
       "    var format_dropdown = fig.format_dropdown;\n",
       "    var format = format_dropdown.options[format_dropdown.selectedIndex].value;\n",
       "    fig.ondownload(fig, format);\n",
       "}\n",
       "\n",
       "\n",
       "mpl.figure.prototype.handle_resize = function(fig, msg) {\n",
       "    var size = msg['size'];\n",
       "    if (size[0] != fig.canvas.width || size[1] != fig.canvas.height) {\n",
       "        fig._resize_canvas(size[0], size[1]);\n",
       "        fig.send_message(\"refresh\", {});\n",
       "    };\n",
       "}\n",
       "\n",
       "mpl.figure.prototype.handle_rubberband = function(fig, msg) {\n",
       "    var x0 = msg['x0'];\n",
       "    var y0 = fig.canvas.height - msg['y0'];\n",
       "    var x1 = msg['x1'];\n",
       "    var y1 = fig.canvas.height - msg['y1'];\n",
       "    x0 = Math.floor(x0) + 0.5;\n",
       "    y0 = Math.floor(y0) + 0.5;\n",
       "    x1 = Math.floor(x1) + 0.5;\n",
       "    y1 = Math.floor(y1) + 0.5;\n",
       "    var min_x = Math.min(x0, x1);\n",
       "    var min_y = Math.min(y0, y1);\n",
       "    var width = Math.abs(x1 - x0);\n",
       "    var height = Math.abs(y1 - y0);\n",
       "\n",
       "    fig.rubberband_context.clearRect(\n",
       "        0, 0, fig.canvas.width, fig.canvas.height);\n",
       "\n",
       "    fig.rubberband_context.strokeRect(min_x, min_y, width, height);\n",
       "}\n",
       "\n",
       "mpl.figure.prototype.handle_figure_label = function(fig, msg) {\n",
       "    // Updates the figure title.\n",
       "    fig.header.textContent = msg['label'];\n",
       "}\n",
       "\n",
       "mpl.figure.prototype.handle_cursor = function(fig, msg) {\n",
       "    var cursor = msg['cursor'];\n",
       "    switch(cursor)\n",
       "    {\n",
       "    case 0:\n",
       "        cursor = 'pointer';\n",
       "        break;\n",
       "    case 1:\n",
       "        cursor = 'default';\n",
       "        break;\n",
       "    case 2:\n",
       "        cursor = 'crosshair';\n",
       "        break;\n",
       "    case 3:\n",
       "        cursor = 'move';\n",
       "        break;\n",
       "    }\n",
       "    fig.rubberband_canvas.style.cursor = cursor;\n",
       "}\n",
       "\n",
       "mpl.figure.prototype.handle_message = function(fig, msg) {\n",
       "    fig.message.textContent = msg['message'];\n",
       "}\n",
       "\n",
       "mpl.figure.prototype.handle_draw = function(fig, msg) {\n",
       "    // Request the server to send over a new figure.\n",
       "    fig.send_draw_message();\n",
       "}\n",
       "\n",
       "mpl.figure.prototype.handle_image_mode = function(fig, msg) {\n",
       "    fig.image_mode = msg['mode'];\n",
       "}\n",
       "\n",
       "mpl.figure.prototype.updated_canvas_event = function() {\n",
       "    // Called whenever the canvas gets updated.\n",
       "    this.send_message(\"ack\", {});\n",
       "}\n",
       "\n",
       "// A function to construct a web socket function for onmessage handling.\n",
       "// Called in the figure constructor.\n",
       "mpl.figure.prototype._make_on_message_function = function(fig) {\n",
       "    return function socket_on_message(evt) {\n",
       "        if (evt.data instanceof Blob) {\n",
       "            /* FIXME: We get \"Resource interpreted as Image but\n",
       "             * transferred with MIME type text/plain:\" errors on\n",
       "             * Chrome.  But how to set the MIME type?  It doesn't seem\n",
       "             * to be part of the websocket stream */\n",
       "            evt.data.type = \"image/png\";\n",
       "\n",
       "            /* Free the memory for the previous frames */\n",
       "            if (fig.imageObj.src) {\n",
       "                (window.URL || window.webkitURL).revokeObjectURL(\n",
       "                    fig.imageObj.src);\n",
       "            }\n",
       "\n",
       "            fig.imageObj.src = (window.URL || window.webkitURL).createObjectURL(\n",
       "                evt.data);\n",
       "            fig.updated_canvas_event();\n",
       "            fig.waiting = false;\n",
       "            return;\n",
       "        }\n",
       "        else if (typeof evt.data === 'string' && evt.data.slice(0, 21) == \"data:image/png;base64\") {\n",
       "            fig.imageObj.src = evt.data;\n",
       "            fig.updated_canvas_event();\n",
       "            fig.waiting = false;\n",
       "            return;\n",
       "        }\n",
       "\n",
       "        var msg = JSON.parse(evt.data);\n",
       "        var msg_type = msg['type'];\n",
       "\n",
       "        // Call the  \"handle_{type}\" callback, which takes\n",
       "        // the figure and JSON message as its only arguments.\n",
       "        try {\n",
       "            var callback = fig[\"handle_\" + msg_type];\n",
       "        } catch (e) {\n",
       "            console.log(\"No handler for the '\" + msg_type + \"' message type: \", msg);\n",
       "            return;\n",
       "        }\n",
       "\n",
       "        if (callback) {\n",
       "            try {\n",
       "                // console.log(\"Handling '\" + msg_type + \"' message: \", msg);\n",
       "                callback(fig, msg);\n",
       "            } catch (e) {\n",
       "                console.log(\"Exception inside the 'handler_\" + msg_type + \"' callback:\", e, e.stack, msg);\n",
       "            }\n",
       "        }\n",
       "    };\n",
       "}\n",
       "\n",
       "// from http://stackoverflow.com/questions/1114465/getting-mouse-location-in-canvas\n",
       "mpl.findpos = function(e) {\n",
       "    //this section is from http://www.quirksmode.org/js/events_properties.html\n",
       "    var targ;\n",
       "    if (!e)\n",
       "        e = window.event;\n",
       "    if (e.target)\n",
       "        targ = e.target;\n",
       "    else if (e.srcElement)\n",
       "        targ = e.srcElement;\n",
       "    if (targ.nodeType == 3) // defeat Safari bug\n",
       "        targ = targ.parentNode;\n",
       "\n",
       "    // jQuery normalizes the pageX and pageY\n",
       "    // pageX,Y are the mouse positions relative to the document\n",
       "    // offset() returns the position of the element relative to the document\n",
       "    var x = e.pageX - $(targ).offset().left;\n",
       "    var y = e.pageY - $(targ).offset().top;\n",
       "\n",
       "    return {\"x\": x, \"y\": y};\n",
       "};\n",
       "\n",
       "/*\n",
       " * return a copy of an object with only non-object keys\n",
       " * we need this to avoid circular references\n",
       " * http://stackoverflow.com/a/24161582/3208463\n",
       " */\n",
       "function simpleKeys (original) {\n",
       "  return Object.keys(original).reduce(function (obj, key) {\n",
       "    if (typeof original[key] !== 'object')\n",
       "        obj[key] = original[key]\n",
       "    return obj;\n",
       "  }, {});\n",
       "}\n",
       "\n",
       "mpl.figure.prototype.mouse_event = function(event, name) {\n",
       "    var canvas_pos = mpl.findpos(event)\n",
       "\n",
       "    if (name === 'button_press')\n",
       "    {\n",
       "        this.canvas.focus();\n",
       "        this.canvas_div.focus();\n",
       "    }\n",
       "\n",
       "    var x = canvas_pos.x;\n",
       "    var y = canvas_pos.y;\n",
       "\n",
       "    this.send_message(name, {x: x, y: y, button: event.button,\n",
       "                             step: event.step,\n",
       "                             guiEvent: simpleKeys(event)});\n",
       "\n",
       "    /* This prevents the web browser from automatically changing to\n",
       "     * the text insertion cursor when the button is pressed.  We want\n",
       "     * to control all of the cursor setting manually through the\n",
       "     * 'cursor' event from matplotlib */\n",
       "    event.preventDefault();\n",
       "    return false;\n",
       "}\n",
       "\n",
       "mpl.figure.prototype._key_event_extra = function(event, name) {\n",
       "    // Handle any extra behaviour associated with a key event\n",
       "}\n",
       "\n",
       "mpl.figure.prototype.key_event = function(event, name) {\n",
       "\n",
       "    // Prevent repeat events\n",
       "    if (name == 'key_press')\n",
       "    {\n",
       "        if (event.which === this._key)\n",
       "            return;\n",
       "        else\n",
       "            this._key = event.which;\n",
       "    }\n",
       "    if (name == 'key_release')\n",
       "        this._key = null;\n",
       "\n",
       "    var value = '';\n",
       "    if (event.ctrlKey && event.which != 17)\n",
       "        value += \"ctrl+\";\n",
       "    if (event.altKey && event.which != 18)\n",
       "        value += \"alt+\";\n",
       "    if (event.shiftKey && event.which != 16)\n",
       "        value += \"shift+\";\n",
       "\n",
       "    value += 'k';\n",
       "    value += event.which.toString();\n",
       "\n",
       "    this._key_event_extra(event, name);\n",
       "\n",
       "    this.send_message(name, {key: value,\n",
       "                             guiEvent: simpleKeys(event)});\n",
       "    return false;\n",
       "}\n",
       "\n",
       "mpl.figure.prototype.toolbar_button_onclick = function(name) {\n",
       "    if (name == 'download') {\n",
       "        this.handle_save(this, null);\n",
       "    } else {\n",
       "        this.send_message(\"toolbar_button\", {name: name});\n",
       "    }\n",
       "};\n",
       "\n",
       "mpl.figure.prototype.toolbar_button_onmouseover = function(tooltip) {\n",
       "    this.message.textContent = tooltip;\n",
       "};\n",
       "mpl.toolbar_items = [[\"Home\", \"Reset original view\", \"fa fa-home icon-home\", \"home\"], [\"Back\", \"Back to  previous view\", \"fa fa-arrow-left icon-arrow-left\", \"back\"], [\"Forward\", \"Forward to next view\", \"fa fa-arrow-right icon-arrow-right\", \"forward\"], [\"\", \"\", \"\", \"\"], [\"Pan\", \"Pan axes with left mouse, zoom with right\", \"fa fa-arrows icon-move\", \"pan\"], [\"Zoom\", \"Zoom to rectangle\", \"fa fa-square-o icon-check-empty\", \"zoom\"], [\"\", \"\", \"\", \"\"], [\"Download\", \"Download plot\", \"fa fa-floppy-o icon-save\", \"download\"]];\n",
       "\n",
       "mpl.extensions = [\"eps\", \"pdf\", \"png\", \"ps\", \"raw\", \"svg\"];\n",
       "\n",
       "mpl.default_extension = \"png\";var comm_websocket_adapter = function(comm) {\n",
       "    // Create a \"websocket\"-like object which calls the given IPython comm\n",
       "    // object with the appropriate methods. Currently this is a non binary\n",
       "    // socket, so there is still some room for performance tuning.\n",
       "    var ws = {};\n",
       "\n",
       "    ws.close = function() {\n",
       "        comm.close()\n",
       "    };\n",
       "    ws.send = function(m) {\n",
       "        //console.log('sending', m);\n",
       "        comm.send(m);\n",
       "    };\n",
       "    // Register the callback with on_msg.\n",
       "    comm.on_msg(function(msg) {\n",
       "        //console.log('receiving', msg['content']['data'], msg);\n",
       "        // Pass the mpl event to the overriden (by mpl) onmessage function.\n",
       "        ws.onmessage(msg['content']['data'])\n",
       "    });\n",
       "    return ws;\n",
       "}\n",
       "\n",
       "mpl.mpl_figure_comm = function(comm, msg) {\n",
       "    // This is the function which gets called when the mpl process\n",
       "    // starts-up an IPython Comm through the \"matplotlib\" channel.\n",
       "\n",
       "    var id = msg.content.data.id;\n",
       "    // Get hold of the div created by the display call when the Comm\n",
       "    // socket was opened in Python.\n",
       "    var element = $(\"#\" + id);\n",
       "    var ws_proxy = comm_websocket_adapter(comm)\n",
       "\n",
       "    function ondownload(figure, format) {\n",
       "        window.open(figure.imageObj.src);\n",
       "    }\n",
       "\n",
       "    var fig = new mpl.figure(id, ws_proxy,\n",
       "                           ondownload,\n",
       "                           element.get(0));\n",
       "\n",
       "    // Call onopen now - mpl needs it, as it is assuming we've passed it a real\n",
       "    // web socket which is closed, not our websocket->open comm proxy.\n",
       "    ws_proxy.onopen();\n",
       "\n",
       "    fig.parent_element = element.get(0);\n",
       "    fig.cell_info = mpl.find_output_cell(\"<div id='\" + id + \"'></div>\");\n",
       "    if (!fig.cell_info) {\n",
       "        console.error(\"Failed to find cell for figure\", id, fig);\n",
       "        return;\n",
       "    }\n",
       "\n",
       "    var output_index = fig.cell_info[2]\n",
       "    var cell = fig.cell_info[0];\n",
       "\n",
       "};\n",
       "\n",
       "mpl.figure.prototype.handle_close = function(fig, msg) {\n",
       "    fig.root.unbind('remove')\n",
       "\n",
       "    // Update the output cell to use the data from the current canvas.\n",
       "    fig.push_to_output();\n",
       "    var dataURL = fig.canvas.toDataURL();\n",
       "    // Re-enable the keyboard manager in IPython - without this line, in FF,\n",
       "    // the notebook keyboard shortcuts fail.\n",
       "    IPython.keyboard_manager.enable()\n",
       "    $(fig.parent_element).html('<img src=\"' + dataURL + '\">');\n",
       "    fig.close_ws(fig, msg);\n",
       "}\n",
       "\n",
       "mpl.figure.prototype.close_ws = function(fig, msg){\n",
       "    fig.send_message('closing', msg);\n",
       "    // fig.ws.close()\n",
       "}\n",
       "\n",
       "mpl.figure.prototype.push_to_output = function(remove_interactive) {\n",
       "    // Turn the data on the canvas into data in the output cell.\n",
       "    var dataURL = this.canvas.toDataURL();\n",
       "    this.cell_info[1]['text/html'] = '<img src=\"' + dataURL + '\">';\n",
       "}\n",
       "\n",
       "mpl.figure.prototype.updated_canvas_event = function() {\n",
       "    // Tell IPython that the notebook contents must change.\n",
       "    IPython.notebook.set_dirty(true);\n",
       "    this.send_message(\"ack\", {});\n",
       "    var fig = this;\n",
       "    // Wait a second, then push the new image to the DOM so\n",
       "    // that it is saved nicely (might be nice to debounce this).\n",
       "    setTimeout(function () { fig.push_to_output() }, 1000);\n",
       "}\n",
       "\n",
       "mpl.figure.prototype._init_toolbar = function() {\n",
       "    var fig = this;\n",
       "\n",
       "    var nav_element = $('<div/>')\n",
       "    nav_element.attr('style', 'width: 100%');\n",
       "    this.root.append(nav_element);\n",
       "\n",
       "    // Define a callback function for later on.\n",
       "    function toolbar_event(event) {\n",
       "        return fig.toolbar_button_onclick(event['data']);\n",
       "    }\n",
       "    function toolbar_mouse_event(event) {\n",
       "        return fig.toolbar_button_onmouseover(event['data']);\n",
       "    }\n",
       "\n",
       "    for(var toolbar_ind in mpl.toolbar_items){\n",
       "        var name = mpl.toolbar_items[toolbar_ind][0];\n",
       "        var tooltip = mpl.toolbar_items[toolbar_ind][1];\n",
       "        var image = mpl.toolbar_items[toolbar_ind][2];\n",
       "        var method_name = mpl.toolbar_items[toolbar_ind][3];\n",
       "\n",
       "        if (!name) { continue; };\n",
       "\n",
       "        var button = $('<button class=\"btn btn-default\" href=\"#\" title=\"' + name + '\"><i class=\"fa ' + image + ' fa-lg\"></i></button>');\n",
       "        button.click(method_name, toolbar_event);\n",
       "        button.mouseover(tooltip, toolbar_mouse_event);\n",
       "        nav_element.append(button);\n",
       "    }\n",
       "\n",
       "    // Add the status bar.\n",
       "    var status_bar = $('<span class=\"mpl-message\" style=\"text-align:right; float: right;\"/>');\n",
       "    nav_element.append(status_bar);\n",
       "    this.message = status_bar[0];\n",
       "\n",
       "    // Add the close button to the window.\n",
       "    var buttongrp = $('<div class=\"btn-group inline pull-right\"></div>');\n",
       "    var button = $('<button class=\"btn btn-mini btn-primary\" href=\"#\" title=\"Stop Interaction\"><i class=\"fa fa-power-off icon-remove icon-large\"></i></button>');\n",
       "    button.click(function (evt) { fig.handle_close(fig, {}); } );\n",
       "    button.mouseover('Stop Interaction', toolbar_mouse_event);\n",
       "    buttongrp.append(button);\n",
       "    var titlebar = this.root.find($('.ui-dialog-titlebar'));\n",
       "    titlebar.prepend(buttongrp);\n",
       "}\n",
       "\n",
       "mpl.figure.prototype._root_extra_style = function(el){\n",
       "    var fig = this\n",
       "    el.on(\"remove\", function(){\n",
       "\tfig.close_ws(fig, {});\n",
       "    });\n",
       "}\n",
       "\n",
       "mpl.figure.prototype._canvas_extra_style = function(el){\n",
       "    // this is important to make the div 'focusable\n",
       "    el.attr('tabindex', 0)\n",
       "    // reach out to IPython and tell the keyboard manager to turn it's self\n",
       "    // off when our div gets focus\n",
       "\n",
       "    // location in version 3\n",
       "    if (IPython.notebook.keyboard_manager) {\n",
       "        IPython.notebook.keyboard_manager.register_events(el);\n",
       "    }\n",
       "    else {\n",
       "        // location in version 2\n",
       "        IPython.keyboard_manager.register_events(el);\n",
       "    }\n",
       "\n",
       "}\n",
       "\n",
       "mpl.figure.prototype._key_event_extra = function(event, name) {\n",
       "    var manager = IPython.notebook.keyboard_manager;\n",
       "    if (!manager)\n",
       "        manager = IPython.keyboard_manager;\n",
       "\n",
       "    // Check for shift+enter\n",
       "    if (event.shiftKey && event.which == 13) {\n",
       "        this.canvas_div.blur();\n",
       "        // select the cell after this one\n",
       "        var index = IPython.notebook.find_cell_index(this.cell_info[0]);\n",
       "        IPython.notebook.select(index + 1);\n",
       "    }\n",
       "}\n",
       "\n",
       "mpl.figure.prototype.handle_save = function(fig, msg) {\n",
       "    fig.ondownload(fig, null);\n",
       "}\n",
       "\n",
       "\n",
       "mpl.find_output_cell = function(html_output) {\n",
       "    // Return the cell and output element which can be found *uniquely* in the notebook.\n",
       "    // Note - this is a bit hacky, but it is done because the \"notebook_saving.Notebook\"\n",
       "    // IPython event is triggered only after the cells have been serialised, which for\n",
       "    // our purposes (turning an active figure into a static one), is too late.\n",
       "    var cells = IPython.notebook.get_cells();\n",
       "    var ncells = cells.length;\n",
       "    for (var i=0; i<ncells; i++) {\n",
       "        var cell = cells[i];\n",
       "        if (cell.cell_type === 'code'){\n",
       "            for (var j=0; j<cell.output_area.outputs.length; j++) {\n",
       "                var data = cell.output_area.outputs[j];\n",
       "                if (data.data) {\n",
       "                    // IPython >= 3 moved mimebundle to data attribute of output\n",
       "                    data = data.data;\n",
       "                }\n",
       "                if (data['text/html'] == html_output) {\n",
       "                    return [cell, data, j];\n",
       "                }\n",
       "            }\n",
       "        }\n",
       "    }\n",
       "}\n",
       "\n",
       "// Register the function which deals with the matplotlib target/channel.\n",
       "// The kernel may be null if the page has been refreshed.\n",
       "if (IPython.notebook.kernel != null) {\n",
       "    IPython.notebook.kernel.comm_manager.register_target('matplotlib', mpl.mpl_figure_comm);\n",
       "}\n"
      ],
      "text/plain": [
       "<IPython.core.display.Javascript object>"
      ]
     },
     "metadata": {},
     "output_type": "display_data"
    },
    {
     "data": {
      "text/html": [
       "<img src=\"data:image/png;base64,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\">"
      ],
      "text/plain": [
       "<IPython.core.display.HTML object>"
      ]
     },
     "metadata": {},
     "output_type": "display_data"
    }
   ],
   "source": [
    "%matplotlib notebook\n",
    "import matplotlib.pyplot as plt\n",
    "values = [len(tunings[x]) for x in tunings]\n",
    "values\n",
    "plt.bar(range(0, len(values)), values)\n",
    "plt.xticks(range(0, len(values)), tunings.keys(), rotation=17)\n",
    "\n",
    "plt.show()"
   ]
  },
  {
   "cell_type": "markdown",
   "metadata": {
    "collapsed": false
   },
   "source": [
    "## Parser de l'xml"
   ]
  },
  {
   "cell_type": "markdown",
   "metadata": {
    "collapsed": true
   },
   "source": [
    "Nous allons travailler sur un fichier au format TEI extrait du corpus *Corpus 14*  \n",
    "PRAXILING - UMR 5267 (PRAXILING) (2014). Corpus 14 [Corpus]. ORTOLANG (Open Resources and TOols for LANGuage) - www.ortolang.fr, https://hdl.handle.net/11403/corpus14/v1.  "
   ]
  },
  {
   "cell_type": "markdown",
   "metadata": {},
   "source": [
    "Le fichier se nomme ``josephine-1-150119.xml``. Il s'agit d'une lettre d'une femme de soldat à son époux.  \n",
    "Nous allons extraire du fichier TEI les informations suivantes :  \n",
    "- titre (``/TEI/teiHeader/fileDesc/titleStmt/title``)\n",
    "- source (``/TEI/teiHeader/fileDesc/sourceDesc/p``)\n",
    "- contenu de la lettre (``/TEI/text/body``)"
   ]
  },
  {
   "cell_type": "markdown",
   "metadata": {},
   "source": [
    "### Avec lxml"
   ]
  },
  {
   "cell_type": "markdown",
   "metadata": {},
   "source": [
    "Pourquoi `lxml` et pas `xml.etree.ElementTree` ? Parce que : [1](http://lxml.de/intro.html) et surtout [2](http://lxml.de/performance.html)  \n",
    "La bonne nouvelle c'est que votre code sera aussi compatible avec `xml.etree.ElementTree` ou `xml.etree.cElementTree` parce que xml utilise l'API ElementTree. Sauf pour la méthode `xpath` qui est propre à `libxml`."
   ]
  },
  {
   "cell_type": "code",
   "execution_count": 79,
   "metadata": {
    "collapsed": false
   },
   "outputs": [
    {
     "name": "stdout",
     "output_type": "stream",
     "text": [
      "<cyfunction Comment at 0x7f5fbc8668e8>\n",
      "{http://www.tei-c.org/ns/1.0}teiHeader\n",
      "<cyfunction Comment at 0x7f5fbc8668e8>\n",
      "{http://www.tei-c.org/ns/1.0}facsimile\n",
      "{http://www.tei-c.org/ns/1.0}text\n"
     ]
    }
   ],
   "source": [
    "from lxml import etree\n",
    "tree = etree.parse('josephine-1-150119.xml')\n",
    "root = tree.getroot()\n",
    "\n",
    "# Parcours des enfants de la racine (commentaires et éléments)\n",
    "for child in root:\n",
    "    print(child.tag)"
   ]
  },
  {
   "cell_type": "markdown",
   "metadata": {},
   "source": [
    "Le fichier utilise l'espace de nom TEI : ``<TEI xmlns=\"http://www.tei-c.org/ns/1.0\">``, nous devrons l'indiquer dans nos instructions de recherche.  \n",
    "Voyons ça pour le titre (``/TEI/teiHeader/fileDesc/titleStmt/title``)"
   ]
  },
  {
   "cell_type": "code",
   "execution_count": 115,
   "metadata": {
    "collapsed": false
   },
   "outputs": [
    {
     "name": "stdout",
     "output_type": "stream",
     "text": [
      "Tag : {http://www.tei-c.org/ns/1.0}title\n",
      "Texte : Joséphine Pouchet à son époux le 19-01-1915 depuis Baillargues\n"
     ]
    }
   ],
   "source": [
    "# la méthode find renvoie le premier élément qui correspond au chemin argument (ElementPath et non Xpath)\n",
    "title = root.find(\"./tei:teiHeader/tei:fileDesc/tei:titleStmt/tei:title\", namespaces={'tei':\"http://www.tei-c.org/ns/1.0\"})\n",
    "print(\"Tag : {}\".format(title.tag))\n",
    "print(\"Texte : {}\".format(title.text))"
   ]
  },
  {
   "cell_type": "markdown",
   "metadata": {},
   "source": [
    "Même traitement pour la source :"
   ]
  },
  {
   "cell_type": "code",
   "execution_count": 80,
   "metadata": {
    "collapsed": false
   },
   "outputs": [
    {
     "name": "stdout",
     "output_type": "stream",
     "text": [
      "Tag : {http://www.tei-c.org/ns/1.0}p\n",
      "Texte : Correspondance de Joséphine Pouchet, numérisée par les Archives Départementales de l'Hérault.\n"
     ]
    }
   ],
   "source": [
    "source = root.find(\"./tei:teiHeader/tei:fileDesc/tei:sourceDesc/tei:p\", namespaces={'tei':\"http://www.tei-c.org/ns/1.0\"})\n",
    "print(\"Tag : {}\".format(source.tag))\n",
    "print(\"Texte : {}\".format(source.text))"
   ]
  },
  {
   "cell_type": "markdown",
   "metadata": {},
   "source": [
    "lxml a aussi une méthode ``xpath`` qui permet d'utiliser directement des expressions xpath (sans oublier les espace de noms pour notre fichier) :"
   ]
  },
  {
   "cell_type": "code",
   "execution_count": 91,
   "metadata": {
    "collapsed": false
   },
   "outputs": [
    {
     "name": "stdout",
     "output_type": "stream",
     "text": [
      "<class 'list'>\n",
      "Correspondance de Joséphine Pouchet, numérisée par les Archives Départementales de l'Hérault.\n",
      "Correspondance de Joséphine Pouchet, numérisée par les Archives Départementales de l'Hérault.\n"
     ]
    }
   ],
   "source": [
    "source = root.xpath(\"/tei:TEI/tei:teiHeader/tei:fileDesc/tei:sourceDesc/tei:p\", namespaces={'tei':'http://www.tei-c.org/ns/1.0'})\n",
    "print(type(source)) #xpath retourne une liste\n",
    "print(source[0].text)\n",
    "#ou bien\n",
    "source = root.xpath(\"/tei:TEI/tei:teiHeader/tei:fileDesc/tei:sourceDesc/tei:p/text()\", namespaces={'tei':'http://www.tei-c.org/ns/1.0'})\n",
    "print(source[0])"
   ]
  },
  {
   "cell_type": "markdown",
   "metadata": {},
   "source": [
    "Pour le contenu il faut ruser. La difficulté ici tient à l'utilisation d'élements `<lb/>` de type 'milestones' pour noter les retours à la ligne :  \n",
    "```xml\n",
    "<p>\n",
    "je reponse a ton aimableux lettres<lb/>\n",
    "que nous a fait plaisir en naprenas<lb/>\n",
    "que tu et enbonne santes car il<lb/>\n",
    "anais de maime pour nous<lb/>\n",
    "</p>\n",
    "```"
   ]
  },
  {
   "cell_type": "code",
   "execution_count": 116,
   "metadata": {
    "collapsed": false
   },
   "outputs": [
    {
     "name": "stdout",
     "output_type": "stream",
     "text": [
      "\n",
      "cher Laurent\n",
      "\n",
      "je reponse a ton aimableux lettres\n",
      "\n",
      "cher Laurent je repons a la cartes\n"
     ]
    }
   ],
   "source": [
    "# la méthode findall renvoie une liste avec tous les éléments correspondant au chemin argument\n",
    "body = root.findall(\"./tei:text/tei:body/tei:p\", namespaces={'tei':\"http://www.tei-c.org/ns/1.0\"})\n",
    "for elem in body:\n",
    "    print(elem.text)"
   ]
  },
  {
   "cell_type": "markdown",
   "metadata": {},
   "source": [
    "Ici on ne récupère que les noeuds text précédant les éléments `<lb/>`  \n",
    "Une requête `xpath` va nous permettre de récupérer tous les noeuds text"
   ]
  },
  {
   "cell_type": "code",
   "execution_count": 121,
   "metadata": {
    "collapsed": false
   },
   "outputs": [
    {
     "name": "stdout",
     "output_type": "stream",
     "text": [
      "\n",
      "\n",
      "Baillargues Le 19 janvier 1915\n",
      "\n",
      "\n",
      "cher Laurent\n",
      "\n",
      "\n",
      "je reponse a ton aimableux lettres\n",
      "que nous a fait plaisir en naprenas\n",
      "que tu et enbonne santes car il\n",
      "anais de maime pour nous\n",
      "\n",
      "\n",
      "cher Laurent je repons a la cartes\n",
      "de ma mère quelles et venue au\n",
      "jourdhui pour de faire partire\n",
      "partir un paquet quil aillae\n",
      "les chosette sausice chocolas une\n",
      "paire de chosette pour Louis\n",
      "je pense que vous magerè ensenbleus\n",
      "tu feras repons a la maison te\n",
      "suite que tu rese vras le paquet\n",
      "je te dirais que ten le midi il\n",
      "fait frois il fait du vent glasais\n",
      "et toi au pas de calais tu nous\n",
      "dit quil pleus mai tu nous parles\n",
      "pas si tu a ases pour te garendir\n",
      "du froit cil te maque quelles chose\n",
      "\n",
      "tu nas que ledire quon de len verras\n",
      "verras tu nous dit que charles ta\n",
      "Ecrie et ta soeux et ta dit que\n",
      "je lui et envoiez la photot\n",
      "plurien a te dire pour le moment\n",
      "que de ten voiez une grose\n",
      "carriese de tous et boutounase\n",
      "de ton petit enge \n",
      "adorè Albert encorre une foi\n",
      "te plui Milles baisées te tous\n",
      "ta fenme pour la vie\n",
      "Josephine Pouchet\n",
      "bien le bonjour de la familles\n",
      "et casimir et de tous le voisin\n",
      "et amie et de marie la perdigailles\n",
      "\n"
     ]
    }
   ],
   "source": [
    "body = root.xpath(\"//tei:text/tei:body//text()\", namespaces={'tei':\"http://www.tei-c.org/ns/1.0\"})\n",
    "for text in body:\n",
    "    print(text, end=\"\")"
   ]
  },
  {
   "cell_type": "markdown",
   "metadata": {},
   "source": [
    "## avec DOM"
   ]
  },
  {
   "cell_type": "markdown",
   "metadata": {},
   "source": [
    "L'API `ElementTree` est propre à Python, `DOM` est une API indépendante d'un langage de programmation. Il existe des implémentations `DOM` dans la plupart des langages de programmation modernes.  "
   ]
  },
  {
   "cell_type": "code",
   "execution_count": 124,
   "metadata": {
    "collapsed": false
   },
   "outputs": [
    {
     "data": {
      "text/plain": [
       "<xml.dom.minidom.Document at 0x7f5f8ce7b8e8>"
      ]
     },
     "execution_count": 124,
     "metadata": {},
     "output_type": "execute_result"
    }
   ],
   "source": [
    "from xml.dom import minidom\n",
    "dom = minidom.parse(\"josephine-1-150119.xml\")\n",
    "# l'objet Document\n",
    "dom"
   ]
  },
  {
   "cell_type": "code",
   "execution_count": 145,
   "metadata": {
    "collapsed": false
   },
   "outputs": [
    {
     "name": "stdout",
     "output_type": "stream",
     "text": [
      "<DOM Element: title at 0x7f5f8ce87d58>\n",
      "#text\n",
      "Joséphine Pouchet à son époux le 19-01-1915 depuis Baillargues\n"
     ]
    }
   ],
   "source": [
    "title = dom.getElementsByTagNameNS(\"http://www.tei-c.org/ns/1.0\", 'title')[0] # un seul élément 'title' dans le document\n",
    "print(title) # title est un objet Element, pour accèder au contenu textuel il faut récupérer le noeud texte\n",
    "print(title.lastChild.nodeName)\n",
    "print(title.lastChild.nodeValue)"
   ]
  },
  {
   "cell_type": "markdown",
   "metadata": {},
   "source": [
    "idem pour la source, sauf qu'on ne peut pas se permettre de rechercher tous les éléments `p`.  \n",
    "Il faut trouver l'élément `p` fils de `sourceDesc`"
   ]
  },
  {
   "cell_type": "code",
   "execution_count": 158,
   "metadata": {
    "collapsed": false
   },
   "outputs": [
    {
     "name": "stdout",
     "output_type": "stream",
     "text": [
      "Correspondance de Joséphine Pouchet, numérisée par les Archives Départementales de l'Hérault.\n"
     ]
    }
   ],
   "source": [
    "sourceDesc = dom.getElementsByTagNameNS(\"http://www.tei-c.org/ns/1.0\", 'sourceDesc')[0]\n",
    "for node in sourceDesc.childNodes:\n",
    "    if node.localName == \"p\":\n",
    "        print(node.lastChild.nodeValue)"
   ]
  },
  {
   "cell_type": "code",
   "execution_count": null,
   "metadata": {
    "collapsed": true
   },
   "outputs": [],
   "source": []
  }
 ],
 "metadata": {
  "kernelspec": {
   "display_name": "Python 3",
   "language": "python",
   "name": "python3"
  },
  "language_info": {
   "codemirror_mode": {
    "name": "ipython",
    "version": 3
   },
   "file_extension": ".py",
   "mimetype": "text/x-python",
   "name": "python",
   "nbconvert_exporter": "python",
   "pygments_lexer": "ipython3",
   "version": "3.4.2"
  }
 },
 "nbformat": 4,
 "nbformat_minor": 0
}
