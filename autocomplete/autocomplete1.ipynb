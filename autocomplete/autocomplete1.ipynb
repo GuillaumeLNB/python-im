{
 "cells": [
  {
   "cell_type": "markdown",
   "metadata": {},
   "source": [
    "# Projet sur l'autocomplétion — première partie"
   ]
  },
  {
   "cell_type": "markdown",
   "metadata": {},
   "source": [
    "Le projet de 2017-2018 portait sur l'autocomplétion d'un champ de formulaire. Nous l'emploierons ici comme entraînement pour vos projets (et pour montrer des choses qui pourront vous être utiles, et recycler c'est écolo). Nous monterons ici des exemples simples, du code plus complet sera fourni.\n",
    "\n",
    "L'objectif *In fine* est de proposer une complétion de requête muli-mots à la Google ou à la façon d'un clavier de smartphone : si je tape « machine à » le système devra me proposer « café, laver ou coudre » par exemple. L'idée est d'explorer et d'implémenter une technique pour y arriver et/ou de proposer de la complétion dans une langue autre que le français ou l'anglais. "
   ]
  },
  {
   "cell_type": "markdown",
   "metadata": {},
   "source": [
    "Dans un premier temps nous allons nous limiter à une complétion de mot à partir des deux premiers caractères saisis par un utilisateur.\n",
    "Nous allons surtout mettre en place les technos permettant la complétion sur une interface web.   \n",
    "Pour cela nous utiliserons une bibliothèque JavaScript côté client : [Jquery UI](http://jqueryui.com/autocomplete) et un serveur Python en mode REST pour les données : [Flask](http://flask.pocoo.org/) "
   ]
  },
  {
   "cell_type": "markdown",
   "metadata": {},
   "source": [
    "##  Les outils\n",
    "### La lib [autocomplete](http://jqueryui.com/autocomplete/)"
   ]
  },
  {
   "cell_type": "markdown",
   "metadata": {},
   "source": [
    "Cette bibliothèque va nous épargner tout ou presque du développement JS nécessaire à notre application.\n",
    "\n",
    "Malheureusement le JS ne pourra pas être testé dans ce notebook, vous devrez copier-coller le code ```html``` et ``js`` dans un fichier et l'ouvrir avec un navigateur pour tester.   \n",
    "Commençons par ce code extrait de [http://api.jqueryui.com/autocomplete/#entry-examples](http://api.jqueryui.com/autocomplete/#entry-examples)"
   ]
  },
  {
   "cell_type": "code",
   "execution_count": null,
   "metadata": {},
   "outputs": [],
   "source": [
    "%%html\n",
    "<!doctype html>\n",
    "<html lang=\"en\">\n",
    "<head>\n",
    "  <meta charset=\"utf-8\">\n",
    "  <title>autocomplete demo</title>\n",
    "  <link rel=\"stylesheet\" href=\"http://code.jquery.com/ui/1.12.1/themes/smoothness/jquery-ui.css\">\n",
    "  <script src=\"http://code.jquery.com/jquery-1.12.4.js\"></script>\n",
    "  <script src=\"http://code.jquery.com/ui/1.12.1/jquery-ui.js\"></script>\n",
    "</head>\n",
    "<body>\n",
    " \n",
    "<label for=\"autocomplete\">Select a programming language: </label>\n",
    "<input id=\"autocomplete\">\n",
    " \n",
    "<script>\n",
    "$( \"#autocomplete\" ).autocomplete({\n",
    "  source: [ \"c++\", \"java\", \"php\", \"coldfusion\", \"javascript\", \"asp\", \"ruby\" ]\n",
    "});\n",
    "</script>\n",
    " \n",
    "</body>\n",
    "</html>\n"
   ]
  },
  {
   "cell_type": "markdown",
   "metadata": {},
   "source": [
    "Ça fonctionne évidemment mais les données de complétion sont écrites dans le fichier. Pour une liste de quelques items très bien mais pour un lexique entier ce n'est pas envisageable.  \n",
    "La bibliothèque prévoit de pouvoir faire appel à une ressource externe qui renvoie un fichier `JSON`. Il s'agit d'un script `php` dans l'exemple [http://jqueryui.com/autocomplete/#remote](http://jqueryui.com/autocomplete/#remote) mais ici nous travaillerons en  Python."
   ]
  },
  {
   "cell_type": "markdown",
   "metadata": {},
   "source": [
    "### Flask"
   ]
  },
  {
   "cell_type": "markdown",
   "metadata": {},
   "source": [
    "``Flask`` est un micro framework de développement web. Ici nous l'emploierons uniquement pour envoyer (ou servir) des données à notre page html.   \n",
    "Nous allons nous contenter d'un code minimal pour commencer, voir la [doc](http://flask.pocoo.org/docs/0.12/quickstart/#a-minimal-application)"
   ]
  },
  {
   "cell_type": "markdown",
   "metadata": {},
   "source": [
    "Le code des blocs suivants ne s'exécutent pas dans le notebook. Vous mettrez le code dans un répertoire ayant cette forme:"
   ]
  },
  {
   "cell_type": "markdown",
   "metadata": {},
   "source": [
    "`\n",
    "autocomplete/\n",
    "├── serve.py\n",
    "└── templates\n",
    "    └── index.html\n",
    "`"
   ]
  },
  {
   "cell_type": "markdown",
   "metadata": {},
   "source": [
    "Pourquoi les fichiers HTML dans un dossier `templates` ? Parce que la [doc](http://flask.pocoo.org/docs/1.0/tutorial/templates/), pour faire simple."
   ]
  },
  {
   "cell_type": "code",
   "execution_count": null,
   "metadata": {},
   "outputs": [],
   "source": [
    "from flask import Flask, jsonify\n",
    "app = Flask(__name__)\n",
    "\n",
    "@app.route('/')\n",
    "def hello_world():\n",
    "    #return 'Hello, World!'\n",
    "    items = [ \"c++\", \"java\", \"php\", \"python\", \"javascript\", \"asp\", \"ruby\", \"perl\", \"ocaml\", \"haskell\", \"rust\", \"go\" ]\n",
    "    response = jsonify(items)\n",
    "    response.headers.add('Access-Control-Allow-Origin', '*') #Pour éviter les erreurs de type CORS en dév local\n",
    "    return response"
   ]
  },
  {
   "cell_type": "markdown",
   "metadata": {},
   "source": [
    "C'est super mais on n'a plus de sélection parmi les items possibles. Il nous faut récupérer la saisie de l'utilisateur et  faire la sélection côté serveur. "
   ]
  },
  {
   "cell_type": "code",
   "execution_count": null,
   "metadata": {},
   "outputs": [],
   "source": [
    "from flask import Flask, jsonify, request\n",
    "app = Flask(__name__)\n",
    "\n",
    "@app.route('/', methods=['GET'])\n",
    "def hello_world():\n",
    "    #return 'Hello, World!'\n",
    "    response = \"\"\n",
    "    term = request.args['term']\n",
    "    if term:\n",
    "        items = [ \"c++\", \"java\", \"php\", \"python\", \"javascript\", \"asp\", \"ruby\", \"perl\", \"ocaml\", \"haskell\", \"rust\", \"go\" ]\n",
    "        response = jsonify([item for item in items if item.startswith(term)]))\n",
    "        response.headers.add('Access-Control-Allow-Origin', '*') # Pour éviter les erreurs de type CORS en dév local\n",
    "    return response"
   ]
  },
  {
   "cell_type": "markdown",
   "metadata": {},
   "source": [
    "## Les données"
   ]
  },
  {
   "cell_type": "markdown",
   "metadata": {},
   "source": [
    "Maintenant il s'agit de trouver et de préparer un lexique des mots du français (ou de la langue de votre choix).\n",
    "\n",
    "Pour le français, nous avons déjà vu [lexique 3.82](http://www.lexique.org/telLexique.php) et le [LeFFF](http://pauillac.inria.fr/~sagot/index.html#lefff). Lexique a l'avantage d'avoir des fréquences, le LeFFF quant à lui a des entrées d'expressions multimots (exemples: \"ad hoc\", \"en effet\").\n",
    "\n",
    "Nous devrons répondre à deux questions :\n",
    "1. dans quel ordre présenter les complétions possibles (alpha, fréquence, autre ?)\n",
    "2. comment rendre la complétion fonctionnelle avec un volume de données important ?"
   ]
  }
 ],
 "metadata": {
  "kernelspec": {
   "display_name": "Python 3",
   "language": "python",
   "name": "python3"
  },
  "language_info": {
   "codemirror_mode": {
    "name": "ipython",
    "version": 3
   },
   "file_extension": ".py",
   "mimetype": "text/x-python",
   "name": "python",
   "nbconvert_exporter": "python",
   "pygments_lexer": "ipython3",
   "version": "3.7.0"
  }
 },
 "nbformat": 4,
 "nbformat_minor": 2
}
