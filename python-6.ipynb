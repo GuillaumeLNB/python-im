{
 "cells": [
  {
   "cell_type": "markdown",
   "metadata": {
    "slideshow": {
     "slide_type": "slide"
    }
   },
   "source": [
    "# Langages de script - Python\n",
    "## Cours 6 - classes, objets, bidules\n",
    "### M2 Ingénierie Multilingue - INaLCO\n",
    "#### Clément Plancq - clement.plancq@ens.fr\n"
   ]
  },
  {
   "cell_type": "markdown",
   "metadata": {
    "slideshow": {
     "slide_type": "slide"
    }
   },
   "source": [
    "# POO\n",
    "\n",
    "* La programmation orientée objet (POO) est une manière de programmer différente de la programmation procédurale vue jusqu'ici.\n",
    "\n",
    "  C'est plus qu'un style, l'approche et les outils utilisés sont différents. En informatique on parle de *paradigme*.\n",
    "\n",
    "* Python fait partie des langages mutli-paradigmes mais le langage lui-même utilise des objets (\"*En Python tout est objet*\"), ce qui facilite l'approche objet.\n",
    "\n",
    "* La POO utilise un lexique que vous retrouverez dans d'autres langages objets (Java notamment) : objet, classe, méthode, attribut, instance, héritage, constructeur, introspection, …\n",
    "\n",
    "* Un objet c'est un bidule, une entité dira la doc officielle. C'est ce que vous voulez, c'est vous qui le définissez.\n",
    "\n",
    "* Un objet peut être un bidule concret ou abstrait.\n",
    "\n",
    "* Un objet est construit à partir d'une classe. La classe définit les propriétés de l'objet (les *attributs*) et les actions qui s'y rapportent (les *méthodes*). On dit qu'un objet est une instance de la classe.\n"
   ]
  },
  {
   "cell_type": "markdown",
   "metadata": {
    "slideshow": {
     "slide_type": "slide"
    }
   },
   "source": [
    "# POO\n",
    "\n",
    "* Les noms de classe s'écrivent avec des majuscules (CapWords convention), les objets en minuscules et underscores\n",
    "\n",
    "* les objets sont affectés à des variables qui sont des références vers ces objets\n"
   ]
  },
  {
   "cell_type": "code",
   "execution_count": null,
   "metadata": {
    "slideshow": {
     "slide_type": "-"
    }
   },
   "outputs": [],
   "source": [
    "class Word(object):\n",
    "    \"\"\" Classe Word : définit un mot de la langue \"\"\"\n",
    "    pass\n",
    "\n",
    "word = Word() # word est un objet, une instanciation de la classe Word\n",
    "type(word) # renvoie la classe qu'instancie l'objet\n",
    "id(word) # renvoie l'identifiant de l'objet\n",
    "dir(word) # renvoie la liste des attributs de l'objet\n",
    "word.__doc__  # renvoie le docstring\n",
    "\n",
    "word2 = Word()\n",
    "id(word2)"
   ]
  },
  {
   "cell_type": "markdown",
   "metadata": {
    "slideshow": {
     "slide_type": "slide"
    }
   },
   "source": [
    "# POO : constructeur et attributs\n",
    "\n",
    "* Il existe une méthode spéciale `__init__()` qui automatiquement appelée lors de la création d'un objet. C'est le constructeur\n",
    "\n",
    "* Le constructeur permet de définir un état initial à l'objet, lui donner des attributs par exemple\n",
    "\n",
    "* Les attributs dans l'exemple ci-dessous sont des variables propres à un objet, une instance\n"
   ]
  },
  {
   "cell_type": "code",
   "execution_count": null,
   "metadata": {
    "slideshow": {
     "slide_type": "-"
    }
   },
   "outputs": [],
   "source": [
    "class Word(object):\n",
    "    \"\"\" Classe Word : définit un mot de la langue \"\"\"\n",
    "    \n",
    "    def __init__(self, form, lemma, pos):\n",
    "        self.form = form\n",
    "        self.lemma = lemma\n",
    "        self.pos = pos\n",
    "\n",
    "word = Word('été', 'être', 'V')\n",
    "word.lemma\n",
    ">>> 'être'\n",
    "word2 = Word('été', 'été', 'NOM')\n",
    "word2.lemma\n",
    ">>> 'été'"
   ]
  },
  {
   "cell_type": "markdown",
   "metadata": {
    "slideshow": {
     "slide_type": "slide"
    }
   },
   "source": [
    "# POO : attributs\n",
    "\n",
    "* Il y a une distinction entre les attributs d'objet ou d'instance et les attributs de classe\n",
    "\n",
    "* Les attributs de classe seront les mêmes pour tous les objets de cette classe\n"
   ]
  },
  {
   "cell_type": "code",
   "execution_count": null,
   "metadata": {
    "slideshow": {
     "slide_type": "-"
    }
   },
   "outputs": [],
   "source": [
    "class Word(object):\n",
    "    \"\"\" Classe Word : définit un mot simple de la langue \"\"\"\n",
    "\n",
    "    type = 'simple'\n",
    "\n",
    "    def __init__(self, form, lemma, pos):\n",
    "        self.form = form\n",
    "        self.lemma = lemma\n",
    "        self.pos = pos\n",
    "\n",
    "word = Word('été', 'être', 'V')\n",
    "word.type\n",
    ">>> 'simple'\n",
    "word2 = Word('été', 'été', 'NOM')\n",
    "word2.type\n",
    ">>> 'simple'"
   ]
  },
  {
   "cell_type": "markdown",
   "metadata": {
    "slideshow": {
     "slide_type": "slide"
    }
   },
   "source": [
    "# POO : méthodes\n",
    "\n",
    "* Les méthodes d'une classe sont des fonctions. Elles indiquent quelles actions peut mener un objet, elles peuvent donner des informations sur l'objet ou encore le modifier.\n"
   ]
  },
  {
   "cell_type": "code",
   "execution_count": null,
   "metadata": {
    "slideshow": {
     "slide_type": "-"
    }
   },
   "outputs": [],
   "source": [
    "class Word(object):\n",
    "    \"\"\" Classe Word : définit un mot simple de la langue \"\"\"\n",
    "\n",
    "    type = 'simple' \n",
    "\n",
    "    def __init__(self, form, lemma, pos):\n",
    "        self.form = form\n",
    "        self.lemma = lemma\n",
    "        self.pos = pos\n",
    "\n",
    "    def is_inflected(self):\n",
    "        if self.form != self.lemma:\n",
    "            return True\n",
    "        else:\n",
    "            return False\n",
    "\n",
    "    def compare(self, other_word):\n",
    "        diff = []\n",
    "        if self.form != other_word.form:\n",
    "            diff.append('form')\n",
    "        ..."
   ]
  },
  {
   "cell_type": "markdown",
   "metadata": {
    "slideshow": {
     "slide_type": "slide"
    }
   },
   "source": [
    "# POO : héritage\n"
   ]
  },
  {
   "cell_type": "code",
   "execution_count": null,
   "metadata": {
    "slideshow": {
     "slide_type": "-"
    }
   },
   "outputs": [],
   "source": [
    "class Cake(object):\n",
    "    \"\"\" un beau gâteau \"\"\"\n",
    "\n",
    "    def __init__(self, farine, oeuf, beurre):\n",
    "        self.farine = farine\n",
    "        self.oeuf = oeuf\n",
    "        self.beurre = beurre\n",
    "\n",
    "    def is_trop_gras(self):\n",
    "        if self.farine + self.beurre > 500:\n",
    "            return True\n",
    "        else:\n",
    "            return False\n",
    "\n",
    "    def cuire(self):\n",
    "        return self.beurre / self.oeuf"
   ]
  },
  {
   "cell_type": "markdown",
   "metadata": {
    "slideshow": {
     "slide_type": "-"
    }
   },
   "source": [
    "Cake est la classe mère.\n",
    "\n",
    "Les classes enfants vont hériter de ses méthodes et de ses attributs.\n",
    "\n",
    "Cela permet de factoriser le code, d'éviter les répétitions et les erreurs qui en découlent.\n"
   ]
  },
  {
   "cell_type": "markdown",
   "metadata": {
    "slideshow": {
     "slide_type": "slide"
    }
   },
   "source": [
    "# POO : héritage (2)\n"
   ]
  },
  {
   "cell_type": "code",
   "execution_count": null,
   "metadata": {
    "slideshow": {
     "slide_type": "-"
    }
   },
   "outputs": [],
   "source": [
    "class CarrotCake(Cake):\n",
    "    \"\"\" pas seulement pour les lapins\n",
    "        hérite de Cake \"\"\"\n",
    "\n",
    "    carotte = 3\n",
    "    \n",
    "    def cuire(self):\n",
    "        return self.carotte * self.oeuf\n",
    "    \n",
    "class ChocolateCake(Cake):\n",
    "    \"\"\" LE gâteau \n",
    "        hérite de Cake \"\"\"\n",
    "        \n",
    "    def is_trop_gras(self):\n",
    "        return False\n",
    "\n",
    "gato_1 = CarrotCake(200, 3, 150)\n",
    "gato_1.is_trop_gras()\n",
    ">>> False\n",
    "gato_1.cuire()\n",
    ">>> 9\n",
    "gato_2 = ChocolateCake(200, 6, 300)\n",
    "gato_2.is_trop_gras()\n",
    ">>> False"
   ]
  }
 ],
 "metadata": {
  "celltoolbar": "Slideshow",
  "kernelspec": {
   "display_name": "Python 3",
   "language": "python",
   "name": "python3"
  },
  "language_info": {
   "codemirror_mode": {
    "name": "ipython",
    "version": 3
   },
   "file_extension": ".py",
   "mimetype": "text/x-python",
   "name": "python",
   "nbconvert_exporter": "python",
   "pygments_lexer": "ipython3",
   "version": "3.7.0"
  },
  "livereveal": {
   "autolaunch": true,
   "scroll": true,
   "transition": "none"
  }
 },
 "nbformat": 4,
 "nbformat_minor": 2
}
