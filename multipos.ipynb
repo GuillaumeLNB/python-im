{
 "cells": [
  {
   "cell_type": "markdown",
   "metadata": {},
   "source": [
    "# Quelle part du lexique français a des POS ambigües ?\n",
    "\n",
    "Les meileurs taggeurs pour le français affichent des scores de 95 à 97.5% de précision.  \n",
    "Ce sont des scores très élevés mais il faut les rapporter à la difficulté de la tâche considérée. Pour cela il faut comparer les résultats des taggeurs à un score de référence, une *baseline*. Si l'on exclut la segmentation en partant d'un texte segmenté, la *baseline* pourra être obtenue en utilisant bêtement un lexique catégorisé à large couverture.\n",
    "\n",
    "Dans cet esprit nous allons essayer de compter, dans l'ensemble des formes fléchies, combien d'unités lexicales peuvent avoir des POS différentes, c-a-d combien il y a d'homographes. Puis nous donnerons la part que représente ces homographes dans le lexique.\n",
    "\n",
    "Pour cet exercice nous utiliserons le lefff disponible ici : http://alpage.inria.fr/~sagot/lefff.html   \n",
    "Sagot (2010). The Lefff, a freely available and large-coverage morphological and syntactic lexicon for French. In Proceedings of the 7th international conference on Language Resources and Evaluation (LREC 2010), Istanbul, Turkey\n"
   ]
  },
  {
   "cell_type": "code",
   "execution_count": null,
   "metadata": {
    "collapsed": true
   },
   "outputs": [],
   "source": []
  }
 ],
 "metadata": {
  "kernelspec": {
   "display_name": "Python 3",
   "language": "python",
   "name": "python3"
  },
  "language_info": {
   "codemirror_mode": {
    "name": "ipython",
    "version": 3
   },
   "file_extension": ".py",
   "mimetype": "text/x-python",
   "name": "python",
   "nbconvert_exporter": "python",
   "pygments_lexer": "ipython3",
   "version": "3.5.4"
  }
 },
 "nbformat": 4,
 "nbformat_minor": 0
}
