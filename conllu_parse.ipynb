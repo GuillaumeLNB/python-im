{
 "cells": [
  {
   "cell_type": "markdown",
   "metadata": {},
   "source": [
    "# POO pour données conll\n",
    "\n",
    "1. Concevoir un jeu de classes pour parser des données au format conll-u.\n",
    "2. Parser les données."
   ]
  },
  {
   "cell_type": "code",
   "execution_count": 1,
   "metadata": {},
   "outputs": [],
   "source": [
    "class Word(object):\n",
    "    \"\"\"\n",
    "    A word in conll-u format\n",
    "    See http://universaldependencies.org/format.html\n",
    "    \"\"\"\n",
    "    \n",
    "    def __init__(self, line):\n",
    "        feats = line.split('\\t')\n",
    "        if len(feats) != 10:\n",
    "            raise WordFormatException(\"A word line must have 10 columns\")\n",
    "        self.nid = feats[0]\n",
    "        self.form = feats[1]\n",
    "        self.lemma = feats[2]\n",
    "        self.upostag = feats[3]\n",
    "        self.xpostag = feats[4]\n",
    "        self.feats = feats[5]\n",
    "        self.head = feats[6]\n",
    "        self.deprel = feats[7]\n",
    "        self.deps = feats[8]\n",
    "        self.misc = feats[9]\n",
    "        "
   ]
  },
  {
   "cell_type": "code",
   "execution_count": 2,
   "metadata": {},
   "outputs": [],
   "source": [
    "class WordFormatException(Exception):\n",
    "    \"\"\" Unattended word format \"\"\"\n",
    "    def __init__(self, message):\n",
    "        self.message = message"
   ]
  },
  {
   "cell_type": "code",
   "execution_count": 3,
   "metadata": {},
   "outputs": [
    {
     "ename": "WordFormatException",
     "evalue": "A word line must have 10 columns",
     "output_type": "error",
     "traceback": [
      "\u001b[0;31m---------------------------------------------------------------------------\u001b[0m",
      "\u001b[0;31mWordFormatException\u001b[0m                       Traceback (most recent call last)",
      "\u001b[0;32m<ipython-input-3-8f3fd3006cb2>\u001b[0m in \u001b[0;36m<module>\u001b[0;34m()\u001b[0m\n\u001b[0;32m----> 1\u001b[0;31m \u001b[0mw\u001b[0m \u001b[0;34m=\u001b[0m \u001b[0mWord\u001b[0m\u001b[0;34m(\u001b[0m\u001b[0;34m\"1     Je      il      PRON    _       Number=Sing|Person=1|PronType=Prs       2       nsubj   _\"\u001b[0m\u001b[0;34m)\u001b[0m\u001b[0;34m\u001b[0m\u001b[0m\n\u001b[0m\u001b[1;32m      2\u001b[0m \u001b[0mw\u001b[0m\u001b[0;34m.\u001b[0m\u001b[0mlemma\u001b[0m\u001b[0;34m\u001b[0m\u001b[0m\n",
      "\u001b[0;32m<ipython-input-1-0f9083209227>\u001b[0m in \u001b[0;36m__init__\u001b[0;34m(self, line)\u001b[0m\n\u001b[1;32m      8\u001b[0m         \u001b[0mfeats\u001b[0m \u001b[0;34m=\u001b[0m \u001b[0mline\u001b[0m\u001b[0;34m.\u001b[0m\u001b[0msplit\u001b[0m\u001b[0;34m(\u001b[0m\u001b[0;34m'\\t'\u001b[0m\u001b[0;34m)\u001b[0m\u001b[0;34m\u001b[0m\u001b[0m\n\u001b[1;32m      9\u001b[0m         \u001b[0;32mif\u001b[0m \u001b[0mlen\u001b[0m\u001b[0;34m(\u001b[0m\u001b[0mfeats\u001b[0m\u001b[0;34m)\u001b[0m \u001b[0;34m!=\u001b[0m \u001b[0;36m10\u001b[0m\u001b[0;34m:\u001b[0m\u001b[0;34m\u001b[0m\u001b[0m\n\u001b[0;32m---> 10\u001b[0;31m             \u001b[0;32mraise\u001b[0m \u001b[0mWordFormatException\u001b[0m\u001b[0;34m(\u001b[0m\u001b[0;34m\"A word line must have 10 columns\"\u001b[0m\u001b[0;34m)\u001b[0m\u001b[0;34m\u001b[0m\u001b[0m\n\u001b[0m\u001b[1;32m     11\u001b[0m         \u001b[0mself\u001b[0m\u001b[0;34m.\u001b[0m\u001b[0mnid\u001b[0m \u001b[0;34m=\u001b[0m \u001b[0mfeats\u001b[0m\u001b[0;34m[\u001b[0m\u001b[0;36m0\u001b[0m\u001b[0;34m]\u001b[0m\u001b[0;34m\u001b[0m\u001b[0m\n\u001b[1;32m     12\u001b[0m         \u001b[0mself\u001b[0m\u001b[0;34m.\u001b[0m\u001b[0mform\u001b[0m \u001b[0;34m=\u001b[0m \u001b[0mfeats\u001b[0m\u001b[0;34m[\u001b[0m\u001b[0;36m1\u001b[0m\u001b[0;34m]\u001b[0m\u001b[0;34m\u001b[0m\u001b[0m\n",
      "\u001b[0;31mWordFormatException\u001b[0m: A word line must have 10 columns"
     ]
    }
   ],
   "source": [
    "w = Word(\"1\tJe\til\tPRON\t_\tNumber=Sing|Person=1|PronType=Prs\t2\tnsubj\t_\")\n",
    "w.lemma"
   ]
  },
  {
   "cell_type": "code",
   "execution_count": null,
   "metadata": {
    "collapsed": true
   },
   "outputs": [],
   "source": []
  }
 ],
 "metadata": {
  "kernelspec": {
   "display_name": "Python 3",
   "language": "python",
   "name": "python3"
  },
  "language_info": {
   "codemirror_mode": {
    "name": "ipython",
    "version": 3
   },
   "file_extension": ".py",
   "mimetype": "text/x-python",
   "name": "python",
   "nbconvert_exporter": "python",
   "pygments_lexer": "ipython3",
   "version": "3.6.3"
  }
 },
 "nbformat": 4,
 "nbformat_minor": 1
}
