{
 "cells": [
  {
   "cell_type": "markdown",
   "metadata": {},
   "source": [
    "# Parser le format CoNLL-U\n",
    "Le format [CoNLL-U](http://universaldependencies.org/format.html) est le format semi-tabulaire utilisé par le projet [Universal Dependencies](http://universaldependencies.org/).\n",
    "\n",
    "Notre objectif est de parser un fichier au format CoNLL-U pour pouvoir y faire facilement des requêtes."
   ]
  },
  {
   "cell_type": "code",
   "execution_count": null,
   "metadata": {},
   "outputs": [],
   "source": [
    "# Comment faire `tail -n 10` en Python\n",
    "with open('fr_sequoia-ud-test.conllu') as conllu:\n",
    "    for _ in range(10):\n",
    "        print(conllu.readline(), end='')"
   ]
  },
  {
   "cell_type": "markdown",
   "metadata": {},
   "source": [
    "## 1. Lire le fichier, version sale\n",
    "\n",
    "Le fichier est divisé en arbres (séparés par une ligne vide), eux-mêmes séparés en mots (un par ligne), eux-mêmes séparés en *features* (séparées par des tabulateurs `\\t`). On va donc commencer par représenter le fichier par une liste de listes de listes.\n",
    "\n",
    "  1. Écrire une fonction qui prend en argument le chemin vers un fichier CoNLL-U et renvoie une liste `l` telle que\n",
    "    - `l[i]` soit une liste représentant le i-ème arbre\n",
    "    - `l[i][j]` soit une liste représentant le j-ième mot du i-ème arbre\n",
    "    - `l[i][j][k]` soit une chaîne de caractère représentant la valeur de la k-ième *feature* (colonne) du j-ième mot du i-ème arbre\n",
    "    \n",
    "    Pour l'instant on ignore simplement les lignes de commentaires et de métadonnées (commençant par `\"#\"`) ainsi que les fusions et les ellipses (les mots dont la colonne ID n'est pas un entier)."
   ]
  },
  {
   "cell_type": "code",
   "execution_count": null,
   "metadata": {},
   "outputs": [],
   "source": [
    "def read_file(path):\n",
    "    pass"
   ]
  },
  {
   "cell_type": "markdown",
   "metadata": {},
   "source": [
    "  2. Déterminer combien de mots du corpus ont\n",
    "    1. `VERB` comme POS\n",
    "    2. Un gouverneur de type `VERB`"
   ]
  },
  {
   "cell_type": "markdown",
   "metadata": {},
   "source": [
    "## 2. Lire le fichier, avec de la POO\n",
    "On va maintenant essayer de faire les choses de façon plus propre en utilisant la POO."
   ]
  },
  {
   "cell_type": "code",
   "execution_count": null,
   "metadata": {},
   "outputs": [],
   "source": [
    "# D'abord un peu de ménage\n",
    "%reset -f"
   ]
  },
  {
   "cell_type": "markdown",
   "metadata": {},
   "source": [
    "  1. Définir une classe `Word` comportant une propriété (champ) de type `str` par *feature* et dont le constructeur prend en argument une ligne au format CoNLL-U"
   ]
  },
  {
   "cell_type": "code",
   "execution_count": null,
   "metadata": {},
   "outputs": [],
   "source": [
    "class Word:\n",
    "    def __init__(self, line):\n",
    "        self.nid = \"1\"\n",
    "        self.form = \"Je\""
   ]
  },
  {
   "cell_type": "markdown",
   "metadata": {},
   "source": [
    "  2. Redéfinir la fonction `read_file` pour qu'elle renvoie une liste de listes de `Word` au lieu d'une liste de listes de listes"
   ]
  },
  {
   "cell_type": "markdown",
   "metadata": {},
   "source": [
    "## 3. Améliorer le parsing\n",
    "Pour répondre aux questions suivantes, à vous d'améliorer `Word` et éventuellement de créer d'autres classes pour parser au mieux les fichiers CoNLL-U\n",
    "\n",
    "  1. Lister les formes des sujets du corpus en les regroupant par POS.\n",
    "  2. Combien de mots ont au moins deux dépendants de type ADJ ?\n",
    "  3. Donner les `sent_id` des phrases dont la racine n'est pas un verbe"
   ]
  }
 ],
 "metadata": {
  "kernelspec": {
   "display_name": "Python 3",
   "language": "python",
   "name": "python3"
  },
  "language_info": {
   "codemirror_mode": {
    "name": "ipython",
    "version": 3
   },
   "file_extension": ".py",
   "mimetype": "text/x-python",
   "name": "python",
   "nbconvert_exporter": "python",
   "pygments_lexer": "ipython3",
   "version": "3.7.0"
  }
 },
 "nbformat": 4,
 "nbformat_minor": 1
}
