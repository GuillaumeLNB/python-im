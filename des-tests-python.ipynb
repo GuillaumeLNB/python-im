{
 "cells": [
  {
   "cell_type": "markdown",
   "metadata": {},
   "source": [
    "# Des tests en Python\n",
    "\n",
    "Il sera question de tests unitaires en Python.  \n",
    "On ne parlera pas de méthodes de développement ou de gestion de projet. Méthodes agiles, Extreme Programming, Test Driven Development (TDD) ce n'est pas le sujet, mais vous avez les mots clés vous pouvez toujours vous informer."
   ]
  },
  {
   "cell_type": "markdown",
   "metadata": {},
   "source": [
    "Le web est plein de beaux discours sur l'utilité des tests. Dans notre cas on se limitera à dire que les tests peuvent sauver des vies.  \n",
    "L'intérêt principal des tests est de s'assurer qu'en modifiant un code existant on ne casse pas ce qui fonctionnait avant ou pire que les bugs qu'on avait résolus ne reviennent pas. On appelle ça des tests de non-régression. C'est *très* utile.  \n",
    "\n",
    "Il nous faut des exemples. Pour cela on va s'appuyer sur le code de la classe `Word` et de ses classes filles."
   ]
  },
  {
   "cell_type": "code",
   "execution_count": 2,
   "metadata": {
    "collapsed": true
   },
   "outputs": [],
   "source": [
    "import re\n",
    "\n",
    "class Word:\n",
    "    \"\"\" Classe Word : définit un mot simple de la langue \"\"\"\n",
    "\n",
    "    type = \"simple\"\n",
    "\n",
    "    def __init__(self, *args):\n",
    "            self.form, self.lemma, self.pos = args\n",
    "\n",
    "    def is_inflected(self):\n",
    "        if self.form != self.lemma:\n",
    "            return True\n",
    "        else:\n",
    "            return False\n",
    "\n",
    "    def magic_compare(self, other_word):\n",
    "        diff = []\n",
    "        for key in self.__dict__.keys():\n",
    "            if self.__dict__[key] != other_word.__dict__[key]:\n",
    "                diff.append(key)\n",
    "        return diff\n",
    "\n",
    "    def __str__(self):\n",
    "        return \" \".join((self.form, self.lemma, self.pos))"
   ]
  },
  {
   "cell_type": "code",
   "execution_count": 18,
   "metadata": {
    "collapsed": false
   },
   "outputs": [],
   "source": [
    "class WordTreeTagger(Word):\n",
    "    def __init__(self, formatted_str):\n",
    "        \"\"\"\n",
    "        import a formatted_str in treetagger format\n",
    "        \"\"\"\n",
    "        pattern = re.compile(\"(\\w+)\\t(\\w+)\\t(\\w+)\")\n",
    "        res = pattern.search(formatted_str)\n",
    "        self.form, self.lemma, self.pos = res.groups()\n",
    "\n",
    "class WordBrown(Word):\n",
    "    def __init__(self, formatted_str):\n",
    "        \"\"\"\n",
    "        import a formatted_str in brown format\n",
    "        \"\"\"\n",
    "        pattern = re.compile(\"(\\w+)/(\\w+)/(\\w+)\")\n",
    "        res = pattern.search(formatted_str)\n",
    "        self.form, self.lemma, self.pos = res.groups()\n",
    "\n",
    "class WordSem(Word):\n",
    "    def __init__(self, formatted_str):\n",
    "        \"\"\"\n",
    "        import a formatted_str in sem format (brown with no lemmas)\n",
    "        \"\"\"\n",
    "        pattern = re.compile(\"^(\\w+)/(\\w+)\")\n",
    "        res = pattern.search(formatted_str)\n",
    "        self.form, self.pos = res.groups()\n",
    "        self.lemma = \"\""
   ]
  },
  {
   "cell_type": "markdown",
   "metadata": {},
   "source": [
    "## `assert` sert à ça\n",
    "\n",
    "Normalement on met les instructions de tests dans un fichier distinct.  \n",
    "L'idée ici est de tester toutes les valeurs possibles que l'on pourra recontrer pour tester la robustesse du code (oui comme dans CodinGame). On commence par une valeur standard, un truc facile puis on va chercher les trucs vicieux.  \n",
    "Dit autrement le but est de faire planter le code pour pouvoir l'améliorer."
   ]
  },
  {
   "cell_type": "code",
   "execution_count": 5,
   "metadata": {
    "collapsed": true
   },
   "outputs": [],
   "source": [
    "obj_sem = WordSem(\"tests/NC\")\n",
    "assert obj_sem.lemma == \"\""
   ]
  },
  {
   "cell_type": "markdown",
   "metadata": {},
   "source": [
    "Il ne se passe rien, c'est que tout va bien."
   ]
  },
  {
   "cell_type": "code",
   "execution_count": 8,
   "metadata": {
    "collapsed": false
   },
   "outputs": [
    {
     "ename": "AttributeError",
     "evalue": "'NoneType' object has no attribute 'groups'",
     "output_type": "error",
     "traceback": [
      "\u001b[0;31m---------------------------------------------------------------------------\u001b[0m",
      "\u001b[0;31mAttributeError\u001b[0m                            Traceback (most recent call last)",
      "\u001b[0;32m<ipython-input-8-e586328d340f>\u001b[0m in \u001b[0;36m<module>\u001b[0;34m()\u001b[0m\n\u001b[0;32m----> 1\u001b[0;31m \u001b[0mobj_sem\u001b[0m \u001b[0;34m=\u001b[0m \u001b[0mWordSem\u001b[0m\u001b[0;34m(\u001b[0m\u001b[0;34m\";/PONCT\"\u001b[0m\u001b[0;34m)\u001b[0m\u001b[0;34m\u001b[0m\u001b[0m\n\u001b[0m\u001b[1;32m      2\u001b[0m \u001b[0;32massert\u001b[0m \u001b[0mobj_sem\u001b[0m\u001b[0;34m.\u001b[0m\u001b[0mform\u001b[0m \u001b[0;34m==\u001b[0m \u001b[0;34m\";\"\u001b[0m\u001b[0;34m\u001b[0m\u001b[0m\n\u001b[1;32m      3\u001b[0m \u001b[0mobj_sem_2\u001b[0m \u001b[0;34m=\u001b[0m \u001b[0mWordSem\u001b[0m\u001b[0;34m(\u001b[0m\u001b[0;34m\"aujourd'hui/NC\"\u001b[0m\u001b[0;34m)\u001b[0m\u001b[0;34m\u001b[0m\u001b[0m\n\u001b[1;32m      4\u001b[0m \u001b[0;32massert\u001b[0m \u001b[0mobj_sem_2\u001b[0m\u001b[0;34m.\u001b[0m\u001b[0mform\u001b[0m \u001b[0;34m==\u001b[0m \u001b[0;34m\"aujourd'hui\"\u001b[0m\u001b[0;34m\u001b[0m\u001b[0m\n\u001b[1;32m      5\u001b[0m \u001b[0mobj_sem_3\u001b[0m \u001b[0;34m=\u001b[0m \u001b[0mWordSem\u001b[0m\u001b[0;34m(\u001b[0m\u001b[0;34m\"13/12/2017/NC\"\u001b[0m\u001b[0;34m)\u001b[0m\u001b[0;34m\u001b[0m\u001b[0m\n",
      "\u001b[0;32m<ipython-input-4-e1bca8704731>\u001b[0m in \u001b[0;36m__init__\u001b[0;34m(self, formatted_str)\u001b[0m\n\u001b[1;32m     24\u001b[0m         \u001b[0mpattern\u001b[0m \u001b[0;34m=\u001b[0m \u001b[0mre\u001b[0m\u001b[0;34m.\u001b[0m\u001b[0mcompile\u001b[0m\u001b[0;34m(\u001b[0m\u001b[0;34m\"(\\w+)/(\\w+)\"\u001b[0m\u001b[0;34m)\u001b[0m\u001b[0;34m\u001b[0m\u001b[0m\n\u001b[1;32m     25\u001b[0m         \u001b[0mres\u001b[0m \u001b[0;34m=\u001b[0m \u001b[0mpattern\u001b[0m\u001b[0;34m.\u001b[0m\u001b[0msearch\u001b[0m\u001b[0;34m(\u001b[0m\u001b[0mformatted_str\u001b[0m\u001b[0;34m)\u001b[0m\u001b[0;34m\u001b[0m\u001b[0m\n\u001b[0;32m---> 26\u001b[0;31m         \u001b[0mself\u001b[0m\u001b[0;34m.\u001b[0m\u001b[0mform\u001b[0m\u001b[0;34m,\u001b[0m \u001b[0mself\u001b[0m\u001b[0;34m.\u001b[0m\u001b[0mpos\u001b[0m \u001b[0;34m=\u001b[0m \u001b[0mres\u001b[0m\u001b[0;34m.\u001b[0m\u001b[0mgroups\u001b[0m\u001b[0;34m(\u001b[0m\u001b[0;34m)\u001b[0m\u001b[0;34m\u001b[0m\u001b[0m\n\u001b[0m\u001b[1;32m     27\u001b[0m         \u001b[0mself\u001b[0m\u001b[0;34m.\u001b[0m\u001b[0mlemma\u001b[0m \u001b[0;34m=\u001b[0m \u001b[0;34m\"\"\u001b[0m\u001b[0;34m\u001b[0m\u001b[0m\n",
      "\u001b[0;31mAttributeError\u001b[0m: 'NoneType' object has no attribute 'groups'"
     ]
    }
   ],
   "source": [
    "obj_sem = WordSem(\";/PONCT\")\n",
    "assert obj_sem.form == \";\"\n",
    "obj_sem_2 = WordSem(\"aujourd'hui/NC\")\n",
    "assert obj_sem_2.form == \"aujourd'hui\"\n",
    "obj_sem_3 = WordSem(\"13/12/2017/NC\")\n",
    "assert obj_sem_3.form == \"13/12/2017\""
   ]
  },
  {
   "cell_type": "markdown",
   "metadata": {},
   "source": [
    "Blam ! `assert` lève une exception de type `AssertionError` quand la condition testée n'est pas remplie. Le programme est interrompu.  \n",
    "Le problème ici est que seule la première instruction `assert` est testée, les deux restantes ne sont pas examinées.  "
   ]
  },
  {
   "cell_type": "markdown",
   "metadata": {},
   "source": [
    "## `unittest` les tests canal historique"
   ]
  },
  {
   "cell_type": "markdown",
   "metadata": {},
   "source": [
    "`unittest` est inspiré de `Junit` le  framework de test qui a rendu les tests populaires, enfin non il les a popularisés.\n",
    "\n",
    "Pour utiliser `unittest` il faut écrire une classe dont le nom commence par Test. La classe devra aussi hériter de `unittest.TestCase`.  \n",
    "\n",
    "Recopier le code suivant dans un fichier `test_word_sem.py` (les fichiers de test commencent systématiquement par `test_`."
   ]
  },
  {
   "cell_type": "code",
   "execution_count": 9,
   "metadata": {
    "collapsed": false
   },
   "outputs": [
    {
     "name": "stderr",
     "output_type": "stream",
     "text": [
      "E\n",
      "======================================================================\n",
      "ERROR: /run/user/1000/jupyter/kernel-a4ca79eb-721e-42af-b446-9e46831d8f1f (unittest.loader._FailedTest)\n",
      "----------------------------------------------------------------------\n",
      "AttributeError: module '__main__' has no attribute '/run/user/1000/jupyter/kernel-a4ca79eb-721e-42af-b446-9e46831d8f1f'\n",
      "\n",
      "----------------------------------------------------------------------\n",
      "Ran 1 test in 0.001s\n",
      "\n",
      "FAILED (errors=1)\n"
     ]
    },
    {
     "ename": "SystemExit",
     "evalue": "True",
     "output_type": "error",
     "traceback": [
      "An exception has occurred, use %tb to see the full traceback.\n",
      "\u001b[0;31mSystemExit\u001b[0m\u001b[0;31m:\u001b[0m True\n"
     ]
    },
    {
     "ename": "TypeError",
     "evalue": "'level' is an invalid keyword argument for this function",
     "output_type": "error",
     "traceback": [
      "\u001b[0;31m---------------------------------------------------------------------------\u001b[0m",
      "\u001b[0;31mSystemExit\u001b[0m                                Traceback (most recent call last)",
      "\u001b[0;32m/usr/local/lib/python3.5/dist-packages/IPython/core/interactiveshell.py\u001b[0m in \u001b[0;36mrun_code\u001b[0;34m(self, code_obj, result)\u001b[0m\n\u001b[1;32m   2868\u001b[0m                 \u001b[0;31m#rprint('Running code', repr(code_obj)) # dbg\u001b[0m\u001b[0;34m\u001b[0m\u001b[0;34m\u001b[0m\u001b[0m\n\u001b[0;32m-> 2869\u001b[0;31m                 \u001b[0mexec\u001b[0m\u001b[0;34m(\u001b[0m\u001b[0mcode_obj\u001b[0m\u001b[0;34m,\u001b[0m \u001b[0mself\u001b[0m\u001b[0;34m.\u001b[0m\u001b[0muser_global_ns\u001b[0m\u001b[0;34m,\u001b[0m \u001b[0mself\u001b[0m\u001b[0;34m.\u001b[0m\u001b[0muser_ns\u001b[0m\u001b[0;34m)\u001b[0m\u001b[0;34m\u001b[0m\u001b[0m\n\u001b[0m\u001b[1;32m   2870\u001b[0m             \u001b[0;32mfinally\u001b[0m\u001b[0;34m:\u001b[0m\u001b[0;34m\u001b[0m\u001b[0m\n",
      "\u001b[0;32m<ipython-input-9-6d59113d09e2>\u001b[0m in \u001b[0;36m<module>\u001b[0;34m()\u001b[0m\n\u001b[1;32m     21\u001b[0m \u001b[0;32mif\u001b[0m \u001b[0m__name__\u001b[0m \u001b[0;34m==\u001b[0m \u001b[0;34m'__main__'\u001b[0m\u001b[0;34m:\u001b[0m\u001b[0;34m\u001b[0m\u001b[0m\n\u001b[0;32m---> 22\u001b[0;31m     \u001b[0munittest\u001b[0m\u001b[0;34m.\u001b[0m\u001b[0mmain\u001b[0m\u001b[0;34m(\u001b[0m\u001b[0;34m)\u001b[0m\u001b[0;34m\u001b[0m\u001b[0m\n\u001b[0m",
      "\u001b[0;32m/usr/lib/python3.5/unittest/main.py\u001b[0m in \u001b[0;36m__init__\u001b[0;34m(self, module, defaultTest, argv, testRunner, testLoader, exit, verbosity, failfast, catchbreak, buffer, warnings, tb_locals)\u001b[0m\n\u001b[1;32m     93\u001b[0m         \u001b[0mself\u001b[0m\u001b[0;34m.\u001b[0m\u001b[0mparseArgs\u001b[0m\u001b[0;34m(\u001b[0m\u001b[0margv\u001b[0m\u001b[0;34m)\u001b[0m\u001b[0;34m\u001b[0m\u001b[0m\n\u001b[0;32m---> 94\u001b[0;31m         \u001b[0mself\u001b[0m\u001b[0;34m.\u001b[0m\u001b[0mrunTests\u001b[0m\u001b[0;34m(\u001b[0m\u001b[0;34m)\u001b[0m\u001b[0;34m\u001b[0m\u001b[0m\n\u001b[0m\u001b[1;32m     95\u001b[0m \u001b[0;34m\u001b[0m\u001b[0m\n",
      "\u001b[0;32m/usr/lib/python3.5/unittest/main.py\u001b[0m in \u001b[0;36mrunTests\u001b[0;34m(self)\u001b[0m\n\u001b[1;32m    256\u001b[0m         \u001b[0;32mif\u001b[0m \u001b[0mself\u001b[0m\u001b[0;34m.\u001b[0m\u001b[0mexit\u001b[0m\u001b[0;34m:\u001b[0m\u001b[0;34m\u001b[0m\u001b[0m\n\u001b[0;32m--> 257\u001b[0;31m             \u001b[0msys\u001b[0m\u001b[0;34m.\u001b[0m\u001b[0mexit\u001b[0m\u001b[0;34m(\u001b[0m\u001b[0;32mnot\u001b[0m \u001b[0mself\u001b[0m\u001b[0;34m.\u001b[0m\u001b[0mresult\u001b[0m\u001b[0;34m.\u001b[0m\u001b[0mwasSuccessful\u001b[0m\u001b[0;34m(\u001b[0m\u001b[0;34m)\u001b[0m\u001b[0;34m)\u001b[0m\u001b[0;34m\u001b[0m\u001b[0m\n\u001b[0m\u001b[1;32m    258\u001b[0m \u001b[0;34m\u001b[0m\u001b[0m\n",
      "\u001b[0;31mSystemExit\u001b[0m: True",
      "\nDuring handling of the above exception, another exception occurred:\n",
      "\u001b[0;31mTypeError\u001b[0m                                 Traceback (most recent call last)",
      "\u001b[0;32m/usr/local/lib/python3.5/dist-packages/IPython/core/interactiveshell.py\u001b[0m in \u001b[0;36mrun_code\u001b[0;34m(self, code_obj, result)\u001b[0m\n\u001b[1;32m   2875\u001b[0m                 \u001b[0mresult\u001b[0m\u001b[0;34m.\u001b[0m\u001b[0merror_in_exec\u001b[0m \u001b[0;34m=\u001b[0m \u001b[0me\u001b[0m\u001b[0;34m\u001b[0m\u001b[0m\n\u001b[1;32m   2876\u001b[0m             \u001b[0mself\u001b[0m\u001b[0;34m.\u001b[0m\u001b[0mshowtraceback\u001b[0m\u001b[0;34m(\u001b[0m\u001b[0mexception_only\u001b[0m\u001b[0;34m=\u001b[0m\u001b[0;32mTrue\u001b[0m\u001b[0;34m)\u001b[0m\u001b[0;34m\u001b[0m\u001b[0m\n\u001b[0;32m-> 2877\u001b[0;31m             \u001b[0mwarn\u001b[0m\u001b[0;34m(\u001b[0m\u001b[0;34m\"To exit: use 'exit', 'quit', or Ctrl-D.\"\u001b[0m\u001b[0;34m,\u001b[0m \u001b[0mlevel\u001b[0m\u001b[0;34m=\u001b[0m\u001b[0;36m1\u001b[0m\u001b[0;34m)\u001b[0m\u001b[0;34m\u001b[0m\u001b[0m\n\u001b[0m\u001b[1;32m   2878\u001b[0m         \u001b[0;32mexcept\u001b[0m \u001b[0mself\u001b[0m\u001b[0;34m.\u001b[0m\u001b[0mcustom_exceptions\u001b[0m\u001b[0;34m:\u001b[0m\u001b[0;34m\u001b[0m\u001b[0m\n\u001b[1;32m   2879\u001b[0m             \u001b[0metype\u001b[0m\u001b[0;34m,\u001b[0m \u001b[0mvalue\u001b[0m\u001b[0;34m,\u001b[0m \u001b[0mtb\u001b[0m \u001b[0;34m=\u001b[0m \u001b[0msys\u001b[0m\u001b[0;34m.\u001b[0m\u001b[0mexc_info\u001b[0m\u001b[0;34m(\u001b[0m\u001b[0;34m)\u001b[0m\u001b[0;34m\u001b[0m\u001b[0m\n",
      "\u001b[0;31mTypeError\u001b[0m: 'level' is an invalid keyword argument for this function"
     ]
    }
   ],
   "source": [
    "import unittest\n",
    "from word import WordSem\n",
    "\n",
    "class TestWordSem(unittest.TestCase):\n",
    "        def test_init_simple(self):\n",
    "            obj_sem = WordSem(\"été/NC\")\n",
    "            self.assertEqual(obj_sem.form, \"été\")\n",
    "        \n",
    "        def test_init_ponct(self):\n",
    "            obj_sem = WordSem(\";/PONCT\")\n",
    "            self.assertEqual(obj_sem.form, \";\")\n",
    "\n",
    "        def test_init_apostrophe(self):\n",
    "            obj_sem = WordSem(\"aujourd'hui/NC\")\n",
    "            self.assertEqual(obj_sem.form, \"aujourd'hui\")\n",
    "\n",
    "        def test_init_slash(self):\n",
    "            obj_sem = WordSem(\"13/12/2017/NC\")\n",
    "            self.assertEqual(obj_sem.form, \"13/12/2017\")\n",
    "            \n",
    "        def test_init_hyphen(self):\n",
    "            obj_sem = WordSem(\"arc-en-ciel/NC\")\n",
    "            self.assertEqual(obj_sem.form, \"arc-en-ciel\")\n",
    "            \n",
    "            \n",
    "if __name__ == '__main__':\n",
    "    unittest.main()"
   ]
  },
  {
   "cell_type": "code",
   "execution_count": 20,
   "metadata": {
    "collapsed": false
   },
   "outputs": [
    {
     "name": "stderr",
     "output_type": "stream",
     "text": [
      "test_init_apostrophe (__main__.TestWordSem) ... FAIL\n",
      "test_init_hyphen (__main__.TestWordSem) ... FAIL\n",
      "test_init_ponct (__main__.TestWordSem) ... ERROR\n",
      "test_init_simple (__main__.TestWordSem) ... ok\n",
      "test_init_slash (__main__.TestWordSem) ... FAIL\n",
      "\n",
      "======================================================================\n",
      "ERROR: test_init_ponct (__main__.TestWordSem)\n",
      "----------------------------------------------------------------------\n",
      "Traceback (most recent call last):\n",
      "  File \"/home/clement/perso/cours/crim/2016-2017/python/python-im/test_word_sem.py\", line 11, in test_init_ponct\n",
      "    obj_sem = WordSem(\";/PONCT\")\n",
      "  File \"/home/clement/perso/cours/crim/2016-2017/python/python-im/word.py\", line 61, in __init__\n",
      "    self.form, self.pos = res.groups()\n",
      "AttributeError: 'NoneType' object has no attribute 'groups'\n",
      "\n",
      "======================================================================\n",
      "FAIL: test_init_apostrophe (__main__.TestWordSem)\n",
      "----------------------------------------------------------------------\n",
      "Traceback (most recent call last):\n",
      "  File \"/home/clement/perso/cours/crim/2016-2017/python/python-im/test_word_sem.py\", line 16, in test_init_apostrophe\n",
      "    self.assertEqual(obj_sem.form, \"aujourd'hui\")\n",
      "AssertionError: 'hui' != \"aujourd'hui\"\n",
      "- hui\n",
      "+ aujourd'hui\n",
      "\n",
      "\n",
      "======================================================================\n",
      "FAIL: test_init_hyphen (__main__.TestWordSem)\n",
      "----------------------------------------------------------------------\n",
      "Traceback (most recent call last):\n",
      "  File \"/home/clement/perso/cours/crim/2016-2017/python/python-im/test_word_sem.py\", line 24, in test_init_hyphen\n",
      "    self.assertEqual(obj_sem.form, \"arc-en-ciel\")\n",
      "AssertionError: 'ciel' != 'arc-en-ciel'\n",
      "- ciel\n",
      "+ arc-en-ciel\n",
      "\n",
      "\n",
      "======================================================================\n",
      "FAIL: test_init_slash (__main__.TestWordSem)\n",
      "----------------------------------------------------------------------\n",
      "Traceback (most recent call last):\n",
      "  File \"/home/clement/perso/cours/crim/2016-2017/python/python-im/test_word_sem.py\", line 20, in test_init_slash\n",
      "    self.assertEqual(obj_sem.form, \"13/12/2017\")\n",
      "AssertionError: '13' != '13/12/2017'\n",
      "- 13\n",
      "+ 13/12/2017\n",
      "\n",
      "\n",
      "----------------------------------------------------------------------\n",
      "Ran 5 tests in 0.008s\n",
      "\n",
      "FAILED (failures=3, errors=1)\n"
     ]
    },
    {
     "ename": "SystemExit",
     "evalue": "True",
     "output_type": "error",
     "traceback": [
      "An exception has occurred, use %tb to see the full traceback.\n",
      "\u001b[0;31mSystemExit\u001b[0m\u001b[0;31m:\u001b[0m True\n"
     ]
    }
   ],
   "source": [
    "%run test_word_sem.py -v\n",
    "# python3 test_word_sem.py -v sur votre console shell"
   ]
  },
  {
   "cell_type": "markdown",
   "metadata": {},
   "source": [
    "1 erreur, 3 échecs et un succès, il reste du travail. Vous noterez que l'ouput est suffisamment détaillé pour comprendre exactement où se situent les erreurs.  \n",
    "Je vous invite à lire la [doc de `unittest`](https://docs.python.org/3.6/library/unittest.html) pour en savoir plus sur :\n",
    "  * les méthodes `assertQuelqueChose` du modules\n",
    "  * les autres méthodes notamment `setUp` qui permet d'initialiser la classe de test avec les données nécessaires aux tests.\n",
    "  * les conseils pour organiser vos fichiers de tests et pour les appeler"
   ]
  },
  {
   "cell_type": "markdown",
   "metadata": {},
   "source": [
    "## Code et `pytest`"
   ]
  },
  {
   "cell_type": "markdown",
   "metadata": {},
   "source": [
    "`unittest` c'est bien mais un peu fastidieux à mettre en oeuvre quand même. \n",
    "Il existe plusieurs environnements tests en Python mais la meilleure alternative à `unittest` c'est [`pytest`](http://docs.pytest.org/en/latest/).  \n",
    "Avec `pytest` voici de que devient notre fichier de test : "
   ]
  },
  {
   "cell_type": "code",
   "execution_count": null,
   "metadata": {
    "collapsed": true
   },
   "outputs": [],
   "source": [
    "from word import WordSem\n",
    "\n",
    "def test_init_simple():\n",
    "    obj_sem = WordSem(\"été/NC\")\n",
    "    assert obj_sem.form == \"été\"\n",
    "        \n",
    "def test_init_ponct():\n",
    "    obj_sem = WordSem(\";/PONCT\")\n",
    "    assert obj_sem.form == \";\"\n",
    "\n",
    "def test_init_apostrophe():\n",
    "    obj_sem = WordSem(\"aujourd'hui/NC\")\n",
    "    assert obj_sem.form == \"aujourd'hui\"\n",
    "\n",
    "def test_init_slash():\n",
    "    obj_sem = WordSem(\"13/12/2017/NC\")\n",
    "    assert obj_sem.form == \"13/12/2017\""
   ]
  },
  {
   "cell_type": "markdown",
   "metadata": {},
   "source": [
    "C'est tout de suite plus attrayant.  \n",
    "Pour lancer les tests tapez la commande `pytest` ou `py.test`. C'est tout ? Oui c'est tout."
   ]
  },
  {
   "cell_type": "code",
   "execution_count": 21,
   "metadata": {
    "collapsed": false
   },
   "outputs": [
    {
     "name": "stdout",
     "output_type": "stream",
     "text": [
      "\u001b[1m============================= test session starts ==============================\u001b[0m\n",
      "platform linux -- Python 3.5.2+, pytest-3.0.3, py-1.4.31, pluggy-0.4.0\n",
      "rootdir: /home/clement/perso/cours/crim/2016-2017/python/python-im, inifile: \n",
      "collected 10 items \n",
      "\u001b[0m\n",
      "test_word_sem-2.py .FFF\n",
      "test_word_sem.py FFF.F\n",
      "exos/simple_test.py F\n",
      "\n",
      "=================================== FAILURES ===================================\n",
      "\u001b[1m\u001b[31m_______________________________ test_init_ponct ________________________________\u001b[0m\n",
      "\n",
      "\u001b[1m    def test_init_ponct():\u001b[0m\n",
      "\u001b[1m>       obj_sem = WordSem(\";/PONCT\")\u001b[0m\n",
      "\n",
      "\u001b[1m\u001b[31mtest_word_sem-2.py\u001b[0m:8: \n",
      "_ _ _ _ _ _ _ _ _ _ _ _ _ _ _ _ _ _ _ _ _ _ _ _ _ _ _ _ _ _ _ _ _ _ _ _ _ _ _ _ \n",
      "\n",
      "self = <word.WordSem object at 0x7fec1130ebe0>, formatted_str = ';/PONCT'\n",
      "\n",
      "\u001b[1m    def __init__(self, formatted_str):\u001b[0m\n",
      "\u001b[1m        \"\"\"\u001b[0m\n",
      "\u001b[1m            import a formatted_str in sem format (brown with no lemmas)\u001b[0m\n",
      "\u001b[1m            \"\"\"\u001b[0m\n",
      "\u001b[1m        pattern = re.compile(\"^(\\w+)/(\\w+)\")\u001b[0m\n",
      "\u001b[1m        res = pattern.search(formatted_str)\u001b[0m\n",
      "\u001b[1m>       self.form, self.pos = res.groups()\u001b[0m\n",
      "\u001b[1m\u001b[31mE       AttributeError: 'NoneType' object has no attribute 'groups'\u001b[0m\n",
      "\n",
      "\u001b[1m\u001b[31mword.py\u001b[0m:61: AttributeError\n",
      "\u001b[1m\u001b[31m_____________________________ test_init_apostrophe _____________________________\u001b[0m\n",
      "\n",
      "\u001b[1m    def test_init_apostrophe():\u001b[0m\n",
      "\u001b[1m>       obj_sem = WordSem(\"aujourd'hui/NC\")\u001b[0m\n",
      "\n",
      "\u001b[1m\u001b[31mtest_word_sem-2.py\u001b[0m:12: \n",
      "_ _ _ _ _ _ _ _ _ _ _ _ _ _ _ _ _ _ _ _ _ _ _ _ _ _ _ _ _ _ _ _ _ _ _ _ _ _ _ _ \n",
      "\n",
      "self = <word.WordSem object at 0x7fec112aa2e8>, formatted_str = \"aujourd'hui/NC\"\n",
      "\n",
      "\u001b[1m    def __init__(self, formatted_str):\u001b[0m\n",
      "\u001b[1m        \"\"\"\u001b[0m\n",
      "\u001b[1m            import a formatted_str in sem format (brown with no lemmas)\u001b[0m\n",
      "\u001b[1m            \"\"\"\u001b[0m\n",
      "\u001b[1m        pattern = re.compile(\"^(\\w+)/(\\w+)\")\u001b[0m\n",
      "\u001b[1m        res = pattern.search(formatted_str)\u001b[0m\n",
      "\u001b[1m>       self.form, self.pos = res.groups()\u001b[0m\n",
      "\u001b[1m\u001b[31mE       AttributeError: 'NoneType' object has no attribute 'groups'\u001b[0m\n",
      "\n",
      "\u001b[1m\u001b[31mword.py\u001b[0m:61: AttributeError\n",
      "\u001b[1m\u001b[31m_______________________________ test_init_slash ________________________________\u001b[0m\n",
      "\n",
      "\u001b[1m    def test_init_slash():\u001b[0m\n",
      "\u001b[1m        obj_sem = WordSem(\"13/12/2017/NC\")\u001b[0m\n",
      "\u001b[1m>       assert obj_sem.form == \"13/12/2017\"\u001b[0m\n",
      "\u001b[1m\u001b[31mE       assert '13' == '13/12/2017'\u001b[0m\n",
      "\u001b[1m\u001b[31mE         - 13\u001b[0m\n",
      "\u001b[1m\u001b[31mE         + 13/12/2017\u001b[0m\n",
      "\n",
      "\u001b[1m\u001b[31mtest_word_sem-2.py\u001b[0m:17: AssertionError\n",
      "\u001b[1m\u001b[31m_______________________ TestWordSem.test_init_apostrophe _______________________\u001b[0m\n",
      "\n",
      "self = <test_word_sem.TestWordSem testMethod=test_init_apostrophe>\n",
      "\n",
      "\u001b[1m    def test_init_apostrophe(self):\u001b[0m\n",
      "\u001b[1m>       obj_sem = WordSem(\"aujourd'hui/NC\")\u001b[0m\n",
      "\n",
      "\u001b[1m\u001b[31mtest_word_sem.py\u001b[0m:15: \n",
      "_ _ _ _ _ _ _ _ _ _ _ _ _ _ _ _ _ _ _ _ _ _ _ _ _ _ _ _ _ _ _ _ _ _ _ _ _ _ _ _ \n",
      "\n",
      "self = <word.WordSem object at 0x7fec1130e438>, formatted_str = \"aujourd'hui/NC\"\n",
      "\n",
      "\u001b[1m    def __init__(self, formatted_str):\u001b[0m\n",
      "\u001b[1m        \"\"\"\u001b[0m\n",
      "\u001b[1m            import a formatted_str in sem format (brown with no lemmas)\u001b[0m\n",
      "\u001b[1m            \"\"\"\u001b[0m\n",
      "\u001b[1m        pattern = re.compile(\"^(\\w+)/(\\w+)\")\u001b[0m\n",
      "\u001b[1m        res = pattern.search(formatted_str)\u001b[0m\n",
      "\u001b[1m>       self.form, self.pos = res.groups()\u001b[0m\n",
      "\u001b[1m\u001b[31mE       AttributeError: 'NoneType' object has no attribute 'groups'\u001b[0m\n",
      "\n",
      "\u001b[1m\u001b[31mword.py\u001b[0m:61: AttributeError\n",
      "\u001b[1m\u001b[31m_________________________ TestWordSem.test_init_hyphen _________________________\u001b[0m\n",
      "\n",
      "self = <test_word_sem.TestWordSem testMethod=test_init_hyphen>\n",
      "\n",
      "\u001b[1m    def test_init_hyphen(self):\u001b[0m\n",
      "\u001b[1m>       obj_sem = WordSem(\"arc-en-ciel/NC\")\u001b[0m\n",
      "\n",
      "\u001b[1m\u001b[31mtest_word_sem.py\u001b[0m:23: \n",
      "_ _ _ _ _ _ _ _ _ _ _ _ _ _ _ _ _ _ _ _ _ _ _ _ _ _ _ _ _ _ _ _ _ _ _ _ _ _ _ _ \n",
      "\n",
      "self = <word.WordSem object at 0x7fec1132a400>, formatted_str = 'arc-en-ciel/NC'\n",
      "\n",
      "\u001b[1m    def __init__(self, formatted_str):\u001b[0m\n",
      "\u001b[1m        \"\"\"\u001b[0m\n",
      "\u001b[1m            import a formatted_str in sem format (brown with no lemmas)\u001b[0m\n",
      "\u001b[1m            \"\"\"\u001b[0m\n",
      "\u001b[1m        pattern = re.compile(\"^(\\w+)/(\\w+)\")\u001b[0m\n",
      "\u001b[1m        res = pattern.search(formatted_str)\u001b[0m\n",
      "\u001b[1m>       self.form, self.pos = res.groups()\u001b[0m\n",
      "\u001b[1m\u001b[31mE       AttributeError: 'NoneType' object has no attribute 'groups'\u001b[0m\n",
      "\n",
      "\u001b[1m\u001b[31mword.py\u001b[0m:61: AttributeError\n",
      "\u001b[1m\u001b[31m_________________________ TestWordSem.test_init_ponct __________________________\u001b[0m\n",
      "\n",
      "self = <test_word_sem.TestWordSem testMethod=test_init_ponct>\n",
      "\n",
      "\u001b[1m    def test_init_ponct(self):\u001b[0m\n",
      "\u001b[1m>       obj_sem = WordSem(\";/PONCT\")\u001b[0m\n",
      "\n",
      "\u001b[1m\u001b[31mtest_word_sem.py\u001b[0m:11: \n",
      "_ _ _ _ _ _ _ _ _ _ _ _ _ _ _ _ _ _ _ _ _ _ _ _ _ _ _ _ _ _ _ _ _ _ _ _ _ _ _ _ \n",
      "\n",
      "self = <word.WordSem object at 0x7fec112aa9b0>, formatted_str = ';/PONCT'\n",
      "\n",
      "\u001b[1m    def __init__(self, formatted_str):\u001b[0m\n",
      "\u001b[1m        \"\"\"\u001b[0m\n",
      "\u001b[1m            import a formatted_str in sem format (brown with no lemmas)\u001b[0m\n",
      "\u001b[1m            \"\"\"\u001b[0m\n",
      "\u001b[1m        pattern = re.compile(\"^(\\w+)/(\\w+)\")\u001b[0m\n",
      "\u001b[1m        res = pattern.search(formatted_str)\u001b[0m\n",
      "\u001b[1m>       self.form, self.pos = res.groups()\u001b[0m\n",
      "\u001b[1m\u001b[31mE       AttributeError: 'NoneType' object has no attribute 'groups'\u001b[0m\n",
      "\n",
      "\u001b[1m\u001b[31mword.py\u001b[0m:61: AttributeError\n",
      "\u001b[1m\u001b[31m_________________________ TestWordSem.test_init_slash __________________________\u001b[0m\n",
      "\n",
      "self = <test_word_sem.TestWordSem testMethod=test_init_slash>\n",
      "\n",
      "\u001b[1m    def test_init_slash(self):\u001b[0m\n",
      "\u001b[1m        obj_sem = WordSem(\"13/12/2017/NC\")\u001b[0m\n",
      "\u001b[1m>       self.assertEqual(obj_sem.form, \"13/12/2017\")\u001b[0m\n",
      "\u001b[1m\u001b[31mE       AssertionError: '13' != '13/12/2017'\u001b[0m\n",
      "\u001b[1m\u001b[31mE       - 13\u001b[0m\n",
      "\u001b[1m\u001b[31mE       + 13/12/2017\u001b[0m\n",
      "\n",
      "\u001b[1m\u001b[31mtest_word_sem.py\u001b[0m:20: AssertionError\n",
      "\u001b[1m\u001b[31m_________________________________ test_answer __________________________________\u001b[0m\n",
      "\n",
      "\u001b[1m    def test_answer():\u001b[0m\n",
      "\u001b[1m>       assert func(3) == 5\u001b[0m\n",
      "\u001b[1m\u001b[31mE       assert 4 == 5\u001b[0m\n",
      "\u001b[1m\u001b[31mE        +  where 4 = func(3)\u001b[0m\n",
      "\n",
      "\u001b[1m\u001b[31mexos/simple_test.py\u001b[0m:5: AssertionError\n",
      "\u001b[1m\u001b[31m====================== 8 failed, 2 passed in 0.21 seconds ======================\u001b[0m\n"
     ]
    }
   ],
   "source": [
    "!pytest"
   ]
  },
  {
   "cell_type": "markdown",
   "metadata": {},
   "source": [
    "## `doctest`"
   ]
  },
  {
   "cell_type": "markdown",
   "metadata": {},
   "source": [
    "Le module `doctest` permet d'insérer des tests dans les docstrings. Les tests ne seront pas dans un ou des fichiers distincts mais directement dans le code.  \n",
    "Les tests sont écrits à la manière d'une session python dans le shell.  \n",
    "Vous noterez l'appel au module à la fin du fichier"
   ]
  },
  {
   "cell_type": "code",
   "execution_count": 22,
   "metadata": {
    "collapsed": false
   },
   "outputs": [],
   "source": [
    "class WordTreeTagger(Word):\n",
    "    def __init__(self, formatted_str):\n",
    "        \"\"\"\n",
    "        import a formatted_str in treetagger format\n",
    "        \"\"\"\n",
    "        pattern = re.compile(\"(\\w+)\\t(\\w+)\\t(\\w+)\")\n",
    "        res = pattern.search(formatted_str)\n",
    "        self.form, self.lemma, self.pos = res.groups()\n",
    "\n",
    "class WordBrown(Word):\n",
    "    def __init__(self, formatted_str):\n",
    "        \"\"\"\n",
    "        import a formatted_str in brown format\n",
    "        \"\"\"\n",
    "        pattern = re.compile(\"(\\w+)/(\\w+)/(\\w+)\")\n",
    "        res = pattern.search(formatted_str)\n",
    "        self.form, self.lemma, self.pos = res.groups()\n",
    "\n",
    "class WordSem(Word):\n",
    "    def __init__(self, formatted_str):\n",
    "        \"\"\"\n",
    "        import a formatted_str in sem format (brown with no lemmas)\n",
    "        \n",
    "        >>> obj_sem = WordSem(\"été/NC\")\n",
    "        >>> obj_sem.form\n",
    "        'été'\n",
    "        \"\"\"\n",
    "        pattern = re.compile(\"(\\w+)/(\\w+)\")\n",
    "        res = pattern.search(formatted_str)\n",
    "        self.form, self.pos = res.groups()\n",
    "        self.lemma = \"\"\n",
    "\n",
    "if __name__ == \"__main__\":\n",
    "    import doctest\n",
    "    doctest.testmod()"
   ]
  },
  {
   "cell_type": "markdown",
   "metadata": {},
   "source": [
    "On appelle les tests avec la commande `python3 monficher.py` tout simplement, il ne se passe rien si les tests sont validés. Plus de détails avec l'option `-v`."
   ]
  },
  {
   "cell_type": "code",
   "execution_count": 23,
   "metadata": {
    "collapsed": false
   },
   "outputs": [
    {
     "name": "stdout",
     "output_type": "stream",
     "text": [
      "**********************************************************************\n",
      "File \"__main__\", line 10, in __main__.WordSem.__init__\n",
      "Failed example:\n",
      "    obj_sem = WordSem(\";/PONCT\")\n",
      "Exception raised:\n",
      "    Traceback (most recent call last):\n",
      "      File \"/usr/lib/python3.5/doctest.py\", line 1321, in __run\n",
      "        compileflags, 1), test.globs)\n",
      "      File \"<doctest __main__.WordSem.__init__[2]>\", line 1, in <module>\n",
      "        obj_sem = WordSem(\";/PONCT\")\n",
      "      File \"<ipython-input-23-5bcb83dc1f79>\", line 25, in __init__\n",
      "        self.form, self.pos = res.groups()\n",
      "    AttributeError: 'NoneType' object has no attribute 'groups'\n",
      "**********************************************************************\n",
      "File \"__main__\", line 11, in __main__.WordSem.__init__\n",
      "Failed example:\n",
      "    obj_sem.form\n",
      "Expected:\n",
      "    ';'\n",
      "Got:\n",
      "    'été'\n",
      "**********************************************************************\n",
      "File \"__main__\", line 15, in __main__.WordSem.__init__\n",
      "Failed example:\n",
      "    obj_sem.form\n",
      "Expected:\n",
      "    \"aujourd'hui\"\n",
      "Got:\n",
      "    'hui'\n",
      "**********************************************************************\n",
      "File \"__main__\", line 19, in __main__.WordSem.__init__\n",
      "Failed example:\n",
      "    obj_sem.form\n",
      "Expected:\n",
      "    '13/12/2017'\n",
      "Got:\n",
      "    '13'\n",
      "**********************************************************************\n",
      "1 items had failures:\n",
      "   4 of   8 in __main__.WordSem.__init__\n",
      "***Test Failed*** 4 failures.\n"
     ]
    }
   ],
   "source": [
    "class WordSem(Word):\n",
    "    def __init__(self, formatted_str):\n",
    "        \"\"\"\n",
    "        import a formatted_str in sem format (brown with no lemmas)\n",
    "        \n",
    "        >>> obj_sem = WordSem(\"été/NC\")\n",
    "        >>> obj_sem.form\n",
    "        'été'\n",
    "        \n",
    "        >>> obj_sem = WordSem(\";/PONCT\")\n",
    "        >>> obj_sem.form\n",
    "        ';'\n",
    "\n",
    "        >>> obj_sem = WordSem(\"aujourd'hui/NC\")\n",
    "        >>> obj_sem.form\n",
    "        \"aujourd'hui\"\n",
    "\n",
    "        >>> obj_sem = WordSem(\"13/12/2017/NC\")\n",
    "        >>> obj_sem.form\n",
    "        '13/12/2017'\n",
    "\n",
    "        \"\"\"\n",
    "        pattern = re.compile(\"(\\w+)/(\\w+)\")\n",
    "        res = pattern.search(formatted_str)\n",
    "        self.form, self.pos = res.groups()\n",
    "        self.lemma = \"\"\n",
    "\n",
    "if __name__ == \"__main__\":\n",
    "    import doctest\n",
    "    doctest.testmod()"
   ]
  },
  {
   "cell_type": "code",
   "execution_count": null,
   "metadata": {
    "collapsed": true
   },
   "outputs": [],
   "source": []
  },
  {
   "cell_type": "markdown",
   "metadata": {},
   "source": [
    "Pour des tests simples, comme les nôtres ici, `doctest` est parfait. C'est léger, pas de fichier distinct et en plus les tests permettent de documenter le code et son utilisation.  \n",
    "`doctest` ne convient pas par contre aux tests qui nécessitent une initialisation lourde (connexion à une base de données par ex.). On ne trouve pas d'équivalent de la méthode `setUp` de `unittest` ou des fixtures de `pytest` dont on n'a pas parlé.  \n",
    "Rien ne vous empêche d'utiliser `doctest` et `pytest` par exemple."
   ]
  },
  {
   "cell_type": "markdown",
   "metadata": {},
   "source": [
    "Il ne nous reste plus qu'à corriger le code pour passer les tests maintenant."
   ]
  },
  {
   "cell_type": "code",
   "execution_count": null,
   "metadata": {
    "collapsed": true
   },
   "outputs": [],
   "source": []
  }
 ],
 "metadata": {
  "kernelspec": {
   "display_name": "Python 3",
   "language": "python",
   "name": "python3"
  },
  "language_info": {
   "codemirror_mode": {
    "name": "ipython",
    "version": 3
   },
   "file_extension": ".py",
   "mimetype": "text/x-python",
   "name": "python",
   "nbconvert_exporter": "python",
   "pygments_lexer": "ipython3",
   "version": "3.5.2+"
  }
 },
 "nbformat": 4,
 "nbformat_minor": 0
}
