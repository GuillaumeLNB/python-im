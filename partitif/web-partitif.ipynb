{
 "cells": [
  {
   "cell_type": "markdown",
   "metadata": {},
   "source": [
    "# Atelier web avec Python"
   ]
  },
  {
   "cell_type": "markdown",
   "metadata": {},
   "source": [
    "L'objectif de cet atelier est de travailler sur un cas concret. Il s'agit de trouver une solution à un petit problème et de le mettre en oeuvre avec Python, ce n'est pas une présentation générale du web avec Python ou même d'un framework.\n",
    "\n",
    "Quel est ce problème ? Guersande a bossé sur les partitifs en finnois à partir du corpus [Europarl](http://www.statmt.org/europarl/). Le résultat de son travail est présenté dans une page web : [apps.lattice.cnrs.fr/partitif](http://apps.lattice.cnrs.fr/partitif)  \n",
    "Rien à dire sur le travail mené, ni même sur la présentation des résultats mais la page web générée pèse 319 Mo 😨😨😨. C'est trop, beaucoup trop.  \n",
    "Notre problème à résoudre est : **comment réduire la taille du fichier html sans trop modifier sa structure et sa présentation ?**\n",
    "\n",
    "Une solution aurait pu être de paginer les résultats, ce qui reviendrait à avoir plusieurs pages html statiques au lieu d'une. C'est facile à mettre en oeuvre et cela résoud le problème mais l'utilisateur perd la vue sur l'intégralité des résultats. Et puis avec cette solution ce notebook n'aurait pas lieu d'être.\n",
    "\n",
    "Celle que l'on va essayer de mettre en oeuvre ne change rien pour l'utilisateur : il a tous les lemmes sur une seule page et il peut afficher les exemples à la demande.  \n",
    "Les exemples c'est précisement là-dessus que l'on va opérer le changement. Dans la version actuelle les exemples sont cachés/montrés avec le clic de l'utilisateur mais ils sont inclus dans le code html, c'est même eux qui sont en grande partie responsables de la taille de la page. L'idée ici est de les extraire de la page afin de l'alléger et de les inclure uniquement lors du clic de l'utilisateur."
   ]
  },
  {
   "cell_type": "markdown",
   "metadata": {},
   "source": [
    "## Extraction des exemples\n",
    "\n",
    "Le premier truc qu'on va devoir faire sur la page est d'extraire les exemples de la page web et les stocker autre part, on verra où après.\n",
    "\n",
    "Pour s'exercer on va travailler sur un fichier réduit, on passera au gros fichier une fois que tout sera au point. Le fichier de travail est `test.html`.\n",
    "\n",
    "Je donne la trame, à vous de compléter : "
   ]
  },
  {
   "cell_type": "code",
   "execution_count": null,
   "metadata": {
    "collapsed": false
   },
   "outputs": [],
   "source": [
    "from bs4 import BeautifulSoup\n",
    "import json\n",
    "\n",
    "\n",
    "soup = BeautifulSoup(open(\"test.html\"), 'html.parser')\n",
    "divs = soup.find_all('div', class_=\"structure\")\n",
    "    \n",
    "verbs = dict()\n",
    "for div in divs:                                  \n",
    "    verbs[div['id']] = list()               \n",
    "    examples = div.find_all('div', class_=\"exemple\")\n",
    "    print(\"{} examples divs found for verb {}\".format(len(examples), div['id']))\n"
   ]
  },
  {
   "cell_type": "markdown",
   "metadata": {},
   "source": [
    "## HTML + JSON : et maintenant ?\n",
    "\n",
    "On a une page html avec une taille décente d'un côté (476 Ko) et un fichier json (230 Mo) avec les exemples de l'autre. Super. Notez qu'un passage on a bien élagué en supprimant le balisage html.\n",
    "\n",
    "Maintenant ben il va falloir adapter le \"voir/masquer les exemples\" de la page originale, le rendre dynamique en incluant le code html des exemples à la volée. Ça se fait en Javascript grâce à la techno [AJAX](https://fr.wikipedia.org/wiki/Ajax_%28informatique%29), et pour se simplifier la vie on va utiliser la bibliothèque JQuery."
   ]
  },
  {
   "cell_type": "markdown",
   "metadata": {},
   "source": [
    "### Modification du DOM\n",
    "\n",
    "Pour jouer avec JS le plus pratique est d'utiliser les outils inclus dans le navigateur. Dans Chrome ça s'appelle 'Developper tools' (ctrl+maj+I ou clic droit 'Inspect'), allez dans l'onglet 'Sources', ctrl+P et sélectionnez le fichier à éditer. Pour nous ce sera `flipflop.js`"
   ]
  },
  {
   "cell_type": "markdown",
   "metadata": {},
   "source": [
    "Deux fonctions nous intéressent dans ce fichier :\n",
    "* `flipflipON` est appelée par un clic sur 'voir les exemples'\n",
    "* `flipflopOFF` est appelée par un clic sur 'cacher les exemples'"
   ]
  },
  {
   "cell_type": "markdown",
   "metadata": {},
   "source": [
    "Nous allons modifier la fonction `flipflopON` et utliser la fonction JQuery `append` pour ajouter du contenu à l'élément sélectionné. Modifiez le code directement dans le naivigateur pour voir ce que ça donne."
   ]
  },
  {
   "cell_type": "markdown",
   "metadata": {},
   "source": [
    "```javascript\n",
    "function flipflopON(id1,id2)\n",
    "{\n",
    "if (document.getElementById(id1).style.display == \"none\") {\n",
    "document.getElementById(id1).style.display = \"block\";\n",
    "document.getElementById(id2).style.display = \"none\";\n",
    "$('#'+id1).append(\"<div class=\\\"exemple\\\">Youhou !</div>\")\n",
    "}\n",
    "else    {document.getElementById(id1).style.display = \"none\";\n",
    "document.getElementById(id2).style.display = \"block\";\n",
    "}\n",
    "}\n",
    "```"
   ]
  },
  {
   "cell_type": "markdown",
   "metadata": {},
   "source": [
    "C'est cool ça marche mais si vous \"voir/masquer\" plusieurs fois vous verrez que les éléments ajoutés sont conservés. Il va falloir modifier aussi la fonction `flipflopOFF` pour faire le ménage."
   ]
  },
  {
   "cell_type": "markdown",
   "metadata": {},
   "source": [
    "```javascript\n",
    "function flipflopOFF(id1,id2)\n",
    "{\n",
    "if (document.getElementById(id1).style.display == \"none\") {\n",
    "document.getElementById(id1).style.display = \"block\";\n",
    "document.getElementById(id2).style.display = \"none\";\n",
    "$('#'+id2+\">div.exemple\").remove();\n",
    "}\n",
    "else\t{document.getElementById(id1).style.display = \"block\";\n",
    "document.getElementById(id2).style.display = \"none\";\n",
    "}\n",
    "}\n",
    "```"
   ]
  },
  {
   "cell_type": "markdown",
   "metadata": {},
   "source": [
    "### Conversion du json en html\n",
    "\n",
    "C'est bien c'est bien mais nous on a du json en entrée. Il nous faut une fonction qui transforme du json dans l'html désiré. Au travail.\n",
    "\n",
    "Voici un exemple d'entrée JSON pour 3 exemples du verbe 'keskittää' :"
   ]
  },
  {
   "cell_type": "markdown",
   "metadata": {},
   "source": [
    "```json\n",
    "[{\"sp\": \" keskittää + keskustelu (Nom\\n)\", \"phrase\": \"Olisi siis virhe keskittää Euroopan parlamentin vuoden 2001 talousarviota koskeva keskustelu pelkästään tähän kysymykseen. \"},{\"sp\": \" keskittää + kaikki (Nom\\n)\", \"phrase\":\"Keskititte kaikki tietenkin puheenvuoronne rauhanprosessiin ja neuvotteluihin, jotka ovat epäilemättä edistymisen avaintekijöitä tällä Lähi-idän alueella. \"}, {\"sp\": \" keskittää + puheen#vuoro (Nom\\n)\", \"phrase\":\"Keskititte kaikki tietenkin puheenvuoronne rauhanprosessiin ja neuvotteluihin, jotka ovat epäilemättä edistymisen avaintekijöitä tällä Lähi-idän alueella. \"}]\n",
    "```"
   ]
  },
  {
   "cell_type": "markdown",
   "metadata": {},
   "source": [
    "Qui devra donner en html :"
   ]
  },
  {
   "cell_type": "code",
   "execution_count": null,
   "metadata": {
    "collapsed": false
   },
   "outputs": [],
   "source": [
    "%%html\n",
    "<div class=\"exemple\">\n",
    "<div class=\"sp\">keskittää + keskustelu (Nom\\n)</div>\n",
    "<div class=\"phrase\">Olisi siis virhe keskittää Euroopan parlamentin vuoden 2001 talousarviota koskeva keskustelu pelkästään tähän kysymykseen.</div>\n",
    "</div>"
   ]
  },
  {
   "cell_type": "markdown",
   "metadata": {},
   "source": [
    "Pour cela nous allons utiliser la fonction [each](http://api.jquery.com/jquery.each/) de JQuery qui permet d'itérer sur des objets ou des tableaux.\n",
    "\n",
    "Copiez-collez dans Developper Tools dans le navigateur et regardez ce que ça donne."
   ]
  },
  {
   "cell_type": "markdown",
   "metadata": {},
   "source": [
    "```javascript\n",
    "function flipflopON(id1,id2)\n",
    "{\n",
    "examples = [{\"sp\": \" keskittää + keskustelu (Nom\\n)\", \"phrase\": \"Olisi siis virhe keskittää Euroopan parlamentin vuoden 2001 talousarviota koskeva keskustelu pelkästään tähän kysymykseen. \"},{\"sp\": \" keskittää + kaikki (Nom\\n)\", \"phrase\":\"Keskititte kaikki tietenkin puheenvuoronne rauhanprosessiin ja neuvotteluihin, jotka ovat epäilemättä edistymisen avaintekijöitä tällä Lähi-idän alueella. \"}, {\"sp\": \" keskittää + puheen#vuoro (Nom\\n)\", \"phrase\":\"Keskititte kaikki tietenkin puheenvuoronne rauhanprosessiin ja neuvotteluihin, jotka ovat epäilemättä edistymisen avaintekijöitä tällä Lähi-idän alueella. \"}]\n",
    "\n",
    "if (document.getElementById(id1).style.display == \"none\") {\n",
    "document.getElementById(id1).style.display = \"block\";\n",
    "document.getElementById(id2).style.display = \"none\";\n",
    "\n",
    "$.each(examples, function(index, example){\n",
    "    ex_elem = $('<div/>', {'class': 'exemple'}).append(\n",
    "        $('<div/>', {'class': 'sp', 'text': example.sp}),\n",
    "        $('<div/>', {'class': 'phrase', 'text': example.phrase})\n",
    "    );\n",
    "   $('#'+id1).append(ex_elem); \n",
    "});\n",
    "}\n",
    "else\t{document.getElementById(id1).style.display = \"none\";\n",
    "document.getElementById(id2).style.display = \"block\";\n",
    "}\n",
    "}\n",
    "```"
   ]
  },
  {
   "cell_type": "markdown",
   "metadata": {},
   "source": [
    "À ce stade nous sommes capables d'afficher les exemples à partir d'une donnée JSON : parcourir le JSON, générer le code html pour emballer les données et modifier le DOM. Tout ça piloté par les clics de l'utilisateur.\n",
    "\n",
    "### Service Python\n",
    "On avance mais notre exemple fonctionne avec une donnée en dur. Ce qu'il nous faut maintenant c'est récupérer le tableau d'exemples correspondants à un verbe donné. Cela signifie :\n",
    "1. Charger le fichier `verbs.json`, trouver le tableau des exemples pour un verbe donné et le renvoyer. Fonction Python, facile.\n",
    "2. \"Servir\" le résultat en json. Avec Flask, pas bien compliqué.\n",
    "3. Appeler le serveur flask en JS côté client"
   ]
  },
  {
   "cell_type": "markdown",
   "metadata": {},
   "source": [
    "Un peu à l'arrache on peut faire un truc comme ça avec Flask : "
   ]
  },
  {
   "cell_type": "code",
   "execution_count": null,
   "metadata": {
    "collapsed": true
   },
   "outputs": [],
   "source": [
    "from flask import Flask, jsonify\n",
    "import json\n",
    "\n",
    "examples = json.load(open(\"examples.json\"))\n",
    "\n",
    "app = Flask(__name__)\n",
    "\n",
    "@app.route('/<verb>')\n",
    "def hello_world(verb):\n",
    "    \n",
    "    if verb in examples:\n",
    "        res = examples[verb]\n",
    "    else:\n",
    "        res = \"\"\n",
    "    return jsonify(res)\n",
    "\n",
    "if __name__ == '__main__':\n",
    "    app.run()"
   ]
  },
  {
   "cell_type": "markdown",
   "metadata": {},
   "source": [
    "C'est tout ? Oui (enfin presque). Essayez avec les url http://localhost:5000/pilata, http://localhost:5000/keskittää, http://localhost:5000/machin  \n",
    "Ce n'est pas vraiment la solution idéale, dans la vraie vie on pourra utiliser [redis](https://redis.io/) pour éviter de charger les 230 Mo de json en mémoire avec Flask mais ça ajoute (encore) une techno. Ça se discute, c'est selon les compétences et les habitudes du dév.\n",
    "\n",
    "### Et côté client ?\n",
    "\n",
    "JQuery nous facilite bien la vie, encore une fois on y trouve la fonction qu'il nous faut : [ajax](http://api.jquery.com/jquery.ajax/)"
   ]
  },
  {
   "cell_type": "markdown",
   "metadata": {},
   "source": [
    "```javascript\n",
    "function flipflopON(id1,id2)\n",
    "{\n",
    "    if (document.getElementById(id1).style.display == \"none\") {\n",
    "\tdocument.getElementById(id1).style.display = \"block\";\n",
    "\tdocument.getElementById(id2).style.display = \"none\";\n",
    "\tverb = id1.substring(7) //contenupilata -> pilata\n",
    "\t\n",
    "\t$.ajax({\n",
    "\t    url: 'http://localhost:5000/'+verb,\n",
    "\t    type: \"GET\",\n",
    "\t    success: function(examples){\n",
    "\t\t$.each(examples, function(index, example){\n",
    "\t\t    ex_elem = $('<div/>', {'class': 'exemple'}).append(\n",
    "\t\t\t$('<div/>', {'class': 'sp', 'text': example.sp}),\n",
    "\t\t\t$('<div/>', {'class': 'phrase', 'text': example.phrase})\n",
    "\t\t    );      \n",
    "\t\t    $('#'+id1).append(ex_elem); \n",
    "\t\t});\n",
    "\t\t\n",
    "\t    }\n",
    "\t});\n",
    "    }\n",
    "    else{\n",
    "\tdocument.getElementById(id1).style.display = \"none\";\n",
    "\tdocument.getElementById(id2).style.display = \"block\";\n",
    "    }\n",
    "}\n",
    "```"
   ]
  },
  {
   "cell_type": "markdown",
   "metadata": {},
   "source": [
    "Et ça marche !!\n",
    "\n",
    "Ça marche en local en tout cas. Le plus compliqué dans tout ça est sans doute le déploiement sur un serveur de production. Flask ne **doit pas** être utilisé en prod directement, voir http://flask.pocoo.org/docs/0.12/deploying/#deployment  \n",
    "Si on a la main sur le serveur Gunicorn est une option fiable et facile à mettre en oeuvre.  \n",
    "Il reste d'autres questions relatives au déploiement mais elles sont un peu hors sujet ici."
   ]
  }
 ],
 "metadata": {
  "kernelspec": {
   "display_name": "Python 3",
   "language": "python",
   "name": "python3"
  },
  "language_info": {
   "codemirror_mode": {
    "name": "ipython",
    "version": 3
   },
   "file_extension": ".py",
   "mimetype": "text/x-python",
   "name": "python",
   "nbconvert_exporter": "python",
   "pygments_lexer": "ipython3",
   "version": "3.5.2+"
  }
 },
 "nbformat": 4,
 "nbformat_minor": 0
}
