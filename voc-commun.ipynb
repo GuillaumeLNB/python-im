{
 "cells": [
  {
   "cell_type": "markdown",
   "metadata": {},
   "source": [
    "# Vocabulaire commun"
   ]
  },
  {
   "cell_type": "markdown",
   "metadata": {},
   "source": [
    "Nous allons déterminer quel est le vocabulaire commun de deux textes différents."
   ]
  },
  {
   "cell_type": "markdown",
   "metadata": {},
   "source": [
    "Nous travaillerons sur un texte de Balzac ('balzac_petits-bourgeois.txt') et un texte de Zola ('zola_ventre-de-paris.txt')"
   ]
  },
  {
   "cell_type": "markdown",
   "metadata": {},
   "source": [
    "## Comptage\n",
    "\n",
    "Nous commencerons par lister les mots de chaque texte et compter le nombre d'occurences de chacun de ses mots"
   ]
  },
  {
   "cell_type": "code",
   "execution_count": 17,
   "metadata": {},
   "outputs": [],
   "source": [
    "from collections import Counter\n",
    "\n",
    "def text2counter(file_name):\n",
    "    \"\"\" Read the given file, split each line,\n",
    "    count the token frequency\n",
    "    args: file_name (str)\n",
    "    return: collections.Counter\n",
    "    \"\"\"\n",
    "    cnt = Counter()\n",
    "    with open(file_name, \"r\") as f:\n",
    "        for line in f:\n",
    "            line = line.rstrip()\n",
    "            for token in line.split(\" \"):\n",
    "                cnt[token] += 1\n",
    "    return cnt"
   ]
  },
  {
   "cell_type": "code",
   "execution_count": 19,
   "metadata": {},
   "outputs": [
    {
     "name": "stdout",
     "output_type": "stream",
     "text": [
      "Nombre de types dans Zola : 18969\n",
      "Nombre de types dans Balzac : 8719\n"
     ]
    }
   ],
   "source": [
    "cnt_file1 = text2counter(\"zola_ventre-de-paris.txt\") \n",
    "cnt_file2 = text2counter(\"balzac_petits-bourgeois.txt\") \n",
    "print(\"Nombre de types dans Zola : {}\".format(len(cnt_file1.keys())))\n",
    "print(\"Nombre de types dans Balzac : {}\".format(len(cnt_file2.keys())))"
   ]
  },
  {
   "cell_type": "markdown",
   "metadata": {},
   "source": [
    "## Intersection\n",
    "\n",
    "Nous allons nous appuyer sur le calcul ensembliste d'intersection pour déterminer le vocabulaire commun des deux textes"
   ]
  },
  {
   "cell_type": "code",
   "execution_count": 20,
   "metadata": {},
   "outputs": [
    {
     "name": "stdout",
     "output_type": "stream",
     "text": [
      "Nombre de mots en commun : 3586\n"
     ]
    }
   ],
   "source": [
    "\n",
    "set_file1 = set(cnt_file1.keys())\n",
    "set_file2 = set(cnt_file2.keys())\n",
    "common_words = set_file1.intersection(set_file2)\n",
    "print(\"Nombre de mots en commun : {}\".format(len(common_words)))"
   ]
  },
  {
   "cell_type": "markdown",
   "metadata": {},
   "source": [
    "## Affichage du résultat"
   ]
  },
  {
   "cell_type": "markdown",
   "metadata": {},
   "source": [
    "Pour chaque mot du vocabulaire commmun nous indiquerons quelle est le nombre d'occurrences dans chaque texte"
   ]
  },
  {
   "cell_type": "code",
   "execution_count": null,
   "metadata": {},
   "outputs": [],
   "source": []
  },
  {
   "cell_type": "markdown",
   "metadata": {},
   "source": [
    "## Allons plus loin\n",
    "\n",
    "  1. Compter dans chaque texte le nombre de mots qui n'apparaissent pas dans l'autre."
   ]
  },
  {
   "cell_type": "code",
   "execution_count": null,
   "metadata": {},
   "outputs": [],
   "source": []
  },
  {
   "cell_type": "markdown",
   "metadata": {},
   "source": [
    "  2. Même question que 1., mais sans tenir compte de la casse (ie en considérant que `\"Bonjour` et `\"bonjour\"` sont le même mot."
   ]
  },
  {
   "cell_type": "code",
   "execution_count": null,
   "metadata": {},
   "outputs": [],
   "source": []
  },
  {
   "cell_type": "markdown",
   "metadata": {},
   "source": [
    "  3. Combien y a-t-il d'occurences de `\"Alors,\"` dans *Les petits bourgeois*. Quel est le problème ? Sugg"
   ]
  }
 ],
 "metadata": {
  "kernelspec": {
   "display_name": "Python 3",
   "language": "python",
   "name": "python3"
  },
  "language_info": {
   "codemirror_mode": {
    "name": "ipython",
    "version": 3
   },
   "file_extension": ".py",
   "mimetype": "text/x-python",
   "name": "python",
   "nbconvert_exporter": "python",
   "pygments_lexer": "ipython3",
   "version": "3.7.0"
  }
 },
 "nbformat": 4,
 "nbformat_minor": 1
}
